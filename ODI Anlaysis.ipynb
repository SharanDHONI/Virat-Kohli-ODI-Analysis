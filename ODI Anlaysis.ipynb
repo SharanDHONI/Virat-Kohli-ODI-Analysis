{
 "cells": [
  {
   "cell_type": "code",
   "execution_count": 1,
   "metadata": {},
   "outputs": [],
   "source": [
    "import pandas as pd\n",
    "import numpy as np\n",
    "import seaborn as sns\n",
    "import matplotlib.pyplot as plt\n",
    "import warnings\n",
    "warnings.filterwarnings('ignore')"
   ]
  },
  {
   "cell_type": "code",
   "execution_count": 2,
   "metadata": {},
   "outputs": [],
   "source": [
    "df = pd.read_csv('Virat_Kohli_ODI_Data - Sheet1 - Clean.csv')"
   ]
  },
  {
   "cell_type": "code",
   "execution_count": 3,
   "metadata": {},
   "outputs": [
    {
     "data": {
      "text/html": [
       "<div>\n",
       "<style scoped>\n",
       "    .dataframe tbody tr th:only-of-type {\n",
       "        vertical-align: middle;\n",
       "    }\n",
       "\n",
       "    .dataframe tbody tr th {\n",
       "        vertical-align: top;\n",
       "    }\n",
       "\n",
       "    .dataframe thead th {\n",
       "        text-align: right;\n",
       "    }\n",
       "</style>\n",
       "<table border=\"1\" class=\"dataframe\">\n",
       "  <thead>\n",
       "    <tr style=\"text-align: right;\">\n",
       "      <th></th>\n",
       "      <th>Match_No</th>\n",
       "      <th>Date</th>\n",
       "      <th>Versus</th>\n",
       "      <th>Ground</th>\n",
       "      <th>D/N</th>\n",
       "      <th>Dismissal_Type</th>\n",
       "      <th>Runs</th>\n",
       "      <th>Balls_Faced</th>\n",
       "      <th>Strike_Rate</th>\n",
       "      <th>Progressive_Aggr</th>\n",
       "      <th>Progressive_Avg</th>\n",
       "      <th>Progressive_Strike_Rate</th>\n",
       "    </tr>\n",
       "  </thead>\n",
       "  <tbody>\n",
       "    <tr>\n",
       "      <th>0</th>\n",
       "      <td>1</td>\n",
       "      <td>18-08-2008</td>\n",
       "      <td>Sri Lanka</td>\n",
       "      <td>Rangiri Dambulla International Stadium</td>\n",
       "      <td>0</td>\n",
       "      <td>lbw b K M D N Kulasekara</td>\n",
       "      <td>12</td>\n",
       "      <td>22.0</td>\n",
       "      <td>54.55</td>\n",
       "      <td>12</td>\n",
       "      <td>12.00</td>\n",
       "      <td>54.55</td>\n",
       "    </tr>\n",
       "    <tr>\n",
       "      <th>1</th>\n",
       "      <td>2</td>\n",
       "      <td>20-08-2008</td>\n",
       "      <td>Sri Lanka</td>\n",
       "      <td>Rangiri Dambulla International Stadium</td>\n",
       "      <td>0</td>\n",
       "      <td>c C K Kapugedera b T Thushara</td>\n",
       "      <td>37</td>\n",
       "      <td>67.0</td>\n",
       "      <td>55.22</td>\n",
       "      <td>49</td>\n",
       "      <td>24.50</td>\n",
       "      <td>55.06</td>\n",
       "    </tr>\n",
       "    <tr>\n",
       "      <th>2</th>\n",
       "      <td>3</td>\n",
       "      <td>24-08-2008</td>\n",
       "      <td>Sri Lanka</td>\n",
       "      <td>R Premadasa Stadium</td>\n",
       "      <td>1</td>\n",
       "      <td>run out</td>\n",
       "      <td>25</td>\n",
       "      <td>38.0</td>\n",
       "      <td>65.79</td>\n",
       "      <td>74</td>\n",
       "      <td>24.67</td>\n",
       "      <td>58.27</td>\n",
       "    </tr>\n",
       "    <tr>\n",
       "      <th>3</th>\n",
       "      <td>4</td>\n",
       "      <td>27-08-2008</td>\n",
       "      <td>Sri Lanka</td>\n",
       "      <td>R Premadasa Stadium</td>\n",
       "      <td>1</td>\n",
       "      <td>b T Thushara</td>\n",
       "      <td>54</td>\n",
       "      <td>66.0</td>\n",
       "      <td>81.82</td>\n",
       "      <td>128</td>\n",
       "      <td>32.00</td>\n",
       "      <td>66.32</td>\n",
       "    </tr>\n",
       "    <tr>\n",
       "      <th>4</th>\n",
       "      <td>5</td>\n",
       "      <td>29-08-2008</td>\n",
       "      <td>Sri Lanka</td>\n",
       "      <td>R Premadasa Stadium</td>\n",
       "      <td>1</td>\n",
       "      <td>lbw b K M D N Kulasekara</td>\n",
       "      <td>31</td>\n",
       "      <td>46.0</td>\n",
       "      <td>67.39</td>\n",
       "      <td>159</td>\n",
       "      <td>31.80</td>\n",
       "      <td>66.53</td>\n",
       "    </tr>\n",
       "  </tbody>\n",
       "</table>\n",
       "</div>"
      ],
      "text/plain": [
       "   Match_No        Date     Versus                                  Ground  \\\n",
       "0         1  18-08-2008  Sri Lanka  Rangiri Dambulla International Stadium   \n",
       "1         2  20-08-2008  Sri Lanka  Rangiri Dambulla International Stadium   \n",
       "2         3  24-08-2008  Sri Lanka                     R Premadasa Stadium   \n",
       "3         4  27-08-2008  Sri Lanka                     R Premadasa Stadium   \n",
       "4         5  29-08-2008  Sri Lanka                     R Premadasa Stadium   \n",
       "\n",
       "   D/N                 Dismissal_Type Runs  Balls_Faced Strike_Rate  \\\n",
       "0    0       lbw b K M D N Kulasekara   12         22.0       54.55   \n",
       "1    0  c C K Kapugedera b T Thushara   37         67.0       55.22   \n",
       "2    1                        run out   25         38.0       65.79   \n",
       "3    1                   b T Thushara   54         66.0       81.82   \n",
       "4    1       lbw b K M D N Kulasekara   31         46.0       67.39   \n",
       "\n",
       "   Progressive_Aggr  Progressive_Avg  Progressive_Strike_Rate  \n",
       "0                12            12.00                    54.55  \n",
       "1                49            24.50                    55.06  \n",
       "2                74            24.67                    58.27  \n",
       "3               128            32.00                    66.32  \n",
       "4               159            31.80                    66.53  "
      ]
     },
     "execution_count": 3,
     "metadata": {},
     "output_type": "execute_result"
    }
   ],
   "source": [
    "df.head(5)"
   ]
  },
  {
   "cell_type": "code",
   "execution_count": null,
   "metadata": {},
   "outputs": [],
   "source": []
  },
  {
   "cell_type": "markdown",
   "metadata": {},
   "source": [
    "### Info on the data"
   ]
  },
  {
   "cell_type": "code",
   "execution_count": 4,
   "metadata": {},
   "outputs": [
    {
     "name": "stdout",
     "output_type": "stream",
     "text": [
      "<class 'pandas.core.frame.DataFrame'>\n",
      "RangeIndex: 254 entries, 0 to 253\n",
      "Data columns (total 12 columns):\n",
      " #   Column                   Non-Null Count  Dtype  \n",
      "---  ------                   --------------  -----  \n",
      " 0   Match_No                 254 non-null    int64  \n",
      " 1   Date                     254 non-null    object \n",
      " 2   Versus                   254 non-null    object \n",
      " 3   Ground                   254 non-null    object \n",
      " 4   D/N                      254 non-null    int64  \n",
      " 5   Dismissal_Type           254 non-null    object \n",
      " 6   Runs                     245 non-null    object \n",
      " 7   Balls_Faced              245 non-null    float64\n",
      " 8   Strike_Rate              245 non-null    object \n",
      " 9   Progressive_Aggr         254 non-null    int64  \n",
      " 10  Progressive_Avg          254 non-null    float64\n",
      " 11  Progressive_Strike_Rate  254 non-null    float64\n",
      "dtypes: float64(3), int64(3), object(6)\n",
      "memory usage: 23.9+ KB\n"
     ]
    }
   ],
   "source": [
    "df.info()"
   ]
  },
  {
   "cell_type": "markdown",
   "metadata": {},
   "source": [
    "### Null value analysis"
   ]
  },
  {
   "cell_type": "code",
   "execution_count": 5,
   "metadata": {},
   "outputs": [
    {
     "data": {
      "text/plain": [
       "Match_No                   0\n",
       "Date                       0\n",
       "Versus                     0\n",
       "Ground                     0\n",
       "D/N                        0\n",
       "Dismissal_Type             0\n",
       "Runs                       9\n",
       "Balls_Faced                9\n",
       "Strike_Rate                9\n",
       "Progressive_Aggr           0\n",
       "Progressive_Avg            0\n",
       "Progressive_Strike_Rate    0\n",
       "dtype: int64"
      ]
     },
     "execution_count": 5,
     "metadata": {},
     "output_type": "execute_result"
    }
   ],
   "source": [
    "df.isnull().sum()"
   ]
  },
  {
   "cell_type": "markdown",
   "metadata": {},
   "source": [
    "### Data description"
   ]
  },
  {
   "cell_type": "code",
   "execution_count": 6,
   "metadata": {},
   "outputs": [
    {
     "data": {
      "text/html": [
       "<div>\n",
       "<style scoped>\n",
       "    .dataframe tbody tr th:only-of-type {\n",
       "        vertical-align: middle;\n",
       "    }\n",
       "\n",
       "    .dataframe tbody tr th {\n",
       "        vertical-align: top;\n",
       "    }\n",
       "\n",
       "    .dataframe thead th {\n",
       "        text-align: right;\n",
       "    }\n",
       "</style>\n",
       "<table border=\"1\" class=\"dataframe\">\n",
       "  <thead>\n",
       "    <tr style=\"text-align: right;\">\n",
       "      <th></th>\n",
       "      <th>count</th>\n",
       "      <th>mean</th>\n",
       "      <th>std</th>\n",
       "      <th>min</th>\n",
       "      <th>25%</th>\n",
       "      <th>50%</th>\n",
       "      <th>75%</th>\n",
       "      <th>max</th>\n",
       "    </tr>\n",
       "  </thead>\n",
       "  <tbody>\n",
       "    <tr>\n",
       "      <th>Match_No</th>\n",
       "      <td>254.0</td>\n",
       "      <td>127.500000</td>\n",
       "      <td>73.467680</td>\n",
       "      <td>1.00</td>\n",
       "      <td>64.2500</td>\n",
       "      <td>127.500</td>\n",
       "      <td>190.750</td>\n",
       "      <td>254.00</td>\n",
       "    </tr>\n",
       "    <tr>\n",
       "      <th>D/N</th>\n",
       "      <td>254.0</td>\n",
       "      <td>0.700787</td>\n",
       "      <td>0.458817</td>\n",
       "      <td>0.00</td>\n",
       "      <td>0.0000</td>\n",
       "      <td>1.000</td>\n",
       "      <td>1.000</td>\n",
       "      <td>1.00</td>\n",
       "    </tr>\n",
       "    <tr>\n",
       "      <th>Balls_Faced</th>\n",
       "      <td>245.0</td>\n",
       "      <td>53.310204</td>\n",
       "      <td>39.178471</td>\n",
       "      <td>0.00</td>\n",
       "      <td>18.0000</td>\n",
       "      <td>49.000</td>\n",
       "      <td>83.000</td>\n",
       "      <td>159.00</td>\n",
       "    </tr>\n",
       "    <tr>\n",
       "      <th>Progressive_Aggr</th>\n",
       "      <td>254.0</td>\n",
       "      <td>5562.244094</td>\n",
       "      <td>3566.665557</td>\n",
       "      <td>12.00</td>\n",
       "      <td>2356.2500</td>\n",
       "      <td>5358.000</td>\n",
       "      <td>8342.000</td>\n",
       "      <td>12169.00</td>\n",
       "    </tr>\n",
       "    <tr>\n",
       "      <th>Progressive_Avg</th>\n",
       "      <td>254.0</td>\n",
       "      <td>50.838071</td>\n",
       "      <td>6.835837</td>\n",
       "      <td>12.00</td>\n",
       "      <td>47.4725</td>\n",
       "      <td>51.450</td>\n",
       "      <td>55.010</td>\n",
       "      <td>60.31</td>\n",
       "    </tr>\n",
       "    <tr>\n",
       "      <th>Progressive_Strike_Rate</th>\n",
       "      <td>254.0</td>\n",
       "      <td>86.781181</td>\n",
       "      <td>6.505852</td>\n",
       "      <td>54.55</td>\n",
       "      <td>83.1225</td>\n",
       "      <td>89.295</td>\n",
       "      <td>91.255</td>\n",
       "      <td>93.39</td>\n",
       "    </tr>\n",
       "  </tbody>\n",
       "</table>\n",
       "</div>"
      ],
      "text/plain": [
       "                         count         mean          std    min        25%  \\\n",
       "Match_No                 254.0   127.500000    73.467680   1.00    64.2500   \n",
       "D/N                      254.0     0.700787     0.458817   0.00     0.0000   \n",
       "Balls_Faced              245.0    53.310204    39.178471   0.00    18.0000   \n",
       "Progressive_Aggr         254.0  5562.244094  3566.665557  12.00  2356.2500   \n",
       "Progressive_Avg          254.0    50.838071     6.835837  12.00    47.4725   \n",
       "Progressive_Strike_Rate  254.0    86.781181     6.505852  54.55    83.1225   \n",
       "\n",
       "                              50%       75%       max  \n",
       "Match_No                  127.500   190.750    254.00  \n",
       "D/N                         1.000     1.000      1.00  \n",
       "Balls_Faced                49.000    83.000    159.00  \n",
       "Progressive_Aggr         5358.000  8342.000  12169.00  \n",
       "Progressive_Avg            51.450    55.010     60.31  \n",
       "Progressive_Strike_Rate    89.295    91.255     93.39  "
      ]
     },
     "execution_count": 6,
     "metadata": {},
     "output_type": "execute_result"
    }
   ],
   "source": [
    "df.describe().transpose()"
   ]
  },
  {
   "cell_type": "markdown",
   "metadata": {},
   "source": [
    "### Processing the data"
   ]
  },
  {
   "cell_type": "code",
   "execution_count": 7,
   "metadata": {},
   "outputs": [],
   "source": [
    "df1 = df.copy() ## copying it to another dataframe! "
   ]
  },
  {
   "cell_type": "markdown",
   "metadata": {},
   "source": [
    "### Dropping Nulls ( as it only indicates that he Did Not Bat that innings )"
   ]
  },
  {
   "cell_type": "code",
   "execution_count": 8,
   "metadata": {},
   "outputs": [],
   "source": [
    "df1.dropna(inplace=True,axis=0)"
   ]
  },
  {
   "cell_type": "code",
   "execution_count": 9,
   "metadata": {},
   "outputs": [
    {
     "data": {
      "text/html": [
       "<div>\n",
       "<style scoped>\n",
       "    .dataframe tbody tr th:only-of-type {\n",
       "        vertical-align: middle;\n",
       "    }\n",
       "\n",
       "    .dataframe tbody tr th {\n",
       "        vertical-align: top;\n",
       "    }\n",
       "\n",
       "    .dataframe thead th {\n",
       "        text-align: right;\n",
       "    }\n",
       "</style>\n",
       "<table border=\"1\" class=\"dataframe\">\n",
       "  <thead>\n",
       "    <tr style=\"text-align: right;\">\n",
       "      <th></th>\n",
       "      <th>Match_No</th>\n",
       "      <th>Date</th>\n",
       "      <th>Versus</th>\n",
       "      <th>Ground</th>\n",
       "      <th>D/N</th>\n",
       "      <th>Dismissal_Type</th>\n",
       "      <th>Runs</th>\n",
       "      <th>Balls_Faced</th>\n",
       "      <th>Strike_Rate</th>\n",
       "      <th>Progressive_Aggr</th>\n",
       "      <th>Progressive_Avg</th>\n",
       "      <th>Progressive_Strike_Rate</th>\n",
       "    </tr>\n",
       "  </thead>\n",
       "  <tbody>\n",
       "    <tr>\n",
       "      <th>0</th>\n",
       "      <td>1</td>\n",
       "      <td>18-08-2008</td>\n",
       "      <td>Sri Lanka</td>\n",
       "      <td>Rangiri Dambulla International Stadium</td>\n",
       "      <td>0</td>\n",
       "      <td>lbw b K M D N Kulasekara</td>\n",
       "      <td>12</td>\n",
       "      <td>22.0</td>\n",
       "      <td>54.55</td>\n",
       "      <td>12</td>\n",
       "      <td>12.00</td>\n",
       "      <td>54.55</td>\n",
       "    </tr>\n",
       "    <tr>\n",
       "      <th>1</th>\n",
       "      <td>2</td>\n",
       "      <td>20-08-2008</td>\n",
       "      <td>Sri Lanka</td>\n",
       "      <td>Rangiri Dambulla International Stadium</td>\n",
       "      <td>0</td>\n",
       "      <td>c C K Kapugedera b T Thushara</td>\n",
       "      <td>37</td>\n",
       "      <td>67.0</td>\n",
       "      <td>55.22</td>\n",
       "      <td>49</td>\n",
       "      <td>24.50</td>\n",
       "      <td>55.06</td>\n",
       "    </tr>\n",
       "    <tr>\n",
       "      <th>2</th>\n",
       "      <td>3</td>\n",
       "      <td>24-08-2008</td>\n",
       "      <td>Sri Lanka</td>\n",
       "      <td>R Premadasa Stadium</td>\n",
       "      <td>1</td>\n",
       "      <td>run out</td>\n",
       "      <td>25</td>\n",
       "      <td>38.0</td>\n",
       "      <td>65.79</td>\n",
       "      <td>74</td>\n",
       "      <td>24.67</td>\n",
       "      <td>58.27</td>\n",
       "    </tr>\n",
       "    <tr>\n",
       "      <th>3</th>\n",
       "      <td>4</td>\n",
       "      <td>27-08-2008</td>\n",
       "      <td>Sri Lanka</td>\n",
       "      <td>R Premadasa Stadium</td>\n",
       "      <td>1</td>\n",
       "      <td>b T Thushara</td>\n",
       "      <td>54</td>\n",
       "      <td>66.0</td>\n",
       "      <td>81.82</td>\n",
       "      <td>128</td>\n",
       "      <td>32.00</td>\n",
       "      <td>66.32</td>\n",
       "    </tr>\n",
       "    <tr>\n",
       "      <th>4</th>\n",
       "      <td>5</td>\n",
       "      <td>29-08-2008</td>\n",
       "      <td>Sri Lanka</td>\n",
       "      <td>R Premadasa Stadium</td>\n",
       "      <td>1</td>\n",
       "      <td>lbw b K M D N Kulasekara</td>\n",
       "      <td>31</td>\n",
       "      <td>46.0</td>\n",
       "      <td>67.39</td>\n",
       "      <td>159</td>\n",
       "      <td>31.80</td>\n",
       "      <td>66.53</td>\n",
       "    </tr>\n",
       "  </tbody>\n",
       "</table>\n",
       "</div>"
      ],
      "text/plain": [
       "   Match_No        Date     Versus                                  Ground  \\\n",
       "0         1  18-08-2008  Sri Lanka  Rangiri Dambulla International Stadium   \n",
       "1         2  20-08-2008  Sri Lanka  Rangiri Dambulla International Stadium   \n",
       "2         3  24-08-2008  Sri Lanka                     R Premadasa Stadium   \n",
       "3         4  27-08-2008  Sri Lanka                     R Premadasa Stadium   \n",
       "4         5  29-08-2008  Sri Lanka                     R Premadasa Stadium   \n",
       "\n",
       "   D/N                 Dismissal_Type Runs  Balls_Faced Strike_Rate  \\\n",
       "0    0       lbw b K M D N Kulasekara   12         22.0       54.55   \n",
       "1    0  c C K Kapugedera b T Thushara   37         67.0       55.22   \n",
       "2    1                        run out   25         38.0       65.79   \n",
       "3    1                   b T Thushara   54         66.0       81.82   \n",
       "4    1       lbw b K M D N Kulasekara   31         46.0       67.39   \n",
       "\n",
       "   Progressive_Aggr  Progressive_Avg  Progressive_Strike_Rate  \n",
       "0                12            12.00                    54.55  \n",
       "1                49            24.50                    55.06  \n",
       "2                74            24.67                    58.27  \n",
       "3               128            32.00                    66.32  \n",
       "4               159            31.80                    66.53  "
      ]
     },
     "execution_count": 9,
     "metadata": {},
     "output_type": "execute_result"
    }
   ],
   "source": [
    "df1.head()"
   ]
  },
  {
   "cell_type": "markdown",
   "metadata": {},
   "source": [
    "### Creating a new feature \"Status\" (Indicates wheather he was out/Notout/DNB)"
   ]
  },
  {
   "cell_type": "code",
   "execution_count": 10,
   "metadata": {},
   "outputs": [],
   "source": [
    "status = []\n",
    "for i in df1.Runs:\n",
    "    if i.endswith('*'):\n",
    "        status.append('Not out')\n",
    "    elif i == '-':\n",
    "        status.append('DNB')\n",
    "    else:\n",
    "        status.append('Out')\n",
    "df1['Status'] = status"
   ]
  },
  {
   "cell_type": "markdown",
   "metadata": {},
   "source": [
    "### processing \"Runs\""
   ]
  },
  {
   "cell_type": "code",
   "execution_count": 11,
   "metadata": {},
   "outputs": [],
   "source": [
    "\n",
    "## Splitting the data which has a * attached to the score\n",
    "runs = []\n",
    "for i in df1['Runs']:\n",
    "    runs.append(i.split('*'))"
   ]
  },
  {
   "cell_type": "code",
   "execution_count": 12,
   "metadata": {},
   "outputs": [],
   "source": [
    "runs1=[]\n",
    "for i in runs:\n",
    "    runs1.append(i[0])\n",
    "df1['Runs'] = runs1"
   ]
  },
  {
   "cell_type": "code",
   "execution_count": 13,
   "metadata": {},
   "outputs": [],
   "source": [
    "df1['Runs'] = df1.Runs.astype(int) ##changing the dtype"
   ]
  },
  {
   "cell_type": "markdown",
   "metadata": {},
   "source": [
    "### Processing \"Balls_Faced\""
   ]
  },
  {
   "cell_type": "code",
   "execution_count": 14,
   "metadata": {},
   "outputs": [],
   "source": [
    "df1['Balls_Faced'] = df1.Balls_Faced.astype(int)"
   ]
  },
  {
   "cell_type": "markdown",
   "metadata": {},
   "source": [
    "### Processing \"Strike_Rate\""
   ]
  },
  {
   "cell_type": "code",
   "execution_count": 15,
   "metadata": {},
   "outputs": [],
   "source": [
    "strt = [] \n",
    "for i in df1.Strike_Rate:\n",
    "    if i == '-':\n",
    "        strt.append(np.NaN)\n",
    "    else:\n",
    "        strt.append(i)\n",
    "df1['Strike_Rate'] = strt\n",
    "## convering the strike rate of that 1 innings where he was run out without facing a ball to NAN "
   ]
  },
  {
   "cell_type": "code",
   "execution_count": 16,
   "metadata": {},
   "outputs": [],
   "source": [
    "df1.dropna(inplace=True,axis=0) \n",
    "## removing that datapoint"
   ]
  },
  {
   "cell_type": "code",
   "execution_count": 17,
   "metadata": {},
   "outputs": [],
   "source": [
    "df1.Strike_Rate = df1.Strike_Rate.astype(float) "
   ]
  },
  {
   "cell_type": "code",
   "execution_count": null,
   "metadata": {},
   "outputs": [],
   "source": []
  },
  {
   "cell_type": "markdown",
   "metadata": {},
   "source": [
    "### Checking the Dtypes of the processed features"
   ]
  },
  {
   "cell_type": "code",
   "execution_count": 18,
   "metadata": {},
   "outputs": [
    {
     "data": {
      "text/plain": [
       "Match_No                     int64\n",
       "Date                        object\n",
       "Versus                      object\n",
       "Ground                      object\n",
       "D/N                          int64\n",
       "Dismissal_Type              object\n",
       "Runs                         int32\n",
       "Balls_Faced                  int32\n",
       "Strike_Rate                float64\n",
       "Progressive_Aggr             int64\n",
       "Progressive_Avg            float64\n",
       "Progressive_Strike_Rate    float64\n",
       "Status                      object\n",
       "dtype: object"
      ]
     },
     "execution_count": 18,
     "metadata": {},
     "output_type": "execute_result"
    }
   ],
   "source": [
    "df1.dtypes"
   ]
  },
  {
   "cell_type": "code",
   "execution_count": 19,
   "metadata": {},
   "outputs": [
    {
     "data": {
      "text/html": [
       "<div>\n",
       "<style scoped>\n",
       "    .dataframe tbody tr th:only-of-type {\n",
       "        vertical-align: middle;\n",
       "    }\n",
       "\n",
       "    .dataframe tbody tr th {\n",
       "        vertical-align: top;\n",
       "    }\n",
       "\n",
       "    .dataframe thead th {\n",
       "        text-align: right;\n",
       "    }\n",
       "</style>\n",
       "<table border=\"1\" class=\"dataframe\">\n",
       "  <thead>\n",
       "    <tr style=\"text-align: right;\">\n",
       "      <th></th>\n",
       "      <th>count</th>\n",
       "      <th>mean</th>\n",
       "      <th>std</th>\n",
       "      <th>min</th>\n",
       "      <th>25%</th>\n",
       "      <th>50%</th>\n",
       "      <th>75%</th>\n",
       "      <th>max</th>\n",
       "    </tr>\n",
       "  </thead>\n",
       "  <tbody>\n",
       "    <tr>\n",
       "      <th>Match_No</th>\n",
       "      <td>244.0</td>\n",
       "      <td>129.008197</td>\n",
       "      <td>73.244446</td>\n",
       "      <td>1.00</td>\n",
       "      <td>65.7500</td>\n",
       "      <td>130.500</td>\n",
       "      <td>192.2500</td>\n",
       "      <td>254.00</td>\n",
       "    </tr>\n",
       "    <tr>\n",
       "      <th>D/N</th>\n",
       "      <td>244.0</td>\n",
       "      <td>0.709016</td>\n",
       "      <td>0.455150</td>\n",
       "      <td>0.00</td>\n",
       "      <td>0.0000</td>\n",
       "      <td>1.000</td>\n",
       "      <td>1.0000</td>\n",
       "      <td>1.00</td>\n",
       "    </tr>\n",
       "    <tr>\n",
       "      <th>Runs</th>\n",
       "      <td>244.0</td>\n",
       "      <td>49.872951</td>\n",
       "      <td>42.812975</td>\n",
       "      <td>0.00</td>\n",
       "      <td>11.0000</td>\n",
       "      <td>37.000</td>\n",
       "      <td>81.2500</td>\n",
       "      <td>183.00</td>\n",
       "    </tr>\n",
       "    <tr>\n",
       "      <th>Balls_Faced</th>\n",
       "      <td>244.0</td>\n",
       "      <td>53.528689</td>\n",
       "      <td>39.109154</td>\n",
       "      <td>1.00</td>\n",
       "      <td>18.0000</td>\n",
       "      <td>49.500</td>\n",
       "      <td>83.0000</td>\n",
       "      <td>159.00</td>\n",
       "    </tr>\n",
       "    <tr>\n",
       "      <th>Strike_Rate</th>\n",
       "      <td>244.0</td>\n",
       "      <td>80.520041</td>\n",
       "      <td>35.490867</td>\n",
       "      <td>0.00</td>\n",
       "      <td>64.2550</td>\n",
       "      <td>82.130</td>\n",
       "      <td>100.0000</td>\n",
       "      <td>209.09</td>\n",
       "    </tr>\n",
       "    <tr>\n",
       "      <th>Progressive_Aggr</th>\n",
       "      <td>244.0</td>\n",
       "      <td>5633.131148</td>\n",
       "      <td>3561.313814</td>\n",
       "      <td>12.00</td>\n",
       "      <td>2468.0000</td>\n",
       "      <td>5513.000</td>\n",
       "      <td>8378.7500</td>\n",
       "      <td>12169.00</td>\n",
       "    </tr>\n",
       "    <tr>\n",
       "      <th>Progressive_Avg</th>\n",
       "      <td>244.0</td>\n",
       "      <td>50.914754</td>\n",
       "      <td>6.800009</td>\n",
       "      <td>12.00</td>\n",
       "      <td>47.3700</td>\n",
       "      <td>51.485</td>\n",
       "      <td>55.1625</td>\n",
       "      <td>60.31</td>\n",
       "    </tr>\n",
       "    <tr>\n",
       "      <th>Progressive_Strike_Rate</th>\n",
       "      <td>244.0</td>\n",
       "      <td>86.886393</td>\n",
       "      <td>6.457741</td>\n",
       "      <td>54.55</td>\n",
       "      <td>83.2425</td>\n",
       "      <td>89.470</td>\n",
       "      <td>91.3375</td>\n",
       "      <td>93.39</td>\n",
       "    </tr>\n",
       "  </tbody>\n",
       "</table>\n",
       "</div>"
      ],
      "text/plain": [
       "                         count         mean          std    min        25%  \\\n",
       "Match_No                 244.0   129.008197    73.244446   1.00    65.7500   \n",
       "D/N                      244.0     0.709016     0.455150   0.00     0.0000   \n",
       "Runs                     244.0    49.872951    42.812975   0.00    11.0000   \n",
       "Balls_Faced              244.0    53.528689    39.109154   1.00    18.0000   \n",
       "Strike_Rate              244.0    80.520041    35.490867   0.00    64.2550   \n",
       "Progressive_Aggr         244.0  5633.131148  3561.313814  12.00  2468.0000   \n",
       "Progressive_Avg          244.0    50.914754     6.800009  12.00    47.3700   \n",
       "Progressive_Strike_Rate  244.0    86.886393     6.457741  54.55    83.2425   \n",
       "\n",
       "                              50%        75%       max  \n",
       "Match_No                  130.500   192.2500    254.00  \n",
       "D/N                         1.000     1.0000      1.00  \n",
       "Runs                       37.000    81.2500    183.00  \n",
       "Balls_Faced                49.500    83.0000    159.00  \n",
       "Strike_Rate                82.130   100.0000    209.09  \n",
       "Progressive_Aggr         5513.000  8378.7500  12169.00  \n",
       "Progressive_Avg            51.485    55.1625     60.31  \n",
       "Progressive_Strike_Rate    89.470    91.3375     93.39  "
      ]
     },
     "execution_count": 19,
     "metadata": {},
     "output_type": "execute_result"
    }
   ],
   "source": [
    "df1.describe().transpose()"
   ]
  },
  {
   "cell_type": "code",
   "execution_count": null,
   "metadata": {},
   "outputs": [],
   "source": []
  },
  {
   "cell_type": "markdown",
   "metadata": {},
   "source": [
    "### Exploring and visualizing the data"
   ]
  },
  {
   "cell_type": "code",
   "execution_count": null,
   "metadata": {},
   "outputs": [],
   "source": []
  },
  {
   "cell_type": "code",
   "execution_count": 20,
   "metadata": {
    "scrolled": false
   },
   "outputs": [
    {
     "name": "stdout",
     "output_type": "stream",
     "text": [
      "Match_No\n"
     ]
    },
    {
     "data": {
      "image/png": "[encoded data removed]",
      "text/plain": [
       "<Figure size 720x360 with 1 Axes>"
      ]
     },
     "metadata": {
      "needs_background": "light"
     },
     "output_type": "display_data"
    },
    {
     "name": "stdout",
     "output_type": "stream",
     "text": [
      "D/N\n"
     ]
    },
    {
     "data": {
      "image/png": "[encoded data removed]",
      "text/plain": [
       "<Figure size 720x360 with 1 Axes>"
      ]
     },
     "metadata": {
      "needs_background": "light"
     },
     "output_type": "display_data"
    },
    {
     "name": "stdout",
     "output_type": "stream",
     "text": [
      "Runs\n"
     ]
    },
    {
     "data": {
      "image/png": "[encoded data removed]",
      "text/plain": [
       "<Figure size 720x360 with 1 Axes>"
      ]
     },
     "metadata": {
      "needs_background": "light"
     },
     "output_type": "display_data"
    },
    {
     "name": "stdout",
     "output_type": "stream",
     "text": [
      "Balls_Faced\n"
     ]
    },
    {
     "data": {
      "image/png": "[encoded data removed]",
      "text/plain": [
       "<Figure size 720x360 with 1 Axes>"
      ]
     },
     "metadata": {
      "needs_background": "light"
     },
     "output_type": "display_data"
    },
    {
     "name": "stdout",
     "output_type": "stream",
     "text": [
      "Strike_Rate\n"
     ]
    },
    {
     "data": {
      "image/png": "[encoded data removed]",
      "text/plain": [
       "<Figure size 720x360 with 1 Axes>"
      ]
     },
     "metadata": {
      "needs_background": "light"
     },
     "output_type": "display_data"
    },
    {
     "name": "stdout",
     "output_type": "stream",
     "text": [
      "Progressive_Aggr\n"
     ]
    },
    {
     "data": {
      "image/png": "[encoded data removed]",
      "text/plain": [
       "<Figure size 720x360 with 1 Axes>"
      ]
     },
     "metadata": {
      "needs_background": "light"
     },
     "output_type": "display_data"
    },
    {
     "name": "stdout",
     "output_type": "stream",
     "text": [
      "Progressive_Avg\n"
     ]
    },
    {
     "data": {
      "image/png": "[encoded data removed]",
      "text/plain": [
       "<Figure size 720x360 with 1 Axes>"
      ]
     },
     "metadata": {
      "needs_background": "light"
     },
     "output_type": "display_data"
    },
    {
     "name": "stdout",
     "output_type": "stream",
     "text": [
      "Progressive_Strike_Rate\n"
     ]
    },
    {
     "data": {
      "image/png": "[encoded data removed]",
      "text/plain": [
       "<Figure size 720x360 with 1 Axes>"
      ]
     },
     "metadata": {
      "needs_background": "light"
     },
     "output_type": "display_data"
    }
   ],
   "source": [
    "for i in df1.describe().columns:\n",
    "    print(i)\n",
    "    plt.figure(figsize=(10,5))\n",
    "    sns.distplot(df1[i],color='b')\n",
    "    plt.show()"
   ]
  },
  {
   "cell_type": "markdown",
   "metadata": {},
   "source": [
    "### Oppositions most played against"
   ]
  },
  {
   "cell_type": "code",
   "execution_count": 21,
   "metadata": {},
   "outputs": [
    {
     "name": "stdout",
     "output_type": "stream",
     "text": [
      "Total matches played against the opposition\n",
      "\n",
      "Sri Lanka               46\n",
      "Australia               41\n",
      "West Indies             38\n",
      "England                 33\n",
      "New Zealand             26\n",
      "South Africa            25\n",
      "Pakistan                13\n",
      "Bangladesh              12\n",
      "Zimbabwe                 5\n",
      "Ireland                  2\n",
      "Netherlands              1\n",
      "United Arab Emirates     1\n",
      "Afghanistan              1\n",
      "Name: Versus, dtype: int64\n"
     ]
    },
    {
     "data": {
      "image/png": "[encoded data removed]",
      "text/plain": [
       "<Figure size 720x360 with 1 Axes>"
      ]
     },
     "metadata": {
      "needs_background": "light"
     },
     "output_type": "display_data"
    },
    {
     "name": "stdout",
     "output_type": "stream",
     "text": [
      "----------\n",
      "Total D/N matches played\n",
      "D/N\n",
      "0     71\n",
      "1    173\n",
      "Name: Versus, dtype: int64\n"
     ]
    }
   ],
   "source": [
    "plt.figure(figsize=(10,5))\n",
    "sns.countplot(df1['Versus'], order=df1.Versus.value_counts().index,hue=df['D/N'],palette='winter')\n",
    "plt.xticks(rotation=90)\n",
    "print('Total matches played against the opposition\\n')\n",
    "print(df1['Versus'].value_counts())\n",
    "plt.grid()\n",
    "plt.show()\n",
    "\n",
    "print('-'*10)\n",
    "print('Total D/N matches played')\n",
    "print(df1.Versus.groupby(df1['D/N']).count())"
   ]
  },
  {
   "cell_type": "code",
   "execution_count": null,
   "metadata": {},
   "outputs": [],
   "source": []
  },
  {
   "cell_type": "markdown",
   "metadata": {},
   "source": [
    "### Grounds he has played in the average scores he has scored! "
   ]
  },
  {
   "cell_type": "code",
   "execution_count": 22,
   "metadata": {},
   "outputs": [],
   "source": [
    "average_scores_at_each_venue = pd.DataFrame(df1.Runs.groupby(df1.Ground).mean())\n",
    "# average_scores_at_each_venue.sort_values(by='Runs',ascending=False)"
   ]
  },
  {
   "cell_type": "code",
   "execution_count": 31,
   "metadata": {},
   "outputs": [],
   "source": [
    "count_of_grounds = pd.DataFrame(df1.Ground.value_counts())"
   ]
  },
  {
   "cell_type": "code",
   "execution_count": 32,
   "metadata": {},
   "outputs": [],
   "source": [
    "count_average_grounds = pd.merge(average_scores_at_each_venue,count_of_grounds,on=average_scores_at_each_venue.index)"
   ]
  },
  {
   "cell_type": "code",
   "execution_count": 46,
   "metadata": {},
   "outputs": [
    {
     "data": {
      "text/html": [
       "<div>\n",
       "<style scoped>\n",
       "    .dataframe tbody tr th:only-of-type {\n",
       "        vertical-align: middle;\n",
       "    }\n",
       "\n",
       "    .dataframe tbody tr th {\n",
       "        vertical-align: top;\n",
       "    }\n",
       "\n",
       "    .dataframe thead th {\n",
       "        text-align: right;\n",
       "    }\n",
       "</style>\n",
       "<table border=\"1\" class=\"dataframe\">\n",
       "  <thead>\n",
       "    <tr style=\"text-align: right;\">\n",
       "      <th></th>\n",
       "      <th>key_0</th>\n",
       "      <th>Runs</th>\n",
       "      <th>Ground</th>\n",
       "    </tr>\n",
       "  </thead>\n",
       "  <tbody>\n",
       "    <tr>\n",
       "      <th>3</th>\n",
       "      <td>Barsapara Cricket Stadium</td>\n",
       "      <td>140.0</td>\n",
       "      <td>8</td>\n",
       "    </tr>\n",
       "    <tr>\n",
       "      <th>5</th>\n",
       "      <td>Bellerive Oval</td>\n",
       "      <td>133.0</td>\n",
       "      <td>7</td>\n",
       "    </tr>\n",
       "    <tr>\n",
       "      <th>32</th>\n",
       "      <td>Nehru Stadium (Guwahati)</td>\n",
       "      <td>105.0</td>\n",
       "      <td>3</td>\n",
       "    </tr>\n",
       "    <tr>\n",
       "      <th>18</th>\n",
       "      <td>JSCA International Stadium Complex</td>\n",
       "      <td>96.0</td>\n",
       "      <td>5</td>\n",
       "    </tr>\n",
       "    <tr>\n",
       "      <th>34</th>\n",
       "      <td>Newlands</td>\n",
       "      <td>94.0</td>\n",
       "      <td>3</td>\n",
       "    </tr>\n",
       "  </tbody>\n",
       "</table>\n",
       "</div>"
      ],
      "text/plain": [
       "                                 key_0   Runs  Ground\n",
       "3            Barsapara Cricket Stadium  140.0       8\n",
       "5                       Bellerive Oval  133.0       7\n",
       "32            Nehru Stadium (Guwahati)  105.0       3\n",
       "18  JSCA International Stadium Complex   96.0       5\n",
       "34                            Newlands   94.0       3"
      ]
     },
     "execution_count": 46,
     "metadata": {},
     "output_type": "execute_result"
    }
   ],
   "source": [
    "count_average_grounds.sort_values(by='Runs',ascending=False).head()"
   ]
  },
  {
   "cell_type": "code",
   "execution_count": null,
   "metadata": {},
   "outputs": [],
   "source": []
  },
  {
   "cell_type": "markdown",
   "metadata": {},
   "source": [
    "### Processing \"Dismissal Type\""
   ]
  },
  {
   "cell_type": "code",
   "execution_count": 42,
   "metadata": {},
   "outputs": [],
   "source": [
    "dty = []\n",
    "for i in df1['Dismissal_Type']:\n",
    "    dty.append(i.split(' ')[0])"
   ]
  },
  {
   "cell_type": "code",
   "execution_count": 44,
   "metadata": {},
   "outputs": [],
   "source": [
    "dty1 = []\n",
    "for i in dty:\n",
    "    if i == 'run':\n",
    "        dty1.append('run out')\n",
    "    elif i == 'not':\n",
    "        dty1.append('not out')\n",
    "    elif i == 'hit':\n",
    "        dty1.append('hit wicket')\n",
    "    else:\n",
    "        dty1.append(i)\n",
    "        \n",
    "df1['Dismissal_Type_info'] = dty1"
   ]
  },
  {
   "cell_type": "markdown",
   "metadata": {},
   "source": [
    "### Visualizing the dismissal types"
   ]
  },
  {
   "cell_type": "code",
   "execution_count": 60,
   "metadata": {},
   "outputs": [
    {
     "name": "stdout",
     "output_type": "stream",
     "text": [
      "c             147\n",
      "not out        39\n",
      "b              28\n",
      "lbw            14\n",
      "run out        11\n",
      "st              4\n",
      "hit wicket      1\n",
      "Name: Dismissal_Type_info, dtype: int64\n",
      "\n",
      "Total number of times dismissed : 244 (out of 254 matches)\n"
     ]
    },
    {
     "data": {
      "image/png": "[encoded data removed]",
      "text/plain": [
       "<Figure size 720x360 with 1 Axes>"
      ]
     },
     "metadata": {
      "needs_background": "light"
     },
     "output_type": "display_data"
    }
   ],
   "source": [
    "plt.figure(figsize=(10,5))\n",
    "sns.countplot(df1['Dismissal_Type_info'],order=df1['Dismissal_Type_info'].value_counts().index)\n",
    "plt.grid()\n",
    "print(df1['Dismissal_Type_info'].value_counts())\n",
    "\n",
    "print('\\nTotal number of times dismissed :',df1['Dismissal_Type_info'].value_counts().sum(),'(out of',len(df),'matches)')\n",
    "plt.show()"
   ]
  },
  {
   "cell_type": "code",
   "execution_count": null,
   "metadata": {},
   "outputs": [],
   "source": []
  },
  {
   "cell_type": "code",
   "execution_count": 47,
   "metadata": {},
   "outputs": [],
   "source": [
    "# df1.head()"
   ]
  },
  {
   "cell_type": "markdown",
   "metadata": {},
   "source": [
    "### Predictions"
   ]
  },
  {
   "cell_type": "code",
   "execution_count": 36,
   "metadata": {},
   "outputs": [],
   "source": [
    "ml = df1.copy()"
   ]
  },
  {
   "cell_type": "code",
   "execution_count": 38,
   "metadata": {},
   "outputs": [],
   "source": [
    "from sklearn.preprocessing import LabelEncoder"
   ]
  },
  {
   "cell_type": "code",
   "execution_count": 37,
   "metadata": {},
   "outputs": [
    {
     "data": {
      "text/html": [
       "<div>\n",
       "<style scoped>\n",
       "    .dataframe tbody tr th:only-of-type {\n",
       "        vertical-align: middle;\n",
       "    }\n",
       "\n",
       "    .dataframe tbody tr th {\n",
       "        vertical-align: top;\n",
       "    }\n",
       "\n",
       "    .dataframe thead th {\n",
       "        text-align: right;\n",
       "    }\n",
       "</style>\n",
       "<table border=\"1\" class=\"dataframe\">\n",
       "  <thead>\n",
       "    <tr style=\"text-align: right;\">\n",
       "      <th></th>\n",
       "      <th>Match_No</th>\n",
       "      <th>Date</th>\n",
       "      <th>Versus</th>\n",
       "      <th>Ground</th>\n",
       "      <th>D/N</th>\n",
       "      <th>Dismissal_Type</th>\n",
       "      <th>Runs</th>\n",
       "      <th>Balls_Faced</th>\n",
       "      <th>Strike_Rate</th>\n",
       "      <th>Progressive_Aggr</th>\n",
       "      <th>Progressive_Avg</th>\n",
       "      <th>Progressive_Strike_Rate</th>\n",
       "      <th>Status</th>\n",
       "    </tr>\n",
       "  </thead>\n",
       "  <tbody>\n",
       "    <tr>\n",
       "      <th>0</th>\n",
       "      <td>1</td>\n",
       "      <td>18-08-2008</td>\n",
       "      <td>Sri Lanka</td>\n",
       "      <td>Rangiri Dambulla International Stadium</td>\n",
       "      <td>0</td>\n",
       "      <td>lbw b K M D N Kulasekara</td>\n",
       "      <td>12</td>\n",
       "      <td>22</td>\n",
       "      <td>54.55</td>\n",
       "      <td>12</td>\n",
       "      <td>12.00</td>\n",
       "      <td>54.55</td>\n",
       "      <td>Out</td>\n",
       "    </tr>\n",
       "    <tr>\n",
       "      <th>1</th>\n",
       "      <td>2</td>\n",
       "      <td>20-08-2008</td>\n",
       "      <td>Sri Lanka</td>\n",
       "      <td>Rangiri Dambulla International Stadium</td>\n",
       "      <td>0</td>\n",
       "      <td>c C K Kapugedera b T Thushara</td>\n",
       "      <td>37</td>\n",
       "      <td>67</td>\n",
       "      <td>55.22</td>\n",
       "      <td>49</td>\n",
       "      <td>24.50</td>\n",
       "      <td>55.06</td>\n",
       "      <td>Out</td>\n",
       "    </tr>\n",
       "    <tr>\n",
       "      <th>2</th>\n",
       "      <td>3</td>\n",
       "      <td>24-08-2008</td>\n",
       "      <td>Sri Lanka</td>\n",
       "      <td>R Premadasa Stadium</td>\n",
       "      <td>1</td>\n",
       "      <td>run out</td>\n",
       "      <td>25</td>\n",
       "      <td>38</td>\n",
       "      <td>65.79</td>\n",
       "      <td>74</td>\n",
       "      <td>24.67</td>\n",
       "      <td>58.27</td>\n",
       "      <td>Out</td>\n",
       "    </tr>\n",
       "    <tr>\n",
       "      <th>3</th>\n",
       "      <td>4</td>\n",
       "      <td>27-08-2008</td>\n",
       "      <td>Sri Lanka</td>\n",
       "      <td>R Premadasa Stadium</td>\n",
       "      <td>1</td>\n",
       "      <td>b T Thushara</td>\n",
       "      <td>54</td>\n",
       "      <td>66</td>\n",
       "      <td>81.82</td>\n",
       "      <td>128</td>\n",
       "      <td>32.00</td>\n",
       "      <td>66.32</td>\n",
       "      <td>Out</td>\n",
       "    </tr>\n",
       "    <tr>\n",
       "      <th>4</th>\n",
       "      <td>5</td>\n",
       "      <td>29-08-2008</td>\n",
       "      <td>Sri Lanka</td>\n",
       "      <td>R Premadasa Stadium</td>\n",
       "      <td>1</td>\n",
       "      <td>lbw b K M D N Kulasekara</td>\n",
       "      <td>31</td>\n",
       "      <td>46</td>\n",
       "      <td>67.39</td>\n",
       "      <td>159</td>\n",
       "      <td>31.80</td>\n",
       "      <td>66.53</td>\n",
       "      <td>Out</td>\n",
       "    </tr>\n",
       "  </tbody>\n",
       "</table>\n",
       "</div>"
      ],
      "text/plain": [
       "   Match_No        Date     Versus                                  Ground  \\\n",
       "0         1  18-08-2008  Sri Lanka  Rangiri Dambulla International Stadium   \n",
       "1         2  20-08-2008  Sri Lanka  Rangiri Dambulla International Stadium   \n",
       "2         3  24-08-2008  Sri Lanka                     R Premadasa Stadium   \n",
       "3         4  27-08-2008  Sri Lanka                     R Premadasa Stadium   \n",
       "4         5  29-08-2008  Sri Lanka                     R Premadasa Stadium   \n",
       "\n",
       "   D/N                 Dismissal_Type  Runs  Balls_Faced  Strike_Rate  \\\n",
       "0    0       lbw b K M D N Kulasekara    12           22        54.55   \n",
       "1    0  c C K Kapugedera b T Thushara    37           67        55.22   \n",
       "2    1                        run out    25           38        65.79   \n",
       "3    1                   b T Thushara    54           66        81.82   \n",
       "4    1       lbw b K M D N Kulasekara    31           46        67.39   \n",
       "\n",
       "   Progressive_Aggr  Progressive_Avg  Progressive_Strike_Rate Status  \n",
       "0                12            12.00                    54.55    Out  \n",
       "1                49            24.50                    55.06    Out  \n",
       "2                74            24.67                    58.27    Out  \n",
       "3               128            32.00                    66.32    Out  \n",
       "4               159            31.80                    66.53    Out  "
      ]
     },
     "execution_count": 37,
     "metadata": {},
     "output_type": "execute_result"
    }
   ],
   "source": [
    "ml.head()"
   ]
  },
  {
   "cell_type": "code",
   "execution_count": null,
   "metadata": {},
   "outputs": [],
   "source": [
    "le = LabelEncoder()\n",
    "ml['Ground_encoded'] = le.fit_transform(ml['Ground'])\n",
    "ml['']"
   ]
  }
 ],
 "metadata": {
  "kernelspec": {
   "display_name": "Python 3",
   "language": "python",
   "name": "python3"
  },
  "language_info": {
   "codemirror_mode": {
    "name": "ipython",
    "version": 3
   },
   "file_extension": ".py",
   "mimetype": "text/x-python",
   "name": "python",
   "nbconvert_exporter": "python",
   "pygments_lexer": "ipython3",
   "version": "3.8.12"
  }
 },
 "nbformat": 4,
 "nbformat_minor": 4
}
