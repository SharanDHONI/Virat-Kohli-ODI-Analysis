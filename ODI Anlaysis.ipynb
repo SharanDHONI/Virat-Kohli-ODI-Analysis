{
 "cells": [
  {
   "cell_type": "code",
   "execution_count": 1,
   "metadata": {},
   "outputs": [],
   "source": [
    "import pandas as pd\n",
    "import numpy as np\n",
    "import seaborn as sns\n",
    "import matplotlib.pyplot as plt\n",
    "import warnings\n",
    "warnings.filterwarnings('ignore')"
   ]
  },
  {
   "cell_type": "code",
   "execution_count": 2,
   "metadata": {},
   "outputs": [],
   "source": [
    "df = pd.read_csv('Virat_Kohli_ODI_Data_Processed.csv')"
   ]
  },
  {
   "cell_type": "code",
   "execution_count": 3,
   "metadata": {},
   "outputs": [
    {
     "data": {
      "text/html": [
       "<div>\n",
       "<style scoped>\n",
       "    .dataframe tbody tr th:only-of-type {\n",
       "        vertical-align: middle;\n",
       "    }\n",
       "\n",
       "    .dataframe tbody tr th {\n",
       "        vertical-align: top;\n",
       "    }\n",
       "\n",
       "    .dataframe thead th {\n",
       "        text-align: right;\n",
       "    }\n",
       "</style>\n",
       "<table border=\"1\" class=\"dataframe\">\n",
       "  <thead>\n",
       "    <tr style=\"text-align: right;\">\n",
       "      <th></th>\n",
       "      <th>Match_No</th>\n",
       "      <th>Date</th>\n",
       "      <th>Versus</th>\n",
       "      <th>Ground</th>\n",
       "      <th>Country</th>\n",
       "      <th>Continent_Category</th>\n",
       "      <th>D/N</th>\n",
       "      <th>Dismissal_Type</th>\n",
       "      <th>Runs</th>\n",
       "      <th>Balls_Faced</th>\n",
       "      <th>Strike_Rate</th>\n",
       "      <th>Progressive_Aggr</th>\n",
       "      <th>Progressive_Avg</th>\n",
       "      <th>Progressive_Strike_Rate</th>\n",
       "    </tr>\n",
       "  </thead>\n",
       "  <tbody>\n",
       "    <tr>\n",
       "      <th>0</th>\n",
       "      <td>1</td>\n",
       "      <td>18-08-2008</td>\n",
       "      <td>Sri Lanka</td>\n",
       "      <td>Rangiri Dambulla International Stadium</td>\n",
       "      <td>Sri Lanka</td>\n",
       "      <td>Asia</td>\n",
       "      <td>0</td>\n",
       "      <td>lbw b K M D N Kulasekara</td>\n",
       "      <td>12</td>\n",
       "      <td>22.0</td>\n",
       "      <td>54.55</td>\n",
       "      <td>12</td>\n",
       "      <td>12.00</td>\n",
       "      <td>54.55</td>\n",
       "    </tr>\n",
       "    <tr>\n",
       "      <th>1</th>\n",
       "      <td>2</td>\n",
       "      <td>20-08-2008</td>\n",
       "      <td>Sri Lanka</td>\n",
       "      <td>Rangiri Dambulla International Stadium</td>\n",
       "      <td>Sri Lanka</td>\n",
       "      <td>Asia</td>\n",
       "      <td>0</td>\n",
       "      <td>c C K Kapugedera b T Thushara</td>\n",
       "      <td>37</td>\n",
       "      <td>67.0</td>\n",
       "      <td>55.22</td>\n",
       "      <td>49</td>\n",
       "      <td>24.50</td>\n",
       "      <td>55.06</td>\n",
       "    </tr>\n",
       "    <tr>\n",
       "      <th>2</th>\n",
       "      <td>3</td>\n",
       "      <td>24-08-2008</td>\n",
       "      <td>Sri Lanka</td>\n",
       "      <td>R Premadasa Stadium</td>\n",
       "      <td>Sri Lanka</td>\n",
       "      <td>Asia</td>\n",
       "      <td>1</td>\n",
       "      <td>run out</td>\n",
       "      <td>25</td>\n",
       "      <td>38.0</td>\n",
       "      <td>65.79</td>\n",
       "      <td>74</td>\n",
       "      <td>24.67</td>\n",
       "      <td>58.27</td>\n",
       "    </tr>\n",
       "    <tr>\n",
       "      <th>3</th>\n",
       "      <td>4</td>\n",
       "      <td>27-08-2008</td>\n",
       "      <td>Sri Lanka</td>\n",
       "      <td>R Premadasa Stadium</td>\n",
       "      <td>Sri Lanka</td>\n",
       "      <td>Asia</td>\n",
       "      <td>1</td>\n",
       "      <td>b T Thushara</td>\n",
       "      <td>54</td>\n",
       "      <td>66.0</td>\n",
       "      <td>81.82</td>\n",
       "      <td>128</td>\n",
       "      <td>32.00</td>\n",
       "      <td>66.32</td>\n",
       "    </tr>\n",
       "    <tr>\n",
       "      <th>4</th>\n",
       "      <td>5</td>\n",
       "      <td>29-08-2008</td>\n",
       "      <td>Sri Lanka</td>\n",
       "      <td>R Premadasa Stadium</td>\n",
       "      <td>Sri Lanka</td>\n",
       "      <td>Asia</td>\n",
       "      <td>1</td>\n",
       "      <td>lbw b K M D N Kulasekara</td>\n",
       "      <td>31</td>\n",
       "      <td>46.0</td>\n",
       "      <td>67.39</td>\n",
       "      <td>159</td>\n",
       "      <td>31.80</td>\n",
       "      <td>66.53</td>\n",
       "    </tr>\n",
       "  </tbody>\n",
       "</table>\n",
       "</div>"
      ],
      "text/plain": [
       "   Match_No        Date     Versus                                  Ground  \\\n",
       "0         1  18-08-2008  Sri Lanka  Rangiri Dambulla International Stadium   \n",
       "1         2  20-08-2008  Sri Lanka  Rangiri Dambulla International Stadium   \n",
       "2         3  24-08-2008  Sri Lanka                     R Premadasa Stadium   \n",
       "3         4  27-08-2008  Sri Lanka                     R Premadasa Stadium   \n",
       "4         5  29-08-2008  Sri Lanka                     R Premadasa Stadium   \n",
       "\n",
       "     Country Continent_Category  D/N                 Dismissal_Type Runs  \\\n",
       "0  Sri Lanka               Asia    0       lbw b K M D N Kulasekara   12   \n",
       "1  Sri Lanka               Asia    0  c C K Kapugedera b T Thushara   37   \n",
       "2  Sri Lanka               Asia    1                        run out   25   \n",
       "3  Sri Lanka               Asia    1                   b T Thushara   54   \n",
       "4  Sri Lanka               Asia    1       lbw b K M D N Kulasekara   31   \n",
       "\n",
       "   Balls_Faced Strike_Rate  Progressive_Aggr  Progressive_Avg  \\\n",
       "0         22.0       54.55                12            12.00   \n",
       "1         67.0       55.22                49            24.50   \n",
       "2         38.0       65.79                74            24.67   \n",
       "3         66.0       81.82               128            32.00   \n",
       "4         46.0       67.39               159            31.80   \n",
       "\n",
       "   Progressive_Strike_Rate  \n",
       "0                    54.55  \n",
       "1                    55.06  \n",
       "2                    58.27  \n",
       "3                    66.32  \n",
       "4                    66.53  "
      ]
     },
     "execution_count": 3,
     "metadata": {},
     "output_type": "execute_result"
    }
   ],
   "source": [
    "df.head(5)"
   ]
  },
  {
   "cell_type": "code",
   "execution_count": null,
   "metadata": {},
   "outputs": [],
   "source": []
  },
  {
   "cell_type": "markdown",
   "metadata": {},
   "source": [
    "### Info on the data"
   ]
  },
  {
   "cell_type": "code",
   "execution_count": 4,
   "metadata": {},
   "outputs": [
    {
     "name": "stdout",
     "output_type": "stream",
     "text": [
      "<class 'pandas.core.frame.DataFrame'>\n",
      "RangeIndex: 254 entries, 0 to 253\n",
      "Data columns (total 14 columns):\n",
      " #   Column                   Non-Null Count  Dtype  \n",
      "---  ------                   --------------  -----  \n",
      " 0   Match_No                 254 non-null    int64  \n",
      " 1   Date                     254 non-null    object \n",
      " 2   Versus                   254 non-null    object \n",
      " 3   Ground                   254 non-null    object \n",
      " 4   Country                  254 non-null    object \n",
      " 5   Continent_Category       254 non-null    object \n",
      " 6   D/N                      254 non-null    int64  \n",
      " 7   Dismissal_Type           254 non-null    object \n",
      " 8   Runs                     245 non-null    object \n",
      " 9   Balls_Faced              245 non-null    float64\n",
      " 10  Strike_Rate              245 non-null    object \n",
      " 11  Progressive_Aggr         254 non-null    int64  \n",
      " 12  Progressive_Avg          254 non-null    float64\n",
      " 13  Progressive_Strike_Rate  254 non-null    float64\n",
      "dtypes: float64(3), int64(3), object(8)\n",
      "memory usage: 27.9+ KB\n"
     ]
    }
   ],
   "source": [
    "df.info()"
   ]
  },
  {
   "cell_type": "markdown",
   "metadata": {},
   "source": [
    "### Null value analysis"
   ]
  },
  {
   "cell_type": "code",
   "execution_count": 5,
   "metadata": {},
   "outputs": [
    {
     "data": {
      "text/plain": [
       "Match_No                   0\n",
       "Date                       0\n",
       "Versus                     0\n",
       "Ground                     0\n",
       "Country                    0\n",
       "Continent_Category         0\n",
       "D/N                        0\n",
       "Dismissal_Type             0\n",
       "Runs                       9\n",
       "Balls_Faced                9\n",
       "Strike_Rate                9\n",
       "Progressive_Aggr           0\n",
       "Progressive_Avg            0\n",
       "Progressive_Strike_Rate    0\n",
       "dtype: int64"
      ]
     },
     "execution_count": 5,
     "metadata": {},
     "output_type": "execute_result"
    }
   ],
   "source": [
    "df.isnull().sum()"
   ]
  },
  {
   "cell_type": "markdown",
   "metadata": {},
   "source": [
    "### Data description"
   ]
  },
  {
   "cell_type": "code",
   "execution_count": 6,
   "metadata": {},
   "outputs": [
    {
     "data": {
      "text/html": [
       "<div>\n",
       "<style scoped>\n",
       "    .dataframe tbody tr th:only-of-type {\n",
       "        vertical-align: middle;\n",
       "    }\n",
       "\n",
       "    .dataframe tbody tr th {\n",
       "        vertical-align: top;\n",
       "    }\n",
       "\n",
       "    .dataframe thead th {\n",
       "        text-align: right;\n",
       "    }\n",
       "</style>\n",
       "<table border=\"1\" class=\"dataframe\">\n",
       "  <thead>\n",
       "    <tr style=\"text-align: right;\">\n",
       "      <th></th>\n",
       "      <th>count</th>\n",
       "      <th>mean</th>\n",
       "      <th>std</th>\n",
       "      <th>min</th>\n",
       "      <th>25%</th>\n",
       "      <th>50%</th>\n",
       "      <th>75%</th>\n",
       "      <th>max</th>\n",
       "    </tr>\n",
       "  </thead>\n",
       "  <tbody>\n",
       "    <tr>\n",
       "      <th>Match_No</th>\n",
       "      <td>254.0</td>\n",
       "      <td>127.500000</td>\n",
       "      <td>73.467680</td>\n",
       "      <td>1.00</td>\n",
       "      <td>64.2500</td>\n",
       "      <td>127.500</td>\n",
       "      <td>190.750</td>\n",
       "      <td>254.00</td>\n",
       "    </tr>\n",
       "    <tr>\n",
       "      <th>D/N</th>\n",
       "      <td>254.0</td>\n",
       "      <td>0.700787</td>\n",
       "      <td>0.458817</td>\n",
       "      <td>0.00</td>\n",
       "      <td>0.0000</td>\n",
       "      <td>1.000</td>\n",
       "      <td>1.000</td>\n",
       "      <td>1.00</td>\n",
       "    </tr>\n",
       "    <tr>\n",
       "      <th>Balls_Faced</th>\n",
       "      <td>245.0</td>\n",
       "      <td>53.310204</td>\n",
       "      <td>39.178471</td>\n",
       "      <td>0.00</td>\n",
       "      <td>18.0000</td>\n",
       "      <td>49.000</td>\n",
       "      <td>83.000</td>\n",
       "      <td>159.00</td>\n",
       "    </tr>\n",
       "    <tr>\n",
       "      <th>Progressive_Aggr</th>\n",
       "      <td>254.0</td>\n",
       "      <td>5562.244094</td>\n",
       "      <td>3566.665557</td>\n",
       "      <td>12.00</td>\n",
       "      <td>2356.2500</td>\n",
       "      <td>5358.000</td>\n",
       "      <td>8342.000</td>\n",
       "      <td>12169.00</td>\n",
       "    </tr>\n",
       "    <tr>\n",
       "      <th>Progressive_Avg</th>\n",
       "      <td>254.0</td>\n",
       "      <td>50.838071</td>\n",
       "      <td>6.835837</td>\n",
       "      <td>12.00</td>\n",
       "      <td>47.4725</td>\n",
       "      <td>51.450</td>\n",
       "      <td>55.010</td>\n",
       "      <td>60.31</td>\n",
       "    </tr>\n",
       "    <tr>\n",
       "      <th>Progressive_Strike_Rate</th>\n",
       "      <td>254.0</td>\n",
       "      <td>86.781181</td>\n",
       "      <td>6.505852</td>\n",
       "      <td>54.55</td>\n",
       "      <td>83.1225</td>\n",
       "      <td>89.295</td>\n",
       "      <td>91.255</td>\n",
       "      <td>93.39</td>\n",
       "    </tr>\n",
       "  </tbody>\n",
       "</table>\n",
       "</div>"
      ],
      "text/plain": [
       "                         count         mean          std    min        25%  \\\n",
       "Match_No                 254.0   127.500000    73.467680   1.00    64.2500   \n",
       "D/N                      254.0     0.700787     0.458817   0.00     0.0000   \n",
       "Balls_Faced              245.0    53.310204    39.178471   0.00    18.0000   \n",
       "Progressive_Aggr         254.0  5562.244094  3566.665557  12.00  2356.2500   \n",
       "Progressive_Avg          254.0    50.838071     6.835837  12.00    47.4725   \n",
       "Progressive_Strike_Rate  254.0    86.781181     6.505852  54.55    83.1225   \n",
       "\n",
       "                              50%       75%       max  \n",
       "Match_No                  127.500   190.750    254.00  \n",
       "D/N                         1.000     1.000      1.00  \n",
       "Balls_Faced                49.000    83.000    159.00  \n",
       "Progressive_Aggr         5358.000  8342.000  12169.00  \n",
       "Progressive_Avg            51.450    55.010     60.31  \n",
       "Progressive_Strike_Rate    89.295    91.255     93.39  "
      ]
     },
     "execution_count": 6,
     "metadata": {},
     "output_type": "execute_result"
    }
   ],
   "source": [
    "df.describe().transpose()"
   ]
  },
  {
   "cell_type": "markdown",
   "metadata": {},
   "source": [
    "### Processing the data"
   ]
  },
  {
   "cell_type": "code",
   "execution_count": 7,
   "metadata": {},
   "outputs": [],
   "source": [
    "df1 = df.copy() ## copying it to another dataframe! "
   ]
  },
  {
   "cell_type": "markdown",
   "metadata": {},
   "source": [
    "### Dropping Nulls ( as it only indicates that he Did Not Bat that innings )"
   ]
  },
  {
   "cell_type": "code",
   "execution_count": 10,
   "metadata": {},
   "outputs": [],
   "source": [
    "df1.dropna(inplace=True,axis=0)"
   ]
  },
  {
   "cell_type": "code",
   "execution_count": 11,
   "metadata": {},
   "outputs": [
    {
     "data": {
      "text/html": [
       "<div>\n",
       "<style scoped>\n",
       "    .dataframe tbody tr th:only-of-type {\n",
       "        vertical-align: middle;\n",
       "    }\n",
       "\n",
       "    .dataframe tbody tr th {\n",
       "        vertical-align: top;\n",
       "    }\n",
       "\n",
       "    .dataframe thead th {\n",
       "        text-align: right;\n",
       "    }\n",
       "</style>\n",
       "<table border=\"1\" class=\"dataframe\">\n",
       "  <thead>\n",
       "    <tr style=\"text-align: right;\">\n",
       "      <th></th>\n",
       "      <th>Match_No</th>\n",
       "      <th>Date</th>\n",
       "      <th>Versus</th>\n",
       "      <th>Ground</th>\n",
       "      <th>Country</th>\n",
       "      <th>Continent_Category</th>\n",
       "      <th>D/N</th>\n",
       "      <th>Dismissal_Type</th>\n",
       "      <th>Runs</th>\n",
       "      <th>Balls_Faced</th>\n",
       "      <th>Strike_Rate</th>\n",
       "      <th>Progressive_Aggr</th>\n",
       "      <th>Progressive_Avg</th>\n",
       "      <th>Progressive_Strike_Rate</th>\n",
       "    </tr>\n",
       "  </thead>\n",
       "  <tbody>\n",
       "    <tr>\n",
       "      <th>0</th>\n",
       "      <td>1</td>\n",
       "      <td>18-08-2008</td>\n",
       "      <td>Sri Lanka</td>\n",
       "      <td>Rangiri Dambulla International Stadium</td>\n",
       "      <td>Sri Lanka</td>\n",
       "      <td>Asia</td>\n",
       "      <td>0</td>\n",
       "      <td>lbw b K M D N Kulasekara</td>\n",
       "      <td>12</td>\n",
       "      <td>22.0</td>\n",
       "      <td>54.55</td>\n",
       "      <td>12</td>\n",
       "      <td>12.00</td>\n",
       "      <td>54.55</td>\n",
       "    </tr>\n",
       "    <tr>\n",
       "      <th>1</th>\n",
       "      <td>2</td>\n",
       "      <td>20-08-2008</td>\n",
       "      <td>Sri Lanka</td>\n",
       "      <td>Rangiri Dambulla International Stadium</td>\n",
       "      <td>Sri Lanka</td>\n",
       "      <td>Asia</td>\n",
       "      <td>0</td>\n",
       "      <td>c C K Kapugedera b T Thushara</td>\n",
       "      <td>37</td>\n",
       "      <td>67.0</td>\n",
       "      <td>55.22</td>\n",
       "      <td>49</td>\n",
       "      <td>24.50</td>\n",
       "      <td>55.06</td>\n",
       "    </tr>\n",
       "    <tr>\n",
       "      <th>2</th>\n",
       "      <td>3</td>\n",
       "      <td>24-08-2008</td>\n",
       "      <td>Sri Lanka</td>\n",
       "      <td>R Premadasa Stadium</td>\n",
       "      <td>Sri Lanka</td>\n",
       "      <td>Asia</td>\n",
       "      <td>1</td>\n",
       "      <td>run out</td>\n",
       "      <td>25</td>\n",
       "      <td>38.0</td>\n",
       "      <td>65.79</td>\n",
       "      <td>74</td>\n",
       "      <td>24.67</td>\n",
       "      <td>58.27</td>\n",
       "    </tr>\n",
       "    <tr>\n",
       "      <th>3</th>\n",
       "      <td>4</td>\n",
       "      <td>27-08-2008</td>\n",
       "      <td>Sri Lanka</td>\n",
       "      <td>R Premadasa Stadium</td>\n",
       "      <td>Sri Lanka</td>\n",
       "      <td>Asia</td>\n",
       "      <td>1</td>\n",
       "      <td>b T Thushara</td>\n",
       "      <td>54</td>\n",
       "      <td>66.0</td>\n",
       "      <td>81.82</td>\n",
       "      <td>128</td>\n",
       "      <td>32.00</td>\n",
       "      <td>66.32</td>\n",
       "    </tr>\n",
       "    <tr>\n",
       "      <th>4</th>\n",
       "      <td>5</td>\n",
       "      <td>29-08-2008</td>\n",
       "      <td>Sri Lanka</td>\n",
       "      <td>R Premadasa Stadium</td>\n",
       "      <td>Sri Lanka</td>\n",
       "      <td>Asia</td>\n",
       "      <td>1</td>\n",
       "      <td>lbw b K M D N Kulasekara</td>\n",
       "      <td>31</td>\n",
       "      <td>46.0</td>\n",
       "      <td>67.39</td>\n",
       "      <td>159</td>\n",
       "      <td>31.80</td>\n",
       "      <td>66.53</td>\n",
       "    </tr>\n",
       "  </tbody>\n",
       "</table>\n",
       "</div>"
      ],
      "text/plain": [
       "   Match_No        Date     Versus                                  Ground  \\\n",
       "0         1  18-08-2008  Sri Lanka  Rangiri Dambulla International Stadium   \n",
       "1         2  20-08-2008  Sri Lanka  Rangiri Dambulla International Stadium   \n",
       "2         3  24-08-2008  Sri Lanka                     R Premadasa Stadium   \n",
       "3         4  27-08-2008  Sri Lanka                     R Premadasa Stadium   \n",
       "4         5  29-08-2008  Sri Lanka                     R Premadasa Stadium   \n",
       "\n",
       "     Country Continent_Category  D/N                 Dismissal_Type Runs  \\\n",
       "0  Sri Lanka               Asia    0       lbw b K M D N Kulasekara   12   \n",
       "1  Sri Lanka               Asia    0  c C K Kapugedera b T Thushara   37   \n",
       "2  Sri Lanka               Asia    1                        run out   25   \n",
       "3  Sri Lanka               Asia    1                   b T Thushara   54   \n",
       "4  Sri Lanka               Asia    1       lbw b K M D N Kulasekara   31   \n",
       "\n",
       "   Balls_Faced Strike_Rate  Progressive_Aggr  Progressive_Avg  \\\n",
       "0         22.0       54.55                12            12.00   \n",
       "1         67.0       55.22                49            24.50   \n",
       "2         38.0       65.79                74            24.67   \n",
       "3         66.0       81.82               128            32.00   \n",
       "4         46.0       67.39               159            31.80   \n",
       "\n",
       "   Progressive_Strike_Rate  \n",
       "0                    54.55  \n",
       "1                    55.06  \n",
       "2                    58.27  \n",
       "3                    66.32  \n",
       "4                    66.53  "
      ]
     },
     "execution_count": 11,
     "metadata": {},
     "output_type": "execute_result"
    }
   ],
   "source": [
    "df1.head()"
   ]
  },
  {
   "cell_type": "code",
   "execution_count": null,
   "metadata": {},
   "outputs": [],
   "source": []
  },
  {
   "cell_type": "code",
   "execution_count": 12,
   "metadata": {},
   "outputs": [
    {
     "data": {
      "text/plain": [
       "Match_No                   0\n",
       "Date                       0\n",
       "Versus                     0\n",
       "Ground                     0\n",
       "Country                    0\n",
       "Continent_Category         0\n",
       "D/N                        0\n",
       "Dismissal_Type             0\n",
       "Runs                       0\n",
       "Balls_Faced                0\n",
       "Strike_Rate                0\n",
       "Progressive_Aggr           0\n",
       "Progressive_Avg            0\n",
       "Progressive_Strike_Rate    0\n",
       "dtype: int64"
      ]
     },
     "execution_count": 12,
     "metadata": {},
     "output_type": "execute_result"
    }
   ],
   "source": [
    "df1.isnull().sum()"
   ]
  },
  {
   "cell_type": "markdown",
   "metadata": {},
   "source": [
    "### Creating a new feature \"Status\" (Indicates wheather he was out/Notout/DNB)"
   ]
  },
  {
   "cell_type": "code",
   "execution_count": 13,
   "metadata": {},
   "outputs": [],
   "source": [
    "status = []\n",
    "for i in df1.Runs:\n",
    "    if i.endswith('*'):\n",
    "        status.append('Not out')\n",
    "    elif i == '-':\n",
    "        status.append('DNB')\n",
    "    else:\n",
    "        status.append('Out')\n",
    "df1['Status'] = status"
   ]
  },
  {
   "cell_type": "markdown",
   "metadata": {},
   "source": [
    "### processing \"Runs\""
   ]
  },
  {
   "cell_type": "code",
   "execution_count": 14,
   "metadata": {},
   "outputs": [],
   "source": [
    "\n",
    "## Splitting the data which has a * attached to the score\n",
    "runs = []\n",
    "for i in df1['Runs']:\n",
    "    runs.append(i.split('*'))"
   ]
  },
  {
   "cell_type": "code",
   "execution_count": 15,
   "metadata": {},
   "outputs": [],
   "source": [
    "runs1=[]\n",
    "for i in runs:\n",
    "    runs1.append(i[0])\n",
    "df1['Runs'] = runs1"
   ]
  },
  {
   "cell_type": "code",
   "execution_count": 16,
   "metadata": {},
   "outputs": [],
   "source": [
    "df1['Runs'] = df1.Runs.astype(int) ##changing the dtype"
   ]
  },
  {
   "cell_type": "markdown",
   "metadata": {},
   "source": [
    "### Processing \"Balls_Faced\""
   ]
  },
  {
   "cell_type": "code",
   "execution_count": 17,
   "metadata": {},
   "outputs": [],
   "source": [
    "df1['Balls_Faced'] = df1.Balls_Faced.astype(int)"
   ]
  },
  {
   "cell_type": "markdown",
   "metadata": {},
   "source": [
    "### Processing \"Strike_Rate\""
   ]
  },
  {
   "cell_type": "code",
   "execution_count": 18,
   "metadata": {},
   "outputs": [],
   "source": [
    "strt = [] \n",
    "for i in df1.Strike_Rate:\n",
    "    if i == '-':\n",
    "        strt.append(np.NaN)  ## convering the strike rate of that 1 innings where he was run out without facing a ball to NAN \n",
    "    else:\n",
    "        strt.append(i)\n",
    "df1['Strike_Rate'] = strt\n"
   ]
  },
  {
   "cell_type": "code",
   "execution_count": 19,
   "metadata": {},
   "outputs": [],
   "source": [
    "## removing that datapoint\n",
    "df1.dropna(inplace=True,axis=0) \n"
   ]
  },
  {
   "cell_type": "code",
   "execution_count": 20,
   "metadata": {},
   "outputs": [],
   "source": [
    "df1.Strike_Rate = df1.Strike_Rate.astype(float) "
   ]
  },
  {
   "cell_type": "code",
   "execution_count": null,
   "metadata": {},
   "outputs": [],
   "source": []
  },
  {
   "cell_type": "markdown",
   "metadata": {},
   "source": [
    "### Checking the Dtypes of the processed features"
   ]
  },
  {
   "cell_type": "code",
   "execution_count": 21,
   "metadata": {},
   "outputs": [
    {
     "data": {
      "text/plain": [
       "Match_No                     int64\n",
       "Date                        object\n",
       "Versus                      object\n",
       "Ground                      object\n",
       "Country                     object\n",
       "Continent_Category          object\n",
       "D/N                          int64\n",
       "Dismissal_Type              object\n",
       "Runs                         int32\n",
       "Balls_Faced                  int32\n",
       "Strike_Rate                float64\n",
       "Progressive_Aggr             int64\n",
       "Progressive_Avg            float64\n",
       "Progressive_Strike_Rate    float64\n",
       "Status                      object\n",
       "dtype: object"
      ]
     },
     "execution_count": 21,
     "metadata": {},
     "output_type": "execute_result"
    }
   ],
   "source": [
    "df1.dtypes"
   ]
  },
  {
   "cell_type": "code",
   "execution_count": 22,
   "metadata": {},
   "outputs": [
    {
     "data": {
      "text/html": [
       "<div>\n",
       "<style scoped>\n",
       "    .dataframe tbody tr th:only-of-type {\n",
       "        vertical-align: middle;\n",
       "    }\n",
       "\n",
       "    .dataframe tbody tr th {\n",
       "        vertical-align: top;\n",
       "    }\n",
       "\n",
       "    .dataframe thead th {\n",
       "        text-align: right;\n",
       "    }\n",
       "</style>\n",
       "<table border=\"1\" class=\"dataframe\">\n",
       "  <thead>\n",
       "    <tr style=\"text-align: right;\">\n",
       "      <th></th>\n",
       "      <th>count</th>\n",
       "      <th>mean</th>\n",
       "      <th>std</th>\n",
       "      <th>min</th>\n",
       "      <th>25%</th>\n",
       "      <th>50%</th>\n",
       "      <th>75%</th>\n",
       "      <th>max</th>\n",
       "    </tr>\n",
       "  </thead>\n",
       "  <tbody>\n",
       "    <tr>\n",
       "      <th>Match_No</th>\n",
       "      <td>244.0</td>\n",
       "      <td>129.008197</td>\n",
       "      <td>73.244446</td>\n",
       "      <td>1.00</td>\n",
       "      <td>65.7500</td>\n",
       "      <td>130.500</td>\n",
       "      <td>192.2500</td>\n",
       "      <td>254.00</td>\n",
       "    </tr>\n",
       "    <tr>\n",
       "      <th>D/N</th>\n",
       "      <td>244.0</td>\n",
       "      <td>0.709016</td>\n",
       "      <td>0.455150</td>\n",
       "      <td>0.00</td>\n",
       "      <td>0.0000</td>\n",
       "      <td>1.000</td>\n",
       "      <td>1.0000</td>\n",
       "      <td>1.00</td>\n",
       "    </tr>\n",
       "    <tr>\n",
       "      <th>Runs</th>\n",
       "      <td>244.0</td>\n",
       "      <td>49.872951</td>\n",
       "      <td>42.812975</td>\n",
       "      <td>0.00</td>\n",
       "      <td>11.0000</td>\n",
       "      <td>37.000</td>\n",
       "      <td>81.2500</td>\n",
       "      <td>183.00</td>\n",
       "    </tr>\n",
       "    <tr>\n",
       "      <th>Balls_Faced</th>\n",
       "      <td>244.0</td>\n",
       "      <td>53.528689</td>\n",
       "      <td>39.109154</td>\n",
       "      <td>1.00</td>\n",
       "      <td>18.0000</td>\n",
       "      <td>49.500</td>\n",
       "      <td>83.0000</td>\n",
       "      <td>159.00</td>\n",
       "    </tr>\n",
       "    <tr>\n",
       "      <th>Strike_Rate</th>\n",
       "      <td>244.0</td>\n",
       "      <td>80.520041</td>\n",
       "      <td>35.490867</td>\n",
       "      <td>0.00</td>\n",
       "      <td>64.2550</td>\n",
       "      <td>82.130</td>\n",
       "      <td>100.0000</td>\n",
       "      <td>209.09</td>\n",
       "    </tr>\n",
       "    <tr>\n",
       "      <th>Progressive_Aggr</th>\n",
       "      <td>244.0</td>\n",
       "      <td>5633.131148</td>\n",
       "      <td>3561.313814</td>\n",
       "      <td>12.00</td>\n",
       "      <td>2468.0000</td>\n",
       "      <td>5513.000</td>\n",
       "      <td>8378.7500</td>\n",
       "      <td>12169.00</td>\n",
       "    </tr>\n",
       "    <tr>\n",
       "      <th>Progressive_Avg</th>\n",
       "      <td>244.0</td>\n",
       "      <td>50.914754</td>\n",
       "      <td>6.800009</td>\n",
       "      <td>12.00</td>\n",
       "      <td>47.3700</td>\n",
       "      <td>51.485</td>\n",
       "      <td>55.1625</td>\n",
       "      <td>60.31</td>\n",
       "    </tr>\n",
       "    <tr>\n",
       "      <th>Progressive_Strike_Rate</th>\n",
       "      <td>244.0</td>\n",
       "      <td>86.886393</td>\n",
       "      <td>6.457741</td>\n",
       "      <td>54.55</td>\n",
       "      <td>83.2425</td>\n",
       "      <td>89.470</td>\n",
       "      <td>91.3375</td>\n",
       "      <td>93.39</td>\n",
       "    </tr>\n",
       "  </tbody>\n",
       "</table>\n",
       "</div>"
      ],
      "text/plain": [
       "                         count         mean          std    min        25%  \\\n",
       "Match_No                 244.0   129.008197    73.244446   1.00    65.7500   \n",
       "D/N                      244.0     0.709016     0.455150   0.00     0.0000   \n",
       "Runs                     244.0    49.872951    42.812975   0.00    11.0000   \n",
       "Balls_Faced              244.0    53.528689    39.109154   1.00    18.0000   \n",
       "Strike_Rate              244.0    80.520041    35.490867   0.00    64.2550   \n",
       "Progressive_Aggr         244.0  5633.131148  3561.313814  12.00  2468.0000   \n",
       "Progressive_Avg          244.0    50.914754     6.800009  12.00    47.3700   \n",
       "Progressive_Strike_Rate  244.0    86.886393     6.457741  54.55    83.2425   \n",
       "\n",
       "                              50%        75%       max  \n",
       "Match_No                  130.500   192.2500    254.00  \n",
       "D/N                         1.000     1.0000      1.00  \n",
       "Runs                       37.000    81.2500    183.00  \n",
       "Balls_Faced                49.500    83.0000    159.00  \n",
       "Strike_Rate                82.130   100.0000    209.09  \n",
       "Progressive_Aggr         5513.000  8378.7500  12169.00  \n",
       "Progressive_Avg            51.485    55.1625     60.31  \n",
       "Progressive_Strike_Rate    89.470    91.3375     93.39  "
      ]
     },
     "execution_count": 22,
     "metadata": {},
     "output_type": "execute_result"
    }
   ],
   "source": [
    "df1.describe().transpose()"
   ]
  },
  {
   "cell_type": "code",
   "execution_count": null,
   "metadata": {},
   "outputs": [],
   "source": []
  },
  {
   "cell_type": "markdown",
   "metadata": {},
   "source": [
    "### Exploring and visualizing the data"
   ]
  },
  {
   "cell_type": "code",
   "execution_count": null,
   "metadata": {},
   "outputs": [],
   "source": []
  },
  {
   "cell_type": "code",
   "execution_count": 23,
   "metadata": {
    "scrolled": false
   },
   "outputs": [
    {
     "name": "stdout",
     "output_type": "stream",
     "text": [
      "Match_No\n"
     ]
    },
    {
     "data": {
      "image/png": "[encoded data removed]",
      "text/plain": [
       "<Figure size 720x360 with 1 Axes>"
      ]
     },
     "metadata": {
      "needs_background": "light"
     },
     "output_type": "display_data"
    },
    {
     "name": "stdout",
     "output_type": "stream",
     "text": [
      "D/N\n"
     ]
    },
    {
     "data": {
      "image/png": "[encoded data removed]",
      "text/plain": [
       "<Figure size 720x360 with 1 Axes>"
      ]
     },
     "metadata": {
      "needs_background": "light"
     },
     "output_type": "display_data"
    },
    {
     "name": "stdout",
     "output_type": "stream",
     "text": [
      "Runs\n"
     ]
    },
    {
     "data": {
      "image/png": "[encoded data removed]",
      "text/plain": [
       "<Figure size 720x360 with 1 Axes>"
      ]
     },
     "metadata": {
      "needs_background": "light"
     },
     "output_type": "display_data"
    },
    {
     "name": "stdout",
     "output_type": "stream",
     "text": [
      "Balls_Faced\n"
     ]
    },
    {
     "data": {
      "image/png": "[encoded data removed]",
      "text/plain": [
       "<Figure size 720x360 with 1 Axes>"
      ]
     },
     "metadata": {
      "needs_background": "light"
     },
     "output_type": "display_data"
    },
    {
     "name": "stdout",
     "output_type": "stream",
     "text": [
      "Strike_Rate\n"
     ]
    },
    {
     "data": {
      "image/png": "[encoded data removed]",
      "text/plain": [
       "<Figure size 720x360 with 1 Axes>"
      ]
     },
     "metadata": {
      "needs_background": "light"
     },
     "output_type": "display_data"
    },
    {
     "name": "stdout",
     "output_type": "stream",
     "text": [
      "Progressive_Aggr\n"
     ]
    },
    {
     "data": {
      "image/png": "[encoded data removed]",
      "text/plain": [
       "<Figure size 720x360 with 1 Axes>"
      ]
     },
     "metadata": {
      "needs_background": "light"
     },
     "output_type": "display_data"
    },
    {
     "name": "stdout",
     "output_type": "stream",
     "text": [
      "Progressive_Avg\n"
     ]
    },
    {
     "data": {
      "image/png": "[encoded data removed]",
      "text/plain": [
       "<Figure size 720x360 with 1 Axes>"
      ]
     },
     "metadata": {
      "needs_background": "light"
     },
     "output_type": "display_data"
    },
    {
     "name": "stdout",
     "output_type": "stream",
     "text": [
      "Progressive_Strike_Rate\n"
     ]
    },
    {
     "data": {
      "image/png": "[encoded data removed]",
      "text/plain": [
       "<Figure size 720x360 with 1 Axes>"
      ]
     },
     "metadata": {
      "needs_background": "light"
     },
     "output_type": "display_data"
    }
   ],
   "source": [
    "for i in df1.describe().columns:\n",
    "    print(i)\n",
    "    plt.figure(figsize=(10,5))\n",
    "    sns.distplot(df1[i],color='b')\n",
    "    plt.show()"
   ]
  },
  {
   "cell_type": "markdown",
   "metadata": {},
   "source": [
    "### Oppositions most played against"
   ]
  },
  {
   "cell_type": "code",
   "execution_count": 26,
   "metadata": {},
   "outputs": [
    {
     "name": "stdout",
     "output_type": "stream",
     "text": [
      "Total matches played against the opposition\n",
      "\n",
      "Sri Lanka               46\n",
      "Australia               41\n",
      "West Indies             38\n",
      "England                 33\n",
      "New Zealand             26\n",
      "South Africa            25\n",
      "Pakistan                13\n",
      "Bangladesh              12\n",
      "Zimbabwe                 5\n",
      "Ireland                  2\n",
      "Netherlands              1\n",
      "United Arab Emirates     1\n",
      "Afghanistan              1\n",
      "Name: Versus, dtype: int64\n"
     ]
    },
    {
     "data": {
      "image/png": "[encoded data removed]",
      "text/plain": [
       "<Figure size 720x360 with 1 Axes>"
      ]
     },
     "metadata": {
      "needs_background": "light"
     },
     "output_type": "display_data"
    },
    {
     "name": "stdout",
     "output_type": "stream",
     "text": [
      "----------\n",
      "Total D/N matches played\n",
      "D/N\n",
      "0     71\n",
      "1    173\n",
      "Name: Versus, dtype: int64\n"
     ]
    }
   ],
   "source": [
    "plt.figure(figsize=(10,5))\n",
    "sns.countplot(df1['Versus'], order=df1.Versus.value_counts().index,palette='winter_r')\n",
    "plt.xticks(rotation=90)\n",
    "print('Total matches played against the opposition\\n')\n",
    "print(df1['Versus'].value_counts())\n",
    "plt.grid()\n",
    "plt.show()\n",
    "\n",
    "print('-'*10)\n",
    "print('Total D/N matches played')\n",
    "print(df1.Versus.groupby(df1['D/N']).count())"
   ]
  },
  {
   "cell_type": "code",
   "execution_count": null,
   "metadata": {},
   "outputs": [],
   "source": []
  },
  {
   "cell_type": "markdown",
   "metadata": {},
   "source": [
    "# Grounds he has played and the average scores he has scored"
   ]
  },
  {
   "cell_type": "markdown",
   "metadata": {},
   "source": [
    "### 1. Average scores at each venues"
   ]
  },
  {
   "cell_type": "code",
   "execution_count": 33,
   "metadata": {},
   "outputs": [],
   "source": [
    "average_scores_at_each_venue = pd.DataFrame(df1.Runs.groupby(df1.Ground).mean())\n",
    "average_scores_at_each_venue['Ground'] = average_scores_at_each_venue.index ## creating new features from the index \n",
    "average_scores_at_each_venue.index = np.arange(0,len(average_scores_at_each_venue)) ## creating new indices"
   ]
  },
  {
   "cell_type": "markdown",
   "metadata": {},
   "source": [
    "### 2. Number of times he has played in each ground"
   ]
  },
  {
   "cell_type": "code",
   "execution_count": 34,
   "metadata": {},
   "outputs": [],
   "source": [
    "count_of_grounds = pd.DataFrame(df1.Ground.value_counts())\n",
    "count_of_grounds['Grounds'] = count_of_grounds.index\n",
    "count_of_grounds.index = np.arange(0,len(count_of_grounds))\n",
    "count_of_grounds.rename(columns={'Ground':'Count', 'Grounds':'Ground'},inplace=True)"
   ]
  },
  {
   "cell_type": "markdown",
   "metadata": {},
   "source": [
    "### 3. Merging Average scores and count of matches played there"
   ]
  },
  {
   "cell_type": "code",
   "execution_count": 35,
   "metadata": {},
   "outputs": [],
   "source": [
    "count_average_grounds = pd.merge(average_scores_at_each_venue,count_of_grounds,on='Ground')"
   ]
  },
  {
   "cell_type": "code",
   "execution_count": 36,
   "metadata": {},
   "outputs": [],
   "source": [
    "count_average_grounds.rename(columns={'Runs':'Average_Runs'},inplace=True) ## renaming columns"
   ]
  },
  {
   "cell_type": "code",
   "execution_count": 37,
   "metadata": {},
   "outputs": [],
   "source": [
    "count_average_grounds = count_average_grounds.sort_values(by='Average_Runs',ascending=False) ## sorting"
   ]
  },
  {
   "cell_type": "markdown",
   "metadata": {},
   "source": [
    "### Grounds where he has scored Average runs Above 50 (Minimum 5 Innings)"
   ]
  },
  {
   "cell_type": "code",
   "execution_count": 38,
   "metadata": {},
   "outputs": [
    {
     "data": {
      "text/html": [
       "<div>\n",
       "<style scoped>\n",
       "    .dataframe tbody tr th:only-of-type {\n",
       "        vertical-align: middle;\n",
       "    }\n",
       "\n",
       "    .dataframe tbody tr th {\n",
       "        vertical-align: top;\n",
       "    }\n",
       "\n",
       "    .dataframe thead th {\n",
       "        text-align: right;\n",
       "    }\n",
       "</style>\n",
       "<table border=\"1\" class=\"dataframe\">\n",
       "  <thead>\n",
       "    <tr style=\"text-align: right;\">\n",
       "      <th></th>\n",
       "      <th>Average_Runs</th>\n",
       "      <th>Ground</th>\n",
       "      <th>Count</th>\n",
       "    </tr>\n",
       "  </thead>\n",
       "  <tbody>\n",
       "    <tr>\n",
       "      <th>8</th>\n",
       "      <td>92.666667</td>\n",
       "      <td>Dr YS Rajasekhara Reddy Cricket Stadium</td>\n",
       "      <td>6</td>\n",
       "    </tr>\n",
       "    <tr>\n",
       "      <th>40</th>\n",
       "      <td>64.875000</td>\n",
       "      <td>R Premadasa Stadium</td>\n",
       "      <td>8</td>\n",
       "    </tr>\n",
       "    <tr>\n",
       "      <th>26</th>\n",
       "      <td>64.000000</td>\n",
       "      <td>Maharashtra Cricket Association Stadium</td>\n",
       "      <td>7</td>\n",
       "    </tr>\n",
       "    <tr>\n",
       "      <th>38</th>\n",
       "      <td>63.444444</td>\n",
       "      <td>Queen's Park Oval</td>\n",
       "      <td>9</td>\n",
       "    </tr>\n",
       "    <tr>\n",
       "      <th>49</th>\n",
       "      <td>60.461538</td>\n",
       "      <td>Shere Bangla National Stadium</td>\n",
       "      <td>13</td>\n",
       "    </tr>\n",
       "    <tr>\n",
       "      <th>9</th>\n",
       "      <td>54.333333</td>\n",
       "      <td>Eden Gardens</td>\n",
       "      <td>6</td>\n",
       "    </tr>\n",
       "  </tbody>\n",
       "</table>\n",
       "</div>"
      ],
      "text/plain": [
       "    Average_Runs                                   Ground  Count\n",
       "8      92.666667  Dr YS Rajasekhara Reddy Cricket Stadium      6\n",
       "40     64.875000                      R Premadasa Stadium      8\n",
       "26     64.000000  Maharashtra Cricket Association Stadium      7\n",
       "38     63.444444                        Queen's Park Oval      9\n",
       "49     60.461538            Shere Bangla National Stadium     13\n",
       "9      54.333333                             Eden Gardens      6"
      ]
     },
     "execution_count": 38,
     "metadata": {},
     "output_type": "execute_result"
    }
   ],
   "source": [
    "count_average_grounds.loc[(count_average_grounds['Count'] > 5) & (count_average_grounds['Average_Runs'] > 50)]"
   ]
  },
  {
   "cell_type": "code",
   "execution_count": null,
   "metadata": {},
   "outputs": [],
   "source": []
  },
  {
   "cell_type": "markdown",
   "metadata": {},
   "source": [
    "### Processing \"Dismissal Type\""
   ]
  },
  {
   "cell_type": "code",
   "execution_count": 39,
   "metadata": {},
   "outputs": [],
   "source": [
    "dty = []\n",
    "for i in df1['Dismissal_Type']:\n",
    "    dty.append(i.split(' ')[0])"
   ]
  },
  {
   "cell_type": "code",
   "execution_count": 40,
   "metadata": {},
   "outputs": [],
   "source": [
    "dty1 = []\n",
    "for i in dty:\n",
    "    if i == 'run':\n",
    "        dty1.append('run out')\n",
    "    elif i == 'not':\n",
    "        dty1.append('not out')\n",
    "    elif i == 'hit':\n",
    "        dty1.append('hit wicket')\n",
    "    else:\n",
    "        dty1.append(i)\n",
    "        \n",
    "df1['Dismissal_Type_info'] = dty1"
   ]
  },
  {
   "cell_type": "markdown",
   "metadata": {},
   "source": [
    "### Visualizing the dismissal types"
   ]
  },
  {
   "cell_type": "code",
   "execution_count": 41,
   "metadata": {},
   "outputs": [
    {
     "name": "stdout",
     "output_type": "stream",
     "text": [
      "c             147\n",
      "not out        39\n",
      "b              28\n",
      "lbw            14\n",
      "run out        11\n",
      "st              4\n",
      "hit wicket      1\n",
      "Name: Dismissal_Type_info, dtype: int64\n",
      "\n",
      "Total number of times dismissed : 244 (out of 254 matches)\n"
     ]
    },
    {
     "data": {
      "image/png": "[encoded data removed]",
      "text/plain": [
       "<Figure size 720x360 with 1 Axes>"
      ]
     },
     "metadata": {
      "needs_background": "light"
     },
     "output_type": "display_data"
    }
   ],
   "source": [
    "plt.figure(figsize=(10,5))\n",
    "sns.countplot(df1['Dismissal_Type_info'],order=df1['Dismissal_Type_info'].value_counts().index)\n",
    "plt.grid()\n",
    "print(df1['Dismissal_Type_info'].value_counts())\n",
    "\n",
    "print('\\nTotal number of times dismissed :',df1['Dismissal_Type_info'].value_counts().sum(),'(out of',len(df),'matches)')\n",
    "plt.show()"
   ]
  },
  {
   "cell_type": "code",
   "execution_count": null,
   "metadata": {},
   "outputs": [],
   "source": []
  },
  {
   "cell_type": "code",
   "execution_count": null,
   "metadata": {},
   "outputs": [],
   "source": []
  },
  {
   "cell_type": "markdown",
   "metadata": {},
   "source": [
    "# Average Runs scored in each country and the count of Innings played"
   ]
  },
  {
   "cell_type": "markdown",
   "metadata": {},
   "source": [
    "### 1. Average runs in each country"
   ]
  },
  {
   "cell_type": "code",
   "execution_count": 42,
   "metadata": {},
   "outputs": [],
   "source": [
    "avg_runs_wrt_country = pd.DataFrame(df1.Runs.groupby(df1.Country).mean())\n",
    "avg_runs_wrt_country['Country'] = avg_runs_wrt_country.index\n",
    "avg_runs_wrt_country.index = np.arange(0,len(avg_runs_wrt_country))\n",
    "avg_runs_wrt_country.rename(columns={'Runs':'Average_Runs'},inplace=True) ## renaming columns\n",
    "\n",
    "avg_runs_wrt_country = avg_runs_wrt_country.sort_values(by='Average_Runs',ascending=True) #Sorting"
   ]
  },
  {
   "cell_type": "markdown",
   "metadata": {},
   "source": [
    "### 2. Count of innings in each country"
   ]
  },
  {
   "cell_type": "code",
   "execution_count": 43,
   "metadata": {},
   "outputs": [],
   "source": [
    "count_of_innings_per_country = pd.DataFrame(df1.Runs.groupby(df1.Country).count())\n",
    "count_of_innings_per_country['Country'] = count_of_innings_per_country.index\n",
    "count_of_innings_per_country.index = np.arange(0,len(count_of_innings_per_country))\n",
    "count_of_innings_per_country.rename(columns={'Runs':'Count_Of_Innings'},inplace=True)\n",
    "# count_of_innings_per_country"
   ]
  },
  {
   "cell_type": "markdown",
   "metadata": {},
   "source": [
    "### 3. Merging 1 and 2"
   ]
  },
  {
   "cell_type": "code",
   "execution_count": 44,
   "metadata": {},
   "outputs": [],
   "source": [
    "avg_runs_wrt_country_with_coi = pd.merge(avg_runs_wrt_country,count_of_innings_per_country,on='Country')\n",
    "# avg_runs_wrt_country_with_coi"
   ]
  },
  {
   "cell_type": "code",
   "execution_count": 45,
   "metadata": {},
   "outputs": [
    {
     "name": "stdout",
     "output_type": "stream",
     "text": [
      "\n",
      "    Average_Runs       Country  Count_Of_Innings\n",
      "8     64.666667    Bangladesh                15\n",
      "7     60.833333      Zimbabwe                 6\n",
      "6     58.466667  South Africa                15\n",
      "5     52.568421         India                95\n",
      "4     48.529412   West Indies                17\n",
      "3     45.846154   New Zealand                13\n",
      "2     45.758621     Australia                29\n",
      "1     42.451613       England                31\n",
      "0     39.086957     Sri Lanka                23\n"
     ]
    },
    {
     "data": {
      "image/png": "[encoded data removed]",
      "text/plain": [
       "<Figure size 720x432 with 1 Axes>"
      ]
     },
     "metadata": {
      "needs_background": "light"
     },
     "output_type": "display_data"
    },
    {
     "name": "stdout",
     "output_type": "stream",
     "text": [
      "VK has more average in Bangladesh than in India\n"
     ]
    }
   ],
   "source": [
    "plt.figure(figsize=(10,6))\n",
    "plt.barh(avg_runs_wrt_country_with_coi.Country, avg_runs_wrt_country_with_coi.Average_Runs,color='b')\n",
    "plt.grid()\n",
    "print('\\n',avg_runs_wrt_country_with_coi.sort_values('Average_Runs',ascending=False))\n",
    "plt.title('Average Runs scored in each country')\n",
    "plt.xlabel('Average Runs')\n",
    "plt.ylabel('Country')\n",
    "plt.show()\n",
    "\n",
    "print('VK has more average in Bangladesh than in India')"
   ]
  },
  {
   "cell_type": "code",
   "execution_count": null,
   "metadata": {},
   "outputs": [],
   "source": []
  },
  {
   "cell_type": "markdown",
   "metadata": {},
   "source": [
    "# Average Runs scored WRT Continent Category."
   ]
  },
  {
   "cell_type": "code",
   "execution_count": 46,
   "metadata": {},
   "outputs": [],
   "source": [
    "avg_runs_wrt_cc = pd.DataFrame(df1.Runs.groupby(df1.Continent_Category).mean())\n",
    "avg_runs_wrt_cc['Continent_Category'] = avg_runs_wrt_cc.index\n",
    "avg_runs_wrt_cc.index = np.arange(0,len(avg_runs_wrt_cc))\n",
    "# avg_runs_wrt_cc"
   ]
  },
  {
   "cell_type": "code",
   "execution_count": 55,
   "metadata": {},
   "outputs": [
    {
     "name": "stdout",
     "output_type": "stream",
     "text": [
      "        Runs Continent_Category\n",
      "1  51.739130              Other\n",
      "0  51.601504               Asia\n",
      "2  46.772727               SENA\n",
      "\n",
      "*LEGEND*\n",
      "SENA : SA, England, NZ & Australia.\n",
      "Other : WI, Zimbabwe, UAE, Etc.\n"
     ]
    },
    {
     "data": {
      "image/png": "[encoded data removed]",
      "text/plain": [
       "<Figure size 576x504 with 1 Axes>"
      ]
     },
     "metadata": {},
     "output_type": "display_data"
    }
   ],
   "source": [
    "plt.figure(figsize=(8,7))\n",
    "plt.pie(avg_runs_wrt_cc.Runs,labels=avg_runs_wrt_cc.Continent_Category,colors=['lightblue','orange','pink'],startangle=90)\n",
    "print(avg_runs_wrt_cc.sort_values(by='Runs',ascending=False))\n",
    "print('\\n*LEGEND*\\nSENA : SA, England, NZ & Australia.\\nOther : WI, Zimbabwe, UAE, Etc.')\n",
    "plt.show()"
   ]
  },
  {
   "cell_type": "code",
   "execution_count": null,
   "metadata": {},
   "outputs": [],
   "source": []
  },
  {
   "cell_type": "markdown",
   "metadata": {},
   "source": [
    "# Highest average strike rate wrt Oppositions and the count of innings he played"
   ]
  },
  {
   "cell_type": "markdown",
   "metadata": {},
   "source": [
    "### 1/.Avg st rate and opposition"
   ]
  },
  {
   "cell_type": "code",
   "execution_count": 71,
   "metadata": {},
   "outputs": [],
   "source": [
    "sr_wrt_versus = pd.DataFrame(df1.Strike_Rate.groupby(df1.Versus).mean())\n",
    "sr_wrt_versus['Versus'] = sr_wrt_versus.index\n",
    "sr_wrt_versus.index = np.arange(0,len(sr_wrt_versus))\n",
    "# sr_wrt_versus"
   ]
  },
  {
   "cell_type": "markdown",
   "metadata": {},
   "source": [
    "### 2. Opposition and the count of innings"
   ]
  },
  {
   "cell_type": "code",
   "execution_count": 70,
   "metadata": {},
   "outputs": [],
   "source": [
    "coi_strate = pd.DataFrame(df1.Runs.groupby(df1.Versus).count())\n",
    "coi_strate['Versus'] = coi_strate.index\n",
    "coi_strate.index = np.arange(0,len(coi_strate))\n",
    "coi_strate.rename(columns={'Runs':'Count_Of_Innings'},inplace=True)\n",
    "# coi_strate"
   ]
  },
  {
   "cell_type": "markdown",
   "metadata": {},
   "source": [
    "### 3. Merge 1 and 2"
   ]
  },
  {
   "cell_type": "code",
   "execution_count": 74,
   "metadata": {},
   "outputs": [],
   "source": [
    "sr_versus_coi = pd.merge(sr_wrt_versus,coi_strate,on='Versus')\n",
    "sr_versus_coi = sr_versus_coi.sort_values(by='Strike_Rate')"
   ]
  },
  {
   "cell_type": "code",
   "execution_count": 81,
   "metadata": {},
   "outputs": [
    {
     "name": "stdout",
     "output_type": "stream",
     "text": [
      "    Strike_Rate                Versus  Count_Of_Innings\n",
      "5     60.000000           Netherlands                 1\n",
      "7     70.206923              Pakistan                13\n",
      "8     75.481600          South Africa                25\n",
      "6     76.591154           New Zealand                26\n",
      "3     78.323636               England                33\n",
      "10    80.490000  United Arab Emirates                 1\n",
      "12    80.554000              Zimbabwe                 5\n",
      "9     80.655217             Sri Lanka                46\n",
      "2     83.128333            Bangladesh                12\n",
      "4     84.455000               Ireland                 2\n",
      "1     84.461951             Australia                41\n",
      "11    86.367632           West Indies                38\n",
      "0    106.350000           Afghanistan                 1\n"
     ]
    },
    {
     "data": {
      "image/png": "[encoded data removed]",
      "text/plain": [
       "<Figure size 720x432 with 1 Axes>"
      ]
     },
     "metadata": {
      "needs_background": "light"
     },
     "output_type": "display_data"
    }
   ],
   "source": [
    "plt.figure(figsize=(10,6))\n",
    "plt.barh(sr_versus_coi.Versus,sr_versus_coi.Strike_Rate,color='orange')\n",
    "plt.grid()\n",
    "print(sr_versus_coi)\n",
    "plt.show()"
   ]
  },
  {
   "cell_type": "code",
   "execution_count": null,
   "metadata": {},
   "outputs": [],
   "source": []
  },
  {
   "cell_type": "code",
   "execution_count": null,
   "metadata": {},
   "outputs": [],
   "source": []
  },
  {
   "cell_type": "markdown",
   "metadata": {},
   "source": [
    "# Highest average scores and the number of innings against them."
   ]
  },
  {
   "cell_type": "markdown",
   "metadata": {},
   "source": [
    "### 1. runs vs oppositions (average scores)"
   ]
  },
  {
   "cell_type": "code",
   "execution_count": 90,
   "metadata": {},
   "outputs": [],
   "source": [
    "runs_wrt_versus = pd.DataFrame(df1.Runs.groupby(df1.Versus).mean())\n",
    "runs_wrt_versus['Versus'] = runs_wrt_versus.index\n",
    "runs_wrt_versus.index = np.arange(0,len(runs_wrt_versus))\n",
    "# runs_wrt_versus"
   ]
  },
  {
   "cell_type": "markdown",
   "metadata": {},
   "source": [
    "### 2. number of times played against the opposition"
   ]
  },
  {
   "cell_type": "code",
   "execution_count": 91,
   "metadata": {},
   "outputs": [],
   "source": [
    "coi_runs = pd.DataFrame(df1.Runs.groupby(df1.Versus).count())\n",
    "coi_runs['Versus'] = coi_runs.index\n",
    "coi_runs.index = np.arange(0,len(coi_runs))\n",
    "coi_runs.rename(columns={'Runs':'Count_Of_Innings'},inplace=True)\n",
    "# coi_runs"
   ]
  },
  {
   "cell_type": "markdown",
   "metadata": {},
   "source": [
    "### 3. Merge 1 & 2"
   ]
  },
  {
   "cell_type": "code",
   "execution_count": 84,
   "metadata": {},
   "outputs": [],
   "source": [
    "runs_versus_coi = pd.merge(runs_wrt_versus,coi_runs,on='Versus')\n",
    "runs_versus_coi = runs_versus_coi.sort_values(by='Runs')"
   ]
  },
  {
   "cell_type": "code",
   "execution_count": 95,
   "metadata": {},
   "outputs": [
    {
     "name": "stdout",
     "output_type": "stream",
     "text": [
      "         Runs                Versus  Count_Of_Innings\n",
      "0   67.000000           Afghanistan                 1\n",
      "11  58.815789           West Indies                38\n",
      "2   56.666667            Bangladesh                12\n",
      "6   53.000000           New Zealand                26\n",
      "8   51.480000          South Africa                25\n",
      "1   50.804878             Australia                41\n",
      "12  50.600000              Zimbabwe                 5\n",
      "9   48.260870             Sri Lanka                46\n",
      "7   41.230769              Pakistan                13\n",
      "3   39.606061               England                33\n",
      "4   39.000000               Ireland                 2\n",
      "10  33.000000  United Arab Emirates                 1\n",
      "5   12.000000           Netherlands                 1\n"
     ]
    },
    {
     "data": {
      "image/png": "[encoded data removed]",
      "text/plain": [
       "<Figure size 720x432 with 1 Axes>"
      ]
     },
     "metadata": {
      "needs_background": "light"
     },
     "output_type": "display_data"
    }
   ],
   "source": [
    "plt.figure(figsize=(10,6))\n",
    "plt.barh(runs_versus_coi.Versus,runs_versus_coi.Runs,color='pink')\n",
    "plt.grid()\n",
    "print(runs_versus_coi.sort_values('Runs',ascending=False))\n",
    "plt.show()"
   ]
  },
  {
   "cell_type": "code",
   "execution_count": null,
   "metadata": {},
   "outputs": [],
   "source": []
  },
  {
   "cell_type": "code",
   "execution_count": null,
   "metadata": {},
   "outputs": [],
   "source": [
    "\n"
   ]
  },
  {
   "cell_type": "code",
   "execution_count": null,
   "metadata": {},
   "outputs": [],
   "source": []
  },
  {
   "cell_type": "code",
   "execution_count": null,
   "metadata": {},
   "outputs": [],
   "source": []
  },
  {
   "cell_type": "code",
   "execution_count": null,
   "metadata": {},
   "outputs": [],
   "source": []
  },
  {
   "cell_type": "markdown",
   "metadata": {},
   "source": [
    "### Creating New Features for Century and Half Century"
   ]
  },
  {
   "cell_type": "code",
   "execution_count": 58,
   "metadata": {},
   "outputs": [],
   "source": [
    "c = []\n",
    "hc = []\n",
    "for i in df1.Runs:\n",
    "    if i >= 100:\n",
    "        c.append(1)\n",
    "    else :\n",
    "        c.append(0)\n",
    "for i in df1.Runs:        \n",
    "    if 50 <= i < 100:\n",
    "        hc.append(1)\n",
    "    else :\n",
    "        hc.append(0)\n",
    "        \n",
    "df1['Century'] = c\n",
    "df1['Half_Century'] = hc"
   ]
  },
  {
   "cell_type": "code",
   "execution_count": 59,
   "metadata": {},
   "outputs": [
    {
     "data": {
      "text/html": [
       "<div>\n",
       "<style scoped>\n",
       "    .dataframe tbody tr th:only-of-type {\n",
       "        vertical-align: middle;\n",
       "    }\n",
       "\n",
       "    .dataframe tbody tr th {\n",
       "        vertical-align: top;\n",
       "    }\n",
       "\n",
       "    .dataframe thead th {\n",
       "        text-align: right;\n",
       "    }\n",
       "</style>\n",
       "<table border=\"1\" class=\"dataframe\">\n",
       "  <thead>\n",
       "    <tr style=\"text-align: right;\">\n",
       "      <th></th>\n",
       "      <th>Match_No</th>\n",
       "      <th>Date</th>\n",
       "      <th>Versus</th>\n",
       "      <th>Ground</th>\n",
       "      <th>Country</th>\n",
       "      <th>Continent_Category</th>\n",
       "      <th>D/N</th>\n",
       "      <th>Dismissal_Type</th>\n",
       "      <th>Runs</th>\n",
       "      <th>Balls_Faced</th>\n",
       "      <th>Strike_Rate</th>\n",
       "      <th>Progressive_Aggr</th>\n",
       "      <th>Progressive_Avg</th>\n",
       "      <th>Progressive_Strike_Rate</th>\n",
       "      <th>Status</th>\n",
       "      <th>Dismissal_Type_info</th>\n",
       "      <th>Century</th>\n",
       "      <th>Half_Century</th>\n",
       "    </tr>\n",
       "  </thead>\n",
       "  <tbody>\n",
       "    <tr>\n",
       "      <th>0</th>\n",
       "      <td>1</td>\n",
       "      <td>18-08-2008</td>\n",
       "      <td>Sri Lanka</td>\n",
       "      <td>Rangiri Dambulla International Stadium</td>\n",
       "      <td>Sri Lanka</td>\n",
       "      <td>Asia</td>\n",
       "      <td>0</td>\n",
       "      <td>lbw b K M D N Kulasekara</td>\n",
       "      <td>12</td>\n",
       "      <td>22</td>\n",
       "      <td>54.55</td>\n",
       "      <td>12</td>\n",
       "      <td>12.00</td>\n",
       "      <td>54.55</td>\n",
       "      <td>Out</td>\n",
       "      <td>lbw</td>\n",
       "      <td>0</td>\n",
       "      <td>0</td>\n",
       "    </tr>\n",
       "    <tr>\n",
       "      <th>1</th>\n",
       "      <td>2</td>\n",
       "      <td>20-08-2008</td>\n",
       "      <td>Sri Lanka</td>\n",
       "      <td>Rangiri Dambulla International Stadium</td>\n",
       "      <td>Sri Lanka</td>\n",
       "      <td>Asia</td>\n",
       "      <td>0</td>\n",
       "      <td>c C K Kapugedera b T Thushara</td>\n",
       "      <td>37</td>\n",
       "      <td>67</td>\n",
       "      <td>55.22</td>\n",
       "      <td>49</td>\n",
       "      <td>24.50</td>\n",
       "      <td>55.06</td>\n",
       "      <td>Out</td>\n",
       "      <td>c</td>\n",
       "      <td>0</td>\n",
       "      <td>0</td>\n",
       "    </tr>\n",
       "    <tr>\n",
       "      <th>2</th>\n",
       "      <td>3</td>\n",
       "      <td>24-08-2008</td>\n",
       "      <td>Sri Lanka</td>\n",
       "      <td>R Premadasa Stadium</td>\n",
       "      <td>Sri Lanka</td>\n",
       "      <td>Asia</td>\n",
       "      <td>1</td>\n",
       "      <td>run out</td>\n",
       "      <td>25</td>\n",
       "      <td>38</td>\n",
       "      <td>65.79</td>\n",
       "      <td>74</td>\n",
       "      <td>24.67</td>\n",
       "      <td>58.27</td>\n",
       "      <td>Out</td>\n",
       "      <td>run out</td>\n",
       "      <td>0</td>\n",
       "      <td>0</td>\n",
       "    </tr>\n",
       "    <tr>\n",
       "      <th>3</th>\n",
       "      <td>4</td>\n",
       "      <td>27-08-2008</td>\n",
       "      <td>Sri Lanka</td>\n",
       "      <td>R Premadasa Stadium</td>\n",
       "      <td>Sri Lanka</td>\n",
       "      <td>Asia</td>\n",
       "      <td>1</td>\n",
       "      <td>b T Thushara</td>\n",
       "      <td>54</td>\n",
       "      <td>66</td>\n",
       "      <td>81.82</td>\n",
       "      <td>128</td>\n",
       "      <td>32.00</td>\n",
       "      <td>66.32</td>\n",
       "      <td>Out</td>\n",
       "      <td>b</td>\n",
       "      <td>0</td>\n",
       "      <td>1</td>\n",
       "    </tr>\n",
       "    <tr>\n",
       "      <th>4</th>\n",
       "      <td>5</td>\n",
       "      <td>29-08-2008</td>\n",
       "      <td>Sri Lanka</td>\n",
       "      <td>R Premadasa Stadium</td>\n",
       "      <td>Sri Lanka</td>\n",
       "      <td>Asia</td>\n",
       "      <td>1</td>\n",
       "      <td>lbw b K M D N Kulasekara</td>\n",
       "      <td>31</td>\n",
       "      <td>46</td>\n",
       "      <td>67.39</td>\n",
       "      <td>159</td>\n",
       "      <td>31.80</td>\n",
       "      <td>66.53</td>\n",
       "      <td>Out</td>\n",
       "      <td>lbw</td>\n",
       "      <td>0</td>\n",
       "      <td>0</td>\n",
       "    </tr>\n",
       "  </tbody>\n",
       "</table>\n",
       "</div>"
      ],
      "text/plain": [
       "   Match_No        Date     Versus                                  Ground  \\\n",
       "0         1  18-08-2008  Sri Lanka  Rangiri Dambulla International Stadium   \n",
       "1         2  20-08-2008  Sri Lanka  Rangiri Dambulla International Stadium   \n",
       "2         3  24-08-2008  Sri Lanka                     R Premadasa Stadium   \n",
       "3         4  27-08-2008  Sri Lanka                     R Premadasa Stadium   \n",
       "4         5  29-08-2008  Sri Lanka                     R Premadasa Stadium   \n",
       "\n",
       "     Country Continent_Category  D/N                 Dismissal_Type  Runs  \\\n",
       "0  Sri Lanka               Asia    0       lbw b K M D N Kulasekara    12   \n",
       "1  Sri Lanka               Asia    0  c C K Kapugedera b T Thushara    37   \n",
       "2  Sri Lanka               Asia    1                        run out    25   \n",
       "3  Sri Lanka               Asia    1                   b T Thushara    54   \n",
       "4  Sri Lanka               Asia    1       lbw b K M D N Kulasekara    31   \n",
       "\n",
       "   Balls_Faced  Strike_Rate  Progressive_Aggr  Progressive_Avg  \\\n",
       "0           22        54.55                12            12.00   \n",
       "1           67        55.22                49            24.50   \n",
       "2           38        65.79                74            24.67   \n",
       "3           66        81.82               128            32.00   \n",
       "4           46        67.39               159            31.80   \n",
       "\n",
       "   Progressive_Strike_Rate Status Dismissal_Type_info  Century  Half_Century  \n",
       "0                    54.55    Out                 lbw        0             0  \n",
       "1                    55.06    Out                   c        0             0  \n",
       "2                    58.27    Out             run out        0             0  \n",
       "3                    66.32    Out                   b        0             1  \n",
       "4                    66.53    Out                 lbw        0             0  "
      ]
     },
     "execution_count": 59,
     "metadata": {},
     "output_type": "execute_result"
    }
   ],
   "source": [
    "df1.head()"
   ]
  },
  {
   "cell_type": "code",
   "execution_count": null,
   "metadata": {},
   "outputs": [],
   "source": []
  },
  {
   "cell_type": "code",
   "execution_count": 48,
   "metadata": {},
   "outputs": [],
   "source": [
    "# df1[df1.Dismissal_Type.str.contains('Kulase')]"
   ]
  },
  {
   "cell_type": "code",
   "execution_count": null,
   "metadata": {},
   "outputs": [],
   "source": []
  },
  {
   "cell_type": "code",
   "execution_count": null,
   "metadata": {},
   "outputs": [],
   "source": []
  },
  {
   "cell_type": "code",
   "execution_count": null,
   "metadata": {},
   "outputs": [],
   "source": []
  },
  {
   "cell_type": "code",
   "execution_count": null,
   "metadata": {},
   "outputs": [],
   "source": []
  },
  {
   "cell_type": "code",
   "execution_count": null,
   "metadata": {},
   "outputs": [],
   "source": []
  },
  {
   "cell_type": "markdown",
   "metadata": {},
   "source": [
    "### Predictions"
   ]
  },
  {
   "cell_type": "code",
   "execution_count": 40,
   "metadata": {},
   "outputs": [],
   "source": [
    "ml = df1.copy()"
   ]
  },
  {
   "cell_type": "code",
   "execution_count": 41,
   "metadata": {},
   "outputs": [],
   "source": [
    "from sklearn.preprocessing import LabelEncoder"
   ]
  },
  {
   "cell_type": "code",
   "execution_count": 42,
   "metadata": {},
   "outputs": [
    {
     "data": {
      "text/html": [
       "<div>\n",
       "<style scoped>\n",
       "    .dataframe tbody tr th:only-of-type {\n",
       "        vertical-align: middle;\n",
       "    }\n",
       "\n",
       "    .dataframe tbody tr th {\n",
       "        vertical-align: top;\n",
       "    }\n",
       "\n",
       "    .dataframe thead th {\n",
       "        text-align: right;\n",
       "    }\n",
       "</style>\n",
       "<table border=\"1\" class=\"dataframe\">\n",
       "  <thead>\n",
       "    <tr style=\"text-align: right;\">\n",
       "      <th></th>\n",
       "      <th>Match_No</th>\n",
       "      <th>Date</th>\n",
       "      <th>Versus</th>\n",
       "      <th>Ground</th>\n",
       "      <th>D/N</th>\n",
       "      <th>Dismissal_Type</th>\n",
       "      <th>Runs</th>\n",
       "      <th>Balls_Faced</th>\n",
       "      <th>Strike_Rate</th>\n",
       "      <th>Progressive_Aggr</th>\n",
       "      <th>Progressive_Avg</th>\n",
       "      <th>Progressive_Strike_Rate</th>\n",
       "      <th>Status</th>\n",
       "      <th>Dismissal_Type_info</th>\n",
       "    </tr>\n",
       "  </thead>\n",
       "  <tbody>\n",
       "    <tr>\n",
       "      <th>0</th>\n",
       "      <td>1</td>\n",
       "      <td>18-08-2008</td>\n",
       "      <td>Sri Lanka</td>\n",
       "      <td>Rangiri Dambulla International Stadium</td>\n",
       "      <td>0</td>\n",
       "      <td>lbw b K M D N Kulasekara</td>\n",
       "      <td>12</td>\n",
       "      <td>22</td>\n",
       "      <td>54.55</td>\n",
       "      <td>12</td>\n",
       "      <td>12.00</td>\n",
       "      <td>54.55</td>\n",
       "      <td>Out</td>\n",
       "      <td>lbw</td>\n",
       "    </tr>\n",
       "    <tr>\n",
       "      <th>1</th>\n",
       "      <td>2</td>\n",
       "      <td>20-08-2008</td>\n",
       "      <td>Sri Lanka</td>\n",
       "      <td>Rangiri Dambulla International Stadium</td>\n",
       "      <td>0</td>\n",
       "      <td>c C K Kapugedera b T Thushara</td>\n",
       "      <td>37</td>\n",
       "      <td>67</td>\n",
       "      <td>55.22</td>\n",
       "      <td>49</td>\n",
       "      <td>24.50</td>\n",
       "      <td>55.06</td>\n",
       "      <td>Out</td>\n",
       "      <td>c</td>\n",
       "    </tr>\n",
       "    <tr>\n",
       "      <th>2</th>\n",
       "      <td>3</td>\n",
       "      <td>24-08-2008</td>\n",
       "      <td>Sri Lanka</td>\n",
       "      <td>R Premadasa Stadium</td>\n",
       "      <td>1</td>\n",
       "      <td>run out</td>\n",
       "      <td>25</td>\n",
       "      <td>38</td>\n",
       "      <td>65.79</td>\n",
       "      <td>74</td>\n",
       "      <td>24.67</td>\n",
       "      <td>58.27</td>\n",
       "      <td>Out</td>\n",
       "      <td>run out</td>\n",
       "    </tr>\n",
       "    <tr>\n",
       "      <th>3</th>\n",
       "      <td>4</td>\n",
       "      <td>27-08-2008</td>\n",
       "      <td>Sri Lanka</td>\n",
       "      <td>R Premadasa Stadium</td>\n",
       "      <td>1</td>\n",
       "      <td>b T Thushara</td>\n",
       "      <td>54</td>\n",
       "      <td>66</td>\n",
       "      <td>81.82</td>\n",
       "      <td>128</td>\n",
       "      <td>32.00</td>\n",
       "      <td>66.32</td>\n",
       "      <td>Out</td>\n",
       "      <td>b</td>\n",
       "    </tr>\n",
       "    <tr>\n",
       "      <th>4</th>\n",
       "      <td>5</td>\n",
       "      <td>29-08-2008</td>\n",
       "      <td>Sri Lanka</td>\n",
       "      <td>R Premadasa Stadium</td>\n",
       "      <td>1</td>\n",
       "      <td>lbw b K M D N Kulasekara</td>\n",
       "      <td>31</td>\n",
       "      <td>46</td>\n",
       "      <td>67.39</td>\n",
       "      <td>159</td>\n",
       "      <td>31.80</td>\n",
       "      <td>66.53</td>\n",
       "      <td>Out</td>\n",
       "      <td>lbw</td>\n",
       "    </tr>\n",
       "  </tbody>\n",
       "</table>\n",
       "</div>"
      ],
      "text/plain": [
       "   Match_No        Date     Versus                                  Ground  \\\n",
       "0         1  18-08-2008  Sri Lanka  Rangiri Dambulla International Stadium   \n",
       "1         2  20-08-2008  Sri Lanka  Rangiri Dambulla International Stadium   \n",
       "2         3  24-08-2008  Sri Lanka                     R Premadasa Stadium   \n",
       "3         4  27-08-2008  Sri Lanka                     R Premadasa Stadium   \n",
       "4         5  29-08-2008  Sri Lanka                     R Premadasa Stadium   \n",
       "\n",
       "   D/N                 Dismissal_Type  Runs  Balls_Faced  Strike_Rate  \\\n",
       "0    0       lbw b K M D N Kulasekara    12           22        54.55   \n",
       "1    0  c C K Kapugedera b T Thushara    37           67        55.22   \n",
       "2    1                        run out    25           38        65.79   \n",
       "3    1                   b T Thushara    54           66        81.82   \n",
       "4    1       lbw b K M D N Kulasekara    31           46        67.39   \n",
       "\n",
       "   Progressive_Aggr  Progressive_Avg  Progressive_Strike_Rate Status  \\\n",
       "0                12            12.00                    54.55    Out   \n",
       "1                49            24.50                    55.06    Out   \n",
       "2                74            24.67                    58.27    Out   \n",
       "3               128            32.00                    66.32    Out   \n",
       "4               159            31.80                    66.53    Out   \n",
       "\n",
       "  Dismissal_Type_info  \n",
       "0                 lbw  \n",
       "1                   c  \n",
       "2             run out  \n",
       "3                   b  \n",
       "4                 lbw  "
      ]
     },
     "execution_count": 42,
     "metadata": {},
     "output_type": "execute_result"
    }
   ],
   "source": [
    "ml.head()"
   ]
  },
  {
   "cell_type": "code",
   "execution_count": 43,
   "metadata": {},
   "outputs": [],
   "source": [
    "le = LabelEncoder()\n",
    "ml['Ground_encoded'] = le.fit_transform(ml['Ground'])\n",
    "ml['Dismissal_Type_info'] = le.fit_transform(ml['Dismissal_Type_info'])\n"
   ]
  },
  {
   "cell_type": "code",
   "execution_count": 44,
   "metadata": {},
   "outputs": [],
   "source": [
    "ml['Versus_encoded'] = le.fit_transform(ml['Versus'])"
   ]
  },
  {
   "cell_type": "code",
   "execution_count": 45,
   "metadata": {},
   "outputs": [
    {
     "data": {
      "text/html": [
       "<div>\n",
       "<style scoped>\n",
       "    .dataframe tbody tr th:only-of-type {\n",
       "        vertical-align: middle;\n",
       "    }\n",
       "\n",
       "    .dataframe tbody tr th {\n",
       "        vertical-align: top;\n",
       "    }\n",
       "\n",
       "    .dataframe thead th {\n",
       "        text-align: right;\n",
       "    }\n",
       "</style>\n",
       "<table border=\"1\" class=\"dataframe\">\n",
       "  <thead>\n",
       "    <tr style=\"text-align: right;\">\n",
       "      <th></th>\n",
       "      <th>Match_No</th>\n",
       "      <th>Date</th>\n",
       "      <th>Versus</th>\n",
       "      <th>Ground</th>\n",
       "      <th>D/N</th>\n",
       "      <th>Dismissal_Type</th>\n",
       "      <th>Runs</th>\n",
       "      <th>Balls_Faced</th>\n",
       "      <th>Strike_Rate</th>\n",
       "      <th>Progressive_Aggr</th>\n",
       "      <th>Progressive_Avg</th>\n",
       "      <th>Progressive_Strike_Rate</th>\n",
       "      <th>Status</th>\n",
       "      <th>Dismissal_Type_info</th>\n",
       "      <th>Ground_encoded</th>\n",
       "      <th>Versus_encoded</th>\n",
       "    </tr>\n",
       "  </thead>\n",
       "  <tbody>\n",
       "    <tr>\n",
       "      <th>0</th>\n",
       "      <td>1</td>\n",
       "      <td>18-08-2008</td>\n",
       "      <td>Sri Lanka</td>\n",
       "      <td>Rangiri Dambulla International Stadium</td>\n",
       "      <td>0</td>\n",
       "      <td>lbw b K M D N Kulasekara</td>\n",
       "      <td>12</td>\n",
       "      <td>22</td>\n",
       "      <td>54.55</td>\n",
       "      <td>12</td>\n",
       "      <td>12.00</td>\n",
       "      <td>54.55</td>\n",
       "      <td>Out</td>\n",
       "      <td>3</td>\n",
       "      <td>42</td>\n",
       "      <td>9</td>\n",
       "    </tr>\n",
       "    <tr>\n",
       "      <th>1</th>\n",
       "      <td>2</td>\n",
       "      <td>20-08-2008</td>\n",
       "      <td>Sri Lanka</td>\n",
       "      <td>Rangiri Dambulla International Stadium</td>\n",
       "      <td>0</td>\n",
       "      <td>c C K Kapugedera b T Thushara</td>\n",
       "      <td>37</td>\n",
       "      <td>67</td>\n",
       "      <td>55.22</td>\n",
       "      <td>49</td>\n",
       "      <td>24.50</td>\n",
       "      <td>55.06</td>\n",
       "      <td>Out</td>\n",
       "      <td>1</td>\n",
       "      <td>42</td>\n",
       "      <td>9</td>\n",
       "    </tr>\n",
       "    <tr>\n",
       "      <th>2</th>\n",
       "      <td>3</td>\n",
       "      <td>24-08-2008</td>\n",
       "      <td>Sri Lanka</td>\n",
       "      <td>R Premadasa Stadium</td>\n",
       "      <td>1</td>\n",
       "      <td>run out</td>\n",
       "      <td>25</td>\n",
       "      <td>38</td>\n",
       "      <td>65.79</td>\n",
       "      <td>74</td>\n",
       "      <td>24.67</td>\n",
       "      <td>58.27</td>\n",
       "      <td>Out</td>\n",
       "      <td>5</td>\n",
       "      <td>40</td>\n",
       "      <td>9</td>\n",
       "    </tr>\n",
       "    <tr>\n",
       "      <th>3</th>\n",
       "      <td>4</td>\n",
       "      <td>27-08-2008</td>\n",
       "      <td>Sri Lanka</td>\n",
       "      <td>R Premadasa Stadium</td>\n",
       "      <td>1</td>\n",
       "      <td>b T Thushara</td>\n",
       "      <td>54</td>\n",
       "      <td>66</td>\n",
       "      <td>81.82</td>\n",
       "      <td>128</td>\n",
       "      <td>32.00</td>\n",
       "      <td>66.32</td>\n",
       "      <td>Out</td>\n",
       "      <td>0</td>\n",
       "      <td>40</td>\n",
       "      <td>9</td>\n",
       "    </tr>\n",
       "    <tr>\n",
       "      <th>4</th>\n",
       "      <td>5</td>\n",
       "      <td>29-08-2008</td>\n",
       "      <td>Sri Lanka</td>\n",
       "      <td>R Premadasa Stadium</td>\n",
       "      <td>1</td>\n",
       "      <td>lbw b K M D N Kulasekara</td>\n",
       "      <td>31</td>\n",
       "      <td>46</td>\n",
       "      <td>67.39</td>\n",
       "      <td>159</td>\n",
       "      <td>31.80</td>\n",
       "      <td>66.53</td>\n",
       "      <td>Out</td>\n",
       "      <td>3</td>\n",
       "      <td>40</td>\n",
       "      <td>9</td>\n",
       "    </tr>\n",
       "  </tbody>\n",
       "</table>\n",
       "</div>"
      ],
      "text/plain": [
       "   Match_No        Date     Versus                                  Ground  \\\n",
       "0         1  18-08-2008  Sri Lanka  Rangiri Dambulla International Stadium   \n",
       "1         2  20-08-2008  Sri Lanka  Rangiri Dambulla International Stadium   \n",
       "2         3  24-08-2008  Sri Lanka                     R Premadasa Stadium   \n",
       "3         4  27-08-2008  Sri Lanka                     R Premadasa Stadium   \n",
       "4         5  29-08-2008  Sri Lanka                     R Premadasa Stadium   \n",
       "\n",
       "   D/N                 Dismissal_Type  Runs  Balls_Faced  Strike_Rate  \\\n",
       "0    0       lbw b K M D N Kulasekara    12           22        54.55   \n",
       "1    0  c C K Kapugedera b T Thushara    37           67        55.22   \n",
       "2    1                        run out    25           38        65.79   \n",
       "3    1                   b T Thushara    54           66        81.82   \n",
       "4    1       lbw b K M D N Kulasekara    31           46        67.39   \n",
       "\n",
       "   Progressive_Aggr  Progressive_Avg  Progressive_Strike_Rate Status  \\\n",
       "0                12            12.00                    54.55    Out   \n",
       "1                49            24.50                    55.06    Out   \n",
       "2                74            24.67                    58.27    Out   \n",
       "3               128            32.00                    66.32    Out   \n",
       "4               159            31.80                    66.53    Out   \n",
       "\n",
       "   Dismissal_Type_info  Ground_encoded  Versus_encoded  \n",
       "0                    3              42               9  \n",
       "1                    1              42               9  \n",
       "2                    5              40               9  \n",
       "3                    0              40               9  \n",
       "4                    3              40               9  "
      ]
     },
     "execution_count": 45,
     "metadata": {},
     "output_type": "execute_result"
    }
   ],
   "source": [
    "ml.head()"
   ]
  },
  {
   "cell_type": "code",
   "execution_count": 46,
   "metadata": {},
   "outputs": [],
   "source": [
    "ml.drop(['Match_No','Date','Versus','Ground','Dismissal_Type','Balls_Faced','Progressive_Aggr','Progressive_Avg','Progressive_Strike_Rate','Status'],axis=1,inplace=True)"
   ]
  },
  {
   "cell_type": "code",
   "execution_count": 47,
   "metadata": {},
   "outputs": [
    {
     "data": {
      "text/html": [
       "<div>\n",
       "<style scoped>\n",
       "    .dataframe tbody tr th:only-of-type {\n",
       "        vertical-align: middle;\n",
       "    }\n",
       "\n",
       "    .dataframe tbody tr th {\n",
       "        vertical-align: top;\n",
       "    }\n",
       "\n",
       "    .dataframe thead th {\n",
       "        text-align: right;\n",
       "    }\n",
       "</style>\n",
       "<table border=\"1\" class=\"dataframe\">\n",
       "  <thead>\n",
       "    <tr style=\"text-align: right;\">\n",
       "      <th></th>\n",
       "      <th>D/N</th>\n",
       "      <th>Runs</th>\n",
       "      <th>Strike_Rate</th>\n",
       "      <th>Dismissal_Type_info</th>\n",
       "      <th>Ground_encoded</th>\n",
       "      <th>Versus_encoded</th>\n",
       "    </tr>\n",
       "  </thead>\n",
       "  <tbody>\n",
       "    <tr>\n",
       "      <th>0</th>\n",
       "      <td>0</td>\n",
       "      <td>12</td>\n",
       "      <td>54.55</td>\n",
       "      <td>3</td>\n",
       "      <td>42</td>\n",
       "      <td>9</td>\n",
       "    </tr>\n",
       "    <tr>\n",
       "      <th>1</th>\n",
       "      <td>0</td>\n",
       "      <td>37</td>\n",
       "      <td>55.22</td>\n",
       "      <td>1</td>\n",
       "      <td>42</td>\n",
       "      <td>9</td>\n",
       "    </tr>\n",
       "    <tr>\n",
       "      <th>2</th>\n",
       "      <td>1</td>\n",
       "      <td>25</td>\n",
       "      <td>65.79</td>\n",
       "      <td>5</td>\n",
       "      <td>40</td>\n",
       "      <td>9</td>\n",
       "    </tr>\n",
       "    <tr>\n",
       "      <th>3</th>\n",
       "      <td>1</td>\n",
       "      <td>54</td>\n",
       "      <td>81.82</td>\n",
       "      <td>0</td>\n",
       "      <td>40</td>\n",
       "      <td>9</td>\n",
       "    </tr>\n",
       "    <tr>\n",
       "      <th>4</th>\n",
       "      <td>1</td>\n",
       "      <td>31</td>\n",
       "      <td>67.39</td>\n",
       "      <td>3</td>\n",
       "      <td>40</td>\n",
       "      <td>9</td>\n",
       "    </tr>\n",
       "  </tbody>\n",
       "</table>\n",
       "</div>"
      ],
      "text/plain": [
       "   D/N  Runs  Strike_Rate  Dismissal_Type_info  Ground_encoded  Versus_encoded\n",
       "0    0    12        54.55                    3              42               9\n",
       "1    0    37        55.22                    1              42               9\n",
       "2    1    25        65.79                    5              40               9\n",
       "3    1    54        81.82                    0              40               9\n",
       "4    1    31        67.39                    3              40               9"
      ]
     },
     "execution_count": 47,
     "metadata": {},
     "output_type": "execute_result"
    }
   ],
   "source": [
    "ml.head()"
   ]
  },
  {
   "cell_type": "code",
   "execution_count": null,
   "metadata": {},
   "outputs": [],
   "source": []
  },
  {
   "cell_type": "code",
   "execution_count": null,
   "metadata": {},
   "outputs": [],
   "source": []
  },
  {
   "cell_type": "code",
   "execution_count": null,
   "metadata": {},
   "outputs": [],
   "source": []
  }
 ],
 "metadata": {
  "kernelspec": {
   "display_name": "Python 3",
   "language": "python",
   "name": "python3"
  },
  "language_info": {
   "codemirror_mode": {
    "name": "ipython",
    "version": 3
   },
   "file_extension": ".py",
   "mimetype": "text/x-python",
   "name": "python",
   "nbconvert_exporter": "python",
   "pygments_lexer": "ipython3",
   "version": "3.8.12"
  }
 },
 "nbformat": 4,
 "nbformat_minor": 4
}
