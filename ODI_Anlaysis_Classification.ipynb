{
 "cells": [
  {
   "cell_type": "code",
   "execution_count": 2,
   "metadata": {},
   "outputs": [],
   "source": [
    "import pandas as pd\n",
    "import numpy as np\n",
    "import seaborn as sns\n",
    "import matplotlib.pyplot as plt\n",
    "import warnings\n",
    "warnings.filterwarnings('ignore')"
   ]
  },
  {
   "cell_type": "code",
   "execution_count": 3,
   "metadata": {},
   "outputs": [],
   "source": [
    "df = pd.read_csv('Virat_Kohli_ODI_Data_Processed.csv')"
   ]
  },
  {
   "cell_type": "code",
   "execution_count": 4,
   "metadata": {},
   "outputs": [
    {
     "data": {
      "text/html": [
       "<div>\n",
       "<style scoped>\n",
       "    .dataframe tbody tr th:only-of-type {\n",
       "        vertical-align: middle;\n",
       "    }\n",
       "\n",
       "    .dataframe tbody tr th {\n",
       "        vertical-align: top;\n",
       "    }\n",
       "\n",
       "    .dataframe thead th {\n",
       "        text-align: right;\n",
       "    }\n",
       "</style>\n",
       "<table border=\"1\" class=\"dataframe\">\n",
       "  <thead>\n",
       "    <tr style=\"text-align: right;\">\n",
       "      <th></th>\n",
       "      <th>Match_No</th>\n",
       "      <th>Date</th>\n",
       "      <th>Versus</th>\n",
       "      <th>Ground</th>\n",
       "      <th>Country</th>\n",
       "      <th>Continent_Category</th>\n",
       "      <th>D/N</th>\n",
       "      <th>Dismissal_Type</th>\n",
       "      <th>Runs</th>\n",
       "      <th>Balls_Faced</th>\n",
       "      <th>Strike_Rate</th>\n",
       "      <th>Progressive_Aggr</th>\n",
       "      <th>Progressive_Avg</th>\n",
       "      <th>Progressive_Strike_Rate</th>\n",
       "    </tr>\n",
       "  </thead>\n",
       "  <tbody>\n",
       "    <tr>\n",
       "      <th>0</th>\n",
       "      <td>1</td>\n",
       "      <td>18-08-2008</td>\n",
       "      <td>Sri Lanka</td>\n",
       "      <td>Rangiri Dambulla International Stadium</td>\n",
       "      <td>Sri Lanka</td>\n",
       "      <td>Asia</td>\n",
       "      <td>0</td>\n",
       "      <td>lbw b K M D N Kulasekara</td>\n",
       "      <td>12</td>\n",
       "      <td>22.0</td>\n",
       "      <td>54.55</td>\n",
       "      <td>12</td>\n",
       "      <td>12.00</td>\n",
       "      <td>54.55</td>\n",
       "    </tr>\n",
       "    <tr>\n",
       "      <th>1</th>\n",
       "      <td>2</td>\n",
       "      <td>20-08-2008</td>\n",
       "      <td>Sri Lanka</td>\n",
       "      <td>Rangiri Dambulla International Stadium</td>\n",
       "      <td>Sri Lanka</td>\n",
       "      <td>Asia</td>\n",
       "      <td>0</td>\n",
       "      <td>c C K Kapugedera b T Thushara</td>\n",
       "      <td>37</td>\n",
       "      <td>67.0</td>\n",
       "      <td>55.22</td>\n",
       "      <td>49</td>\n",
       "      <td>24.50</td>\n",
       "      <td>55.06</td>\n",
       "    </tr>\n",
       "    <tr>\n",
       "      <th>2</th>\n",
       "      <td>3</td>\n",
       "      <td>24-08-2008</td>\n",
       "      <td>Sri Lanka</td>\n",
       "      <td>R Premadasa Stadium</td>\n",
       "      <td>Sri Lanka</td>\n",
       "      <td>Asia</td>\n",
       "      <td>1</td>\n",
       "      <td>run out</td>\n",
       "      <td>25</td>\n",
       "      <td>38.0</td>\n",
       "      <td>65.79</td>\n",
       "      <td>74</td>\n",
       "      <td>24.67</td>\n",
       "      <td>58.27</td>\n",
       "    </tr>\n",
       "    <tr>\n",
       "      <th>3</th>\n",
       "      <td>4</td>\n",
       "      <td>27-08-2008</td>\n",
       "      <td>Sri Lanka</td>\n",
       "      <td>R Premadasa Stadium</td>\n",
       "      <td>Sri Lanka</td>\n",
       "      <td>Asia</td>\n",
       "      <td>1</td>\n",
       "      <td>b T Thushara</td>\n",
       "      <td>54</td>\n",
       "      <td>66.0</td>\n",
       "      <td>81.82</td>\n",
       "      <td>128</td>\n",
       "      <td>32.00</td>\n",
       "      <td>66.32</td>\n",
       "    </tr>\n",
       "    <tr>\n",
       "      <th>4</th>\n",
       "      <td>5</td>\n",
       "      <td>29-08-2008</td>\n",
       "      <td>Sri Lanka</td>\n",
       "      <td>R Premadasa Stadium</td>\n",
       "      <td>Sri Lanka</td>\n",
       "      <td>Asia</td>\n",
       "      <td>1</td>\n",
       "      <td>lbw b K M D N Kulasekara</td>\n",
       "      <td>31</td>\n",
       "      <td>46.0</td>\n",
       "      <td>67.39</td>\n",
       "      <td>159</td>\n",
       "      <td>31.80</td>\n",
       "      <td>66.53</td>\n",
       "    </tr>\n",
       "  </tbody>\n",
       "</table>\n",
       "</div>"
      ],
      "text/plain": [
       "   Match_No        Date     Versus                                  Ground  \\\n",
       "0         1  18-08-2008  Sri Lanka  Rangiri Dambulla International Stadium   \n",
       "1         2  20-08-2008  Sri Lanka  Rangiri Dambulla International Stadium   \n",
       "2         3  24-08-2008  Sri Lanka                     R Premadasa Stadium   \n",
       "3         4  27-08-2008  Sri Lanka                     R Premadasa Stadium   \n",
       "4         5  29-08-2008  Sri Lanka                     R Premadasa Stadium   \n",
       "\n",
       "     Country Continent_Category  D/N                 Dismissal_Type Runs  \\\n",
       "0  Sri Lanka               Asia    0       lbw b K M D N Kulasekara   12   \n",
       "1  Sri Lanka               Asia    0  c C K Kapugedera b T Thushara   37   \n",
       "2  Sri Lanka               Asia    1                        run out   25   \n",
       "3  Sri Lanka               Asia    1                   b T Thushara   54   \n",
       "4  Sri Lanka               Asia    1       lbw b K M D N Kulasekara   31   \n",
       "\n",
       "   Balls_Faced Strike_Rate  Progressive_Aggr  Progressive_Avg  \\\n",
       "0         22.0       54.55                12            12.00   \n",
       "1         67.0       55.22                49            24.50   \n",
       "2         38.0       65.79                74            24.67   \n",
       "3         66.0       81.82               128            32.00   \n",
       "4         46.0       67.39               159            31.80   \n",
       "\n",
       "   Progressive_Strike_Rate  \n",
       "0                    54.55  \n",
       "1                    55.06  \n",
       "2                    58.27  \n",
       "3                    66.32  \n",
       "4                    66.53  "
      ]
     },
     "execution_count": 4,
     "metadata": {},
     "output_type": "execute_result"
    }
   ],
   "source": [
    "df.head(5)"
   ]
  },
  {
   "cell_type": "code",
   "execution_count": null,
   "metadata": {},
   "outputs": [],
   "source": []
  },
  {
   "cell_type": "markdown",
   "metadata": {},
   "source": [
    "### Info on the data"
   ]
  },
  {
   "cell_type": "code",
   "execution_count": 5,
   "metadata": {},
   "outputs": [
    {
     "name": "stdout",
     "output_type": "stream",
     "text": [
      "<class 'pandas.core.frame.DataFrame'>\n",
      "RangeIndex: 256 entries, 0 to 255\n",
      "Data columns (total 14 columns):\n",
      " #   Column                   Non-Null Count  Dtype  \n",
      "---  ------                   --------------  -----  \n",
      " 0   Match_No                 256 non-null    int64  \n",
      " 1   Date                     256 non-null    object \n",
      " 2   Versus                   256 non-null    object \n",
      " 3   Ground                   256 non-null    object \n",
      " 4   Country                  256 non-null    object \n",
      " 5   Continent_Category       256 non-null    object \n",
      " 6   D/N                      256 non-null    int64  \n",
      " 7   Dismissal_Type           256 non-null    object \n",
      " 8   Runs                     247 non-null    object \n",
      " 9   Balls_Faced              247 non-null    float64\n",
      " 10  Strike_Rate              247 non-null    object \n",
      " 11  Progressive_Aggr         256 non-null    int64  \n",
      " 12  Progressive_Avg          256 non-null    float64\n",
      " 13  Progressive_Strike_Rate  256 non-null    float64\n",
      "dtypes: float64(3), int64(3), object(8)\n",
      "memory usage: 28.1+ KB\n"
     ]
    }
   ],
   "source": [
    "df.info()"
   ]
  },
  {
   "cell_type": "markdown",
   "metadata": {},
   "source": [
    "### Null value analysis"
   ]
  },
  {
   "cell_type": "code",
   "execution_count": 6,
   "metadata": {},
   "outputs": [
    {
     "data": {
      "text/plain": [
       "Match_No                   0\n",
       "Date                       0\n",
       "Versus                     0\n",
       "Ground                     0\n",
       "Country                    0\n",
       "Continent_Category         0\n",
       "D/N                        0\n",
       "Dismissal_Type             0\n",
       "Runs                       9\n",
       "Balls_Faced                9\n",
       "Strike_Rate                9\n",
       "Progressive_Aggr           0\n",
       "Progressive_Avg            0\n",
       "Progressive_Strike_Rate    0\n",
       "dtype: int64"
      ]
     },
     "execution_count": 6,
     "metadata": {},
     "output_type": "execute_result"
    }
   ],
   "source": [
    "df.isnull().sum()"
   ]
  },
  {
   "cell_type": "markdown",
   "metadata": {},
   "source": [
    "### Data description"
   ]
  },
  {
   "cell_type": "code",
   "execution_count": 7,
   "metadata": {},
   "outputs": [
    {
     "data": {
      "text/html": [
       "<div>\n",
       "<style scoped>\n",
       "    .dataframe tbody tr th:only-of-type {\n",
       "        vertical-align: middle;\n",
       "    }\n",
       "\n",
       "    .dataframe tbody tr th {\n",
       "        vertical-align: top;\n",
       "    }\n",
       "\n",
       "    .dataframe thead th {\n",
       "        text-align: right;\n",
       "    }\n",
       "</style>\n",
       "<table border=\"1\" class=\"dataframe\">\n",
       "  <thead>\n",
       "    <tr style=\"text-align: right;\">\n",
       "      <th></th>\n",
       "      <th>count</th>\n",
       "      <th>mean</th>\n",
       "      <th>std</th>\n",
       "      <th>min</th>\n",
       "      <th>25%</th>\n",
       "      <th>50%</th>\n",
       "      <th>75%</th>\n",
       "      <th>max</th>\n",
       "    </tr>\n",
       "  </thead>\n",
       "  <tbody>\n",
       "    <tr>\n",
       "      <th>Match_No</th>\n",
       "      <td>256.0</td>\n",
       "      <td>128.500000</td>\n",
       "      <td>74.045031</td>\n",
       "      <td>1.00</td>\n",
       "      <td>64.7500</td>\n",
       "      <td>128.500</td>\n",
       "      <td>192.2500</td>\n",
       "      <td>256.00</td>\n",
       "    </tr>\n",
       "    <tr>\n",
       "      <th>D/N</th>\n",
       "      <td>256.0</td>\n",
       "      <td>0.695312</td>\n",
       "      <td>0.461177</td>\n",
       "      <td>0.00</td>\n",
       "      <td>0.0000</td>\n",
       "      <td>1.000</td>\n",
       "      <td>1.0000</td>\n",
       "      <td>1.00</td>\n",
       "    </tr>\n",
       "    <tr>\n",
       "      <th>Balls_Faced</th>\n",
       "      <td>247.0</td>\n",
       "      <td>53.153846</td>\n",
       "      <td>39.144830</td>\n",
       "      <td>0.00</td>\n",
       "      <td>18.0000</td>\n",
       "      <td>49.000</td>\n",
       "      <td>83.0000</td>\n",
       "      <td>159.00</td>\n",
       "    </tr>\n",
       "    <tr>\n",
       "      <th>Progressive_Aggr</th>\n",
       "      <td>256.0</td>\n",
       "      <td>5614.257812</td>\n",
       "      <td>3600.870236</td>\n",
       "      <td>12.00</td>\n",
       "      <td>2374.7500</td>\n",
       "      <td>5362.000</td>\n",
       "      <td>8378.7500</td>\n",
       "      <td>12220.00</td>\n",
       "    </tr>\n",
       "    <tr>\n",
       "      <th>Progressive_Avg</th>\n",
       "      <td>256.0</td>\n",
       "      <td>50.900977</td>\n",
       "      <td>6.845936</td>\n",
       "      <td>12.00</td>\n",
       "      <td>47.5175</td>\n",
       "      <td>51.485</td>\n",
       "      <td>55.1625</td>\n",
       "      <td>60.31</td>\n",
       "    </tr>\n",
       "    <tr>\n",
       "      <th>Progressive_Strike_Rate</th>\n",
       "      <td>256.0</td>\n",
       "      <td>86.830508</td>\n",
       "      <td>6.504181</td>\n",
       "      <td>54.55</td>\n",
       "      <td>83.1475</td>\n",
       "      <td>89.350</td>\n",
       "      <td>91.3375</td>\n",
       "      <td>93.39</td>\n",
       "    </tr>\n",
       "  </tbody>\n",
       "</table>\n",
       "</div>"
      ],
      "text/plain": [
       "                         count         mean          std    min        25%  \\\n",
       "Match_No                 256.0   128.500000    74.045031   1.00    64.7500   \n",
       "D/N                      256.0     0.695312     0.461177   0.00     0.0000   \n",
       "Balls_Faced              247.0    53.153846    39.144830   0.00    18.0000   \n",
       "Progressive_Aggr         256.0  5614.257812  3600.870236  12.00  2374.7500   \n",
       "Progressive_Avg          256.0    50.900977     6.845936  12.00    47.5175   \n",
       "Progressive_Strike_Rate  256.0    86.830508     6.504181  54.55    83.1475   \n",
       "\n",
       "                              50%        75%       max  \n",
       "Match_No                  128.500   192.2500    256.00  \n",
       "D/N                         1.000     1.0000      1.00  \n",
       "Balls_Faced                49.000    83.0000    159.00  \n",
       "Progressive_Aggr         5362.000  8378.7500  12220.00  \n",
       "Progressive_Avg            51.485    55.1625     60.31  \n",
       "Progressive_Strike_Rate    89.350    91.3375     93.39  "
      ]
     },
     "execution_count": 7,
     "metadata": {},
     "output_type": "execute_result"
    }
   ],
   "source": [
    "df.describe().transpose()"
   ]
  },
  {
   "cell_type": "markdown",
   "metadata": {},
   "source": [
    "### Processing the data"
   ]
  },
  {
   "cell_type": "code",
   "execution_count": 8,
   "metadata": {},
   "outputs": [],
   "source": [
    "df1 = df.copy() ## copying it to another dataframe! "
   ]
  },
  {
   "cell_type": "markdown",
   "metadata": {},
   "source": [
    "### Dropping Nulls ( as it only indicates that he Did Not Bat that innings )"
   ]
  },
  {
   "cell_type": "code",
   "execution_count": 9,
   "metadata": {},
   "outputs": [],
   "source": [
    "df1.dropna(inplace=True,axis=0)"
   ]
  },
  {
   "cell_type": "code",
   "execution_count": 10,
   "metadata": {},
   "outputs": [
    {
     "data": {
      "text/html": [
       "<div>\n",
       "<style scoped>\n",
       "    .dataframe tbody tr th:only-of-type {\n",
       "        vertical-align: middle;\n",
       "    }\n",
       "\n",
       "    .dataframe tbody tr th {\n",
       "        vertical-align: top;\n",
       "    }\n",
       "\n",
       "    .dataframe thead th {\n",
       "        text-align: right;\n",
       "    }\n",
       "</style>\n",
       "<table border=\"1\" class=\"dataframe\">\n",
       "  <thead>\n",
       "    <tr style=\"text-align: right;\">\n",
       "      <th></th>\n",
       "      <th>Match_No</th>\n",
       "      <th>Date</th>\n",
       "      <th>Versus</th>\n",
       "      <th>Ground</th>\n",
       "      <th>Country</th>\n",
       "      <th>Continent_Category</th>\n",
       "      <th>D/N</th>\n",
       "      <th>Dismissal_Type</th>\n",
       "      <th>Runs</th>\n",
       "      <th>Balls_Faced</th>\n",
       "      <th>Strike_Rate</th>\n",
       "      <th>Progressive_Aggr</th>\n",
       "      <th>Progressive_Avg</th>\n",
       "      <th>Progressive_Strike_Rate</th>\n",
       "    </tr>\n",
       "  </thead>\n",
       "  <tbody>\n",
       "    <tr>\n",
       "      <th>0</th>\n",
       "      <td>1</td>\n",
       "      <td>18-08-2008</td>\n",
       "      <td>Sri Lanka</td>\n",
       "      <td>Rangiri Dambulla International Stadium</td>\n",
       "      <td>Sri Lanka</td>\n",
       "      <td>Asia</td>\n",
       "      <td>0</td>\n",
       "      <td>lbw b K M D N Kulasekara</td>\n",
       "      <td>12</td>\n",
       "      <td>22.0</td>\n",
       "      <td>54.55</td>\n",
       "      <td>12</td>\n",
       "      <td>12.00</td>\n",
       "      <td>54.55</td>\n",
       "    </tr>\n",
       "    <tr>\n",
       "      <th>1</th>\n",
       "      <td>2</td>\n",
       "      <td>20-08-2008</td>\n",
       "      <td>Sri Lanka</td>\n",
       "      <td>Rangiri Dambulla International Stadium</td>\n",
       "      <td>Sri Lanka</td>\n",
       "      <td>Asia</td>\n",
       "      <td>0</td>\n",
       "      <td>c C K Kapugedera b T Thushara</td>\n",
       "      <td>37</td>\n",
       "      <td>67.0</td>\n",
       "      <td>55.22</td>\n",
       "      <td>49</td>\n",
       "      <td>24.50</td>\n",
       "      <td>55.06</td>\n",
       "    </tr>\n",
       "    <tr>\n",
       "      <th>2</th>\n",
       "      <td>3</td>\n",
       "      <td>24-08-2008</td>\n",
       "      <td>Sri Lanka</td>\n",
       "      <td>R Premadasa Stadium</td>\n",
       "      <td>Sri Lanka</td>\n",
       "      <td>Asia</td>\n",
       "      <td>1</td>\n",
       "      <td>run out</td>\n",
       "      <td>25</td>\n",
       "      <td>38.0</td>\n",
       "      <td>65.79</td>\n",
       "      <td>74</td>\n",
       "      <td>24.67</td>\n",
       "      <td>58.27</td>\n",
       "    </tr>\n",
       "    <tr>\n",
       "      <th>3</th>\n",
       "      <td>4</td>\n",
       "      <td>27-08-2008</td>\n",
       "      <td>Sri Lanka</td>\n",
       "      <td>R Premadasa Stadium</td>\n",
       "      <td>Sri Lanka</td>\n",
       "      <td>Asia</td>\n",
       "      <td>1</td>\n",
       "      <td>b T Thushara</td>\n",
       "      <td>54</td>\n",
       "      <td>66.0</td>\n",
       "      <td>81.82</td>\n",
       "      <td>128</td>\n",
       "      <td>32.00</td>\n",
       "      <td>66.32</td>\n",
       "    </tr>\n",
       "    <tr>\n",
       "      <th>4</th>\n",
       "      <td>5</td>\n",
       "      <td>29-08-2008</td>\n",
       "      <td>Sri Lanka</td>\n",
       "      <td>R Premadasa Stadium</td>\n",
       "      <td>Sri Lanka</td>\n",
       "      <td>Asia</td>\n",
       "      <td>1</td>\n",
       "      <td>lbw b K M D N Kulasekara</td>\n",
       "      <td>31</td>\n",
       "      <td>46.0</td>\n",
       "      <td>67.39</td>\n",
       "      <td>159</td>\n",
       "      <td>31.80</td>\n",
       "      <td>66.53</td>\n",
       "    </tr>\n",
       "  </tbody>\n",
       "</table>\n",
       "</div>"
      ],
      "text/plain": [
       "   Match_No        Date     Versus                                  Ground  \\\n",
       "0         1  18-08-2008  Sri Lanka  Rangiri Dambulla International Stadium   \n",
       "1         2  20-08-2008  Sri Lanka  Rangiri Dambulla International Stadium   \n",
       "2         3  24-08-2008  Sri Lanka                     R Premadasa Stadium   \n",
       "3         4  27-08-2008  Sri Lanka                     R Premadasa Stadium   \n",
       "4         5  29-08-2008  Sri Lanka                     R Premadasa Stadium   \n",
       "\n",
       "     Country Continent_Category  D/N                 Dismissal_Type Runs  \\\n",
       "0  Sri Lanka               Asia    0       lbw b K M D N Kulasekara   12   \n",
       "1  Sri Lanka               Asia    0  c C K Kapugedera b T Thushara   37   \n",
       "2  Sri Lanka               Asia    1                        run out   25   \n",
       "3  Sri Lanka               Asia    1                   b T Thushara   54   \n",
       "4  Sri Lanka               Asia    1       lbw b K M D N Kulasekara   31   \n",
       "\n",
       "   Balls_Faced Strike_Rate  Progressive_Aggr  Progressive_Avg  \\\n",
       "0         22.0       54.55                12            12.00   \n",
       "1         67.0       55.22                49            24.50   \n",
       "2         38.0       65.79                74            24.67   \n",
       "3         66.0       81.82               128            32.00   \n",
       "4         46.0       67.39               159            31.80   \n",
       "\n",
       "   Progressive_Strike_Rate  \n",
       "0                    54.55  \n",
       "1                    55.06  \n",
       "2                    58.27  \n",
       "3                    66.32  \n",
       "4                    66.53  "
      ]
     },
     "execution_count": 10,
     "metadata": {},
     "output_type": "execute_result"
    }
   ],
   "source": [
    "df1.head()"
   ]
  },
  {
   "cell_type": "code",
   "execution_count": null,
   "metadata": {},
   "outputs": [],
   "source": []
  },
  {
   "cell_type": "code",
   "execution_count": 11,
   "metadata": {},
   "outputs": [
    {
     "data": {
      "text/plain": [
       "Match_No                   0\n",
       "Date                       0\n",
       "Versus                     0\n",
       "Ground                     0\n",
       "Country                    0\n",
       "Continent_Category         0\n",
       "D/N                        0\n",
       "Dismissal_Type             0\n",
       "Runs                       0\n",
       "Balls_Faced                0\n",
       "Strike_Rate                0\n",
       "Progressive_Aggr           0\n",
       "Progressive_Avg            0\n",
       "Progressive_Strike_Rate    0\n",
       "dtype: int64"
      ]
     },
     "execution_count": 11,
     "metadata": {},
     "output_type": "execute_result"
    }
   ],
   "source": [
    "df1.isnull().sum()"
   ]
  },
  {
   "cell_type": "markdown",
   "metadata": {},
   "source": [
    "### Creating a new feature \"Status\" (Indicates wheather he was out/Notout/DNB)"
   ]
  },
  {
   "cell_type": "code",
   "execution_count": 12,
   "metadata": {},
   "outputs": [],
   "source": [
    "status = []\n",
    "for i in df1.Runs:\n",
    "    if i.endswith('*'):\n",
    "        status.append('Not out')\n",
    "    elif i == '-':\n",
    "        status.append('DNB')\n",
    "    else:\n",
    "        status.append('Out')\n",
    "df1['Status'] = status"
   ]
  },
  {
   "cell_type": "markdown",
   "metadata": {},
   "source": [
    "### processing \"Runs\""
   ]
  },
  {
   "cell_type": "code",
   "execution_count": 13,
   "metadata": {},
   "outputs": [],
   "source": [
    "\n",
    "## Splitting the data which has a * attached to the score\n",
    "runs = []\n",
    "for i in df1['Runs']:\n",
    "    runs.append(i.split('*'))"
   ]
  },
  {
   "cell_type": "code",
   "execution_count": 14,
   "metadata": {},
   "outputs": [],
   "source": [
    "runs1=[]\n",
    "for i in runs:\n",
    "    runs1.append(i[0])\n",
    "df1['Runs'] = runs1"
   ]
  },
  {
   "cell_type": "code",
   "execution_count": 15,
   "metadata": {},
   "outputs": [],
   "source": [
    "df1['Runs'] = df1.Runs.astype(int) ##changing the dtype"
   ]
  },
  {
   "cell_type": "markdown",
   "metadata": {},
   "source": [
    "### Processing \"Balls_Faced\""
   ]
  },
  {
   "cell_type": "code",
   "execution_count": 16,
   "metadata": {},
   "outputs": [],
   "source": [
    "df1['Balls_Faced'] = df1.Balls_Faced.astype(int)"
   ]
  },
  {
   "cell_type": "markdown",
   "metadata": {},
   "source": [
    "### Processing \"Strike_Rate\""
   ]
  },
  {
   "cell_type": "code",
   "execution_count": 17,
   "metadata": {},
   "outputs": [],
   "source": [
    "strt = [] \n",
    "for i in df1.Strike_Rate:\n",
    "    if i == '-':\n",
    "        strt.append(np.NaN)  ## convering the strike rate of that 1 innings where he was run out without facing a ball to NAN \n",
    "    else:\n",
    "        strt.append(i)\n",
    "df1['Strike_Rate'] = strt\n"
   ]
  },
  {
   "cell_type": "code",
   "execution_count": 18,
   "metadata": {},
   "outputs": [],
   "source": [
    "## removing that datapoint\n",
    "df1.dropna(inplace=True,axis=0) \n"
   ]
  },
  {
   "cell_type": "code",
   "execution_count": 19,
   "metadata": {},
   "outputs": [],
   "source": [
    "df1.Strike_Rate = df1.Strike_Rate.astype(float) "
   ]
  },
  {
   "cell_type": "code",
   "execution_count": null,
   "metadata": {},
   "outputs": [],
   "source": []
  },
  {
   "cell_type": "markdown",
   "metadata": {},
   "source": [
    "### Checking the Dtypes of the processed features"
   ]
  },
  {
   "cell_type": "code",
   "execution_count": 20,
   "metadata": {},
   "outputs": [
    {
     "data": {
      "text/plain": [
       "Match_No                     int64\n",
       "Date                        object\n",
       "Versus                      object\n",
       "Ground                      object\n",
       "Country                     object\n",
       "Continent_Category          object\n",
       "D/N                          int64\n",
       "Dismissal_Type              object\n",
       "Runs                         int32\n",
       "Balls_Faced                  int32\n",
       "Strike_Rate                float64\n",
       "Progressive_Aggr             int64\n",
       "Progressive_Avg            float64\n",
       "Progressive_Strike_Rate    float64\n",
       "Status                      object\n",
       "dtype: object"
      ]
     },
     "execution_count": 20,
     "metadata": {},
     "output_type": "execute_result"
    }
   ],
   "source": [
    "df1.dtypes"
   ]
  },
  {
   "cell_type": "code",
   "execution_count": 21,
   "metadata": {},
   "outputs": [
    {
     "data": {
      "text/html": [
       "<div>\n",
       "<style scoped>\n",
       "    .dataframe tbody tr th:only-of-type {\n",
       "        vertical-align: middle;\n",
       "    }\n",
       "\n",
       "    .dataframe tbody tr th {\n",
       "        vertical-align: top;\n",
       "    }\n",
       "\n",
       "    .dataframe thead th {\n",
       "        text-align: right;\n",
       "    }\n",
       "</style>\n",
       "<table border=\"1\" class=\"dataframe\">\n",
       "  <thead>\n",
       "    <tr style=\"text-align: right;\">\n",
       "      <th></th>\n",
       "      <th>count</th>\n",
       "      <th>mean</th>\n",
       "      <th>std</th>\n",
       "      <th>min</th>\n",
       "      <th>25%</th>\n",
       "      <th>50%</th>\n",
       "      <th>75%</th>\n",
       "      <th>max</th>\n",
       "    </tr>\n",
       "  </thead>\n",
       "  <tbody>\n",
       "    <tr>\n",
       "      <th>Match_No</th>\n",
       "      <td>246.0</td>\n",
       "      <td>130.036585</td>\n",
       "      <td>73.827562</td>\n",
       "      <td>1.00</td>\n",
       "      <td>66.2500</td>\n",
       "      <td>131.500</td>\n",
       "      <td>193.7500</td>\n",
       "      <td>256.00</td>\n",
       "    </tr>\n",
       "    <tr>\n",
       "      <th>D/N</th>\n",
       "      <td>246.0</td>\n",
       "      <td>0.703252</td>\n",
       "      <td>0.457756</td>\n",
       "      <td>0.00</td>\n",
       "      <td>0.0000</td>\n",
       "      <td>1.000</td>\n",
       "      <td>1.0000</td>\n",
       "      <td>1.00</td>\n",
       "    </tr>\n",
       "    <tr>\n",
       "      <th>Runs</th>\n",
       "      <td>246.0</td>\n",
       "      <td>49.674797</td>\n",
       "      <td>42.756357</td>\n",
       "      <td>0.00</td>\n",
       "      <td>11.0000</td>\n",
       "      <td>37.000</td>\n",
       "      <td>81.0000</td>\n",
       "      <td>183.00</td>\n",
       "    </tr>\n",
       "    <tr>\n",
       "      <th>Balls_Faced</th>\n",
       "      <td>246.0</td>\n",
       "      <td>53.369919</td>\n",
       "      <td>39.076761</td>\n",
       "      <td>1.00</td>\n",
       "      <td>18.0000</td>\n",
       "      <td>49.500</td>\n",
       "      <td>83.0000</td>\n",
       "      <td>159.00</td>\n",
       "    </tr>\n",
       "    <tr>\n",
       "      <th>Strike_Rate</th>\n",
       "      <td>246.0</td>\n",
       "      <td>80.194472</td>\n",
       "      <td>35.716616</td>\n",
       "      <td>0.00</td>\n",
       "      <td>64.1850</td>\n",
       "      <td>81.865</td>\n",
       "      <td>100.0000</td>\n",
       "      <td>209.09</td>\n",
       "    </tr>\n",
       "    <tr>\n",
       "      <th>Progressive_Aggr</th>\n",
       "      <td>246.0</td>\n",
       "      <td>5686.682927</td>\n",
       "      <td>3595.931109</td>\n",
       "      <td>12.00</td>\n",
       "      <td>2504.7500</td>\n",
       "      <td>5605.000</td>\n",
       "      <td>8559.5000</td>\n",
       "      <td>12220.00</td>\n",
       "    </tr>\n",
       "    <tr>\n",
       "      <th>Progressive_Avg</th>\n",
       "      <td>246.0</td>\n",
       "      <td>50.979593</td>\n",
       "      <td>6.810126</td>\n",
       "      <td>12.00</td>\n",
       "      <td>47.4725</td>\n",
       "      <td>51.505</td>\n",
       "      <td>55.2375</td>\n",
       "      <td>60.31</td>\n",
       "    </tr>\n",
       "    <tr>\n",
       "      <th>Progressive_Strike_Rate</th>\n",
       "      <td>246.0</td>\n",
       "      <td>86.936870</td>\n",
       "      <td>6.455548</td>\n",
       "      <td>54.55</td>\n",
       "      <td>83.2700</td>\n",
       "      <td>89.475</td>\n",
       "      <td>91.5250</td>\n",
       "      <td>93.39</td>\n",
       "    </tr>\n",
       "  </tbody>\n",
       "</table>\n",
       "</div>"
      ],
      "text/plain": [
       "                         count         mean          std    min        25%  \\\n",
       "Match_No                 246.0   130.036585    73.827562   1.00    66.2500   \n",
       "D/N                      246.0     0.703252     0.457756   0.00     0.0000   \n",
       "Runs                     246.0    49.674797    42.756357   0.00    11.0000   \n",
       "Balls_Faced              246.0    53.369919    39.076761   1.00    18.0000   \n",
       "Strike_Rate              246.0    80.194472    35.716616   0.00    64.1850   \n",
       "Progressive_Aggr         246.0  5686.682927  3595.931109  12.00  2504.7500   \n",
       "Progressive_Avg          246.0    50.979593     6.810126  12.00    47.4725   \n",
       "Progressive_Strike_Rate  246.0    86.936870     6.455548  54.55    83.2700   \n",
       "\n",
       "                              50%        75%       max  \n",
       "Match_No                  131.500   193.7500    256.00  \n",
       "D/N                         1.000     1.0000      1.00  \n",
       "Runs                       37.000    81.0000    183.00  \n",
       "Balls_Faced                49.500    83.0000    159.00  \n",
       "Strike_Rate                81.865   100.0000    209.09  \n",
       "Progressive_Aggr         5605.000  8559.5000  12220.00  \n",
       "Progressive_Avg            51.505    55.2375     60.31  \n",
       "Progressive_Strike_Rate    89.475    91.5250     93.39  "
      ]
     },
     "execution_count": 21,
     "metadata": {},
     "output_type": "execute_result"
    }
   ],
   "source": [
    "df1.describe().transpose()"
   ]
  },
  {
   "cell_type": "code",
   "execution_count": null,
   "metadata": {},
   "outputs": [],
   "source": []
  },
  {
   "cell_type": "markdown",
   "metadata": {},
   "source": [
    "### Exploring and visualizing the data"
   ]
  },
  {
   "cell_type": "code",
   "execution_count": null,
   "metadata": {},
   "outputs": [],
   "source": []
  },
  {
   "cell_type": "code",
   "execution_count": 22,
   "metadata": {
    "scrolled": false
   },
   "outputs": [
    {
     "name": "stdout",
     "output_type": "stream",
     "text": [
      "Match_No\n"
     ]
    },
    {
     "data": {
      "image/png": "[encoded data removed]",
      "text/plain": [
       "<Figure size 720x360 with 1 Axes>"
      ]
     },
     "metadata": {
      "needs_background": "light"
     },
     "output_type": "display_data"
    },
    {
     "name": "stdout",
     "output_type": "stream",
     "text": [
      "D/N\n"
     ]
    },
    {
     "data": {
      "image/png": "[encoded data removed]",
      "text/plain": [
       "<Figure size 720x360 with 1 Axes>"
      ]
     },
     "metadata": {
      "needs_background": "light"
     },
     "output_type": "display_data"
    },
    {
     "name": "stdout",
     "output_type": "stream",
     "text": [
      "Runs\n"
     ]
    },
    {
     "data": {
      "image/png": "[encoded data removed]",
      "text/plain": [
       "<Figure size 720x360 with 1 Axes>"
      ]
     },
     "metadata": {
      "needs_background": "light"
     },
     "output_type": "display_data"
    },
    {
     "name": "stdout",
     "output_type": "stream",
     "text": [
      "Balls_Faced\n"
     ]
    },
    {
     "data": {
      "image/png": "[encoded data removed]",
      "text/plain": [
       "<Figure size 720x360 with 1 Axes>"
      ]
     },
     "metadata": {
      "needs_background": "light"
     },
     "output_type": "display_data"
    },
    {
     "name": "stdout",
     "output_type": "stream",
     "text": [
      "Strike_Rate\n"
     ]
    },
    {
     "data": {
      "image/png": "[encoded data removed]",
      "text/plain": [
       "<Figure size 720x360 with 1 Axes>"
      ]
     },
     "metadata": {
      "needs_background": "light"
     },
     "output_type": "display_data"
    },
    {
     "name": "stdout",
     "output_type": "stream",
     "text": [
      "Progressive_Aggr\n"
     ]
    },
    {
     "data": {
      "image/png": "[encoded data removed]",
      "text/plain": [
       "<Figure size 720x360 with 1 Axes>"
      ]
     },
     "metadata": {
      "needs_background": "light"
     },
     "output_type": "display_data"
    },
    {
     "name": "stdout",
     "output_type": "stream",
     "text": [
      "Progressive_Avg\n"
     ]
    },
    {
     "data": {
      "image/png": "[encoded data removed]",
      "text/plain": [
       "<Figure size 720x360 with 1 Axes>"
      ]
     },
     "metadata": {
      "needs_background": "light"
     },
     "output_type": "display_data"
    },
    {
     "name": "stdout",
     "output_type": "stream",
     "text": [
      "Progressive_Strike_Rate\n"
     ]
    },
    {
     "data": {
      "image/png": "[encoded data removed]",
      "text/plain": [
       "<Figure size 720x360 with 1 Axes>"
      ]
     },
     "metadata": {
      "needs_background": "light"
     },
     "output_type": "display_data"
    }
   ],
   "source": [
    "for i in df1.describe().columns:\n",
    "    print(i)\n",
    "    plt.figure(figsize=(10,5))\n",
    "    sns.distplot(df1[i],color='b')\n",
    "    plt.show()"
   ]
  },
  {
   "cell_type": "markdown",
   "metadata": {},
   "source": [
    "### Oppositions most played against"
   ]
  },
  {
   "cell_type": "code",
   "execution_count": 23,
   "metadata": {},
   "outputs": [
    {
     "name": "stdout",
     "output_type": "stream",
     "text": [
      "Total matches played against the opposition\n",
      "\n",
      "Sri Lanka               46\n",
      "Australia               41\n",
      "West Indies             38\n",
      "England                 33\n",
      "South Africa            27\n",
      "New Zealand             26\n",
      "Pakistan                13\n",
      "Bangladesh              12\n",
      "Zimbabwe                 5\n",
      "Ireland                  2\n",
      "Netherlands              1\n",
      "United Arab Emirates     1\n",
      "Afghanistan              1\n",
      "Name: Versus, dtype: int64\n"
     ]
    },
    {
     "data": {
      "image/png": "[encoded data removed]",
      "text/plain": [
       "<Figure size 720x360 with 1 Axes>"
      ]
     },
     "metadata": {
      "needs_background": "light"
     },
     "output_type": "display_data"
    },
    {
     "name": "stdout",
     "output_type": "stream",
     "text": [
      "----------\n",
      "Total D/N matches played\n",
      "D/N\n",
      "0     73\n",
      "1    173\n",
      "Name: Versus, dtype: int64\n"
     ]
    }
   ],
   "source": [
    "plt.figure(figsize=(10,5))\n",
    "sns.countplot(df1['Versus'], order=df1.Versus.value_counts().index,palette='winter_r')\n",
    "plt.xticks(rotation=90)\n",
    "print('Total matches played against the opposition\\n')\n",
    "print(df1['Versus'].value_counts())\n",
    "plt.grid()\n",
    "plt.show()\n",
    "\n",
    "print('-'*10)\n",
    "print('Total D/N matches played')\n",
    "print(df1.Versus.groupby(df1['D/N']).count())"
   ]
  },
  {
   "cell_type": "code",
   "execution_count": null,
   "metadata": {},
   "outputs": [],
   "source": []
  },
  {
   "cell_type": "markdown",
   "metadata": {},
   "source": [
    "# Grounds he has played and the average scores he has scored"
   ]
  },
  {
   "cell_type": "markdown",
   "metadata": {},
   "source": [
    "### 1. Average scores at each venues"
   ]
  },
  {
   "cell_type": "code",
   "execution_count": 24,
   "metadata": {},
   "outputs": [],
   "source": [
    "average_scores_at_each_venue = pd.DataFrame(df1.Runs.groupby(df1.Ground).mean())\n",
    "average_scores_at_each_venue['Ground'] = average_scores_at_each_venue.index ## creating new features from the index \n",
    "average_scores_at_each_venue.index = np.arange(0,len(average_scores_at_each_venue)) ## creating new indices"
   ]
  },
  {
   "cell_type": "markdown",
   "metadata": {},
   "source": [
    "### 2. Number of times he has played in each ground"
   ]
  },
  {
   "cell_type": "code",
   "execution_count": 25,
   "metadata": {},
   "outputs": [],
   "source": [
    "count_of_grounds = pd.DataFrame(df1.Ground.value_counts())\n",
    "count_of_grounds['Grounds'] = count_of_grounds.index\n",
    "count_of_grounds.index = np.arange(0,len(count_of_grounds))\n",
    "count_of_grounds.rename(columns={'Ground':'Count', 'Grounds':'Ground'},inplace=True)"
   ]
  },
  {
   "cell_type": "markdown",
   "metadata": {},
   "source": [
    "### 3. Merging Average scores and count of matches played there"
   ]
  },
  {
   "cell_type": "code",
   "execution_count": 26,
   "metadata": {},
   "outputs": [],
   "source": [
    "count_average_grounds = pd.merge(average_scores_at_each_venue,count_of_grounds,on='Ground')"
   ]
  },
  {
   "cell_type": "code",
   "execution_count": 27,
   "metadata": {},
   "outputs": [],
   "source": [
    "count_average_grounds.rename(columns={'Runs':'Average_Runs'},inplace=True) ## renaming columns"
   ]
  },
  {
   "cell_type": "code",
   "execution_count": 28,
   "metadata": {},
   "outputs": [],
   "source": [
    "count_average_grounds = count_average_grounds.sort_values(by='Average_Runs',ascending=False) ## sorting"
   ]
  },
  {
   "cell_type": "markdown",
   "metadata": {},
   "source": [
    "### Grounds where he has scored Average runs Above 50 (Minimum 5 Innings)"
   ]
  },
  {
   "cell_type": "code",
   "execution_count": 29,
   "metadata": {},
   "outputs": [
    {
     "data": {
      "text/html": [
       "<div>\n",
       "<style scoped>\n",
       "    .dataframe tbody tr th:only-of-type {\n",
       "        vertical-align: middle;\n",
       "    }\n",
       "\n",
       "    .dataframe tbody tr th {\n",
       "        vertical-align: top;\n",
       "    }\n",
       "\n",
       "    .dataframe thead th {\n",
       "        text-align: right;\n",
       "    }\n",
       "</style>\n",
       "<table border=\"1\" class=\"dataframe\">\n",
       "  <thead>\n",
       "    <tr style=\"text-align: right;\">\n",
       "      <th></th>\n",
       "      <th>Average_Runs</th>\n",
       "      <th>Ground</th>\n",
       "      <th>Count</th>\n",
       "    </tr>\n",
       "  </thead>\n",
       "  <tbody>\n",
       "    <tr>\n",
       "      <th>9</th>\n",
       "      <td>92.666667</td>\n",
       "      <td>Dr YS Rajasekhara Reddy Cricket Stadium</td>\n",
       "      <td>6</td>\n",
       "    </tr>\n",
       "    <tr>\n",
       "      <th>41</th>\n",
       "      <td>64.875000</td>\n",
       "      <td>R Premadasa Stadium</td>\n",
       "      <td>8</td>\n",
       "    </tr>\n",
       "    <tr>\n",
       "      <th>27</th>\n",
       "      <td>64.000000</td>\n",
       "      <td>Maharashtra Cricket Association Stadium</td>\n",
       "      <td>7</td>\n",
       "    </tr>\n",
       "    <tr>\n",
       "      <th>39</th>\n",
       "      <td>63.444444</td>\n",
       "      <td>Queen's Park Oval</td>\n",
       "      <td>9</td>\n",
       "    </tr>\n",
       "    <tr>\n",
       "      <th>50</th>\n",
       "      <td>60.461538</td>\n",
       "      <td>Shere Bangla National Stadium</td>\n",
       "      <td>13</td>\n",
       "    </tr>\n",
       "    <tr>\n",
       "      <th>10</th>\n",
       "      <td>54.333333</td>\n",
       "      <td>Eden Gardens</td>\n",
       "      <td>6</td>\n",
       "    </tr>\n",
       "  </tbody>\n",
       "</table>\n",
       "</div>"
      ],
      "text/plain": [
       "    Average_Runs                                   Ground  Count\n",
       "9      92.666667  Dr YS Rajasekhara Reddy Cricket Stadium      6\n",
       "41     64.875000                      R Premadasa Stadium      8\n",
       "27     64.000000  Maharashtra Cricket Association Stadium      7\n",
       "39     63.444444                        Queen's Park Oval      9\n",
       "50     60.461538            Shere Bangla National Stadium     13\n",
       "10     54.333333                             Eden Gardens      6"
      ]
     },
     "execution_count": 29,
     "metadata": {},
     "output_type": "execute_result"
    }
   ],
   "source": [
    "count_average_grounds.loc[(count_average_grounds['Count'] > 5) & (count_average_grounds['Average_Runs'] > 50)]"
   ]
  },
  {
   "cell_type": "code",
   "execution_count": null,
   "metadata": {},
   "outputs": [],
   "source": []
  },
  {
   "cell_type": "markdown",
   "metadata": {},
   "source": [
    "### Processing \"Dismissal Type\""
   ]
  },
  {
   "cell_type": "code",
   "execution_count": 30,
   "metadata": {},
   "outputs": [],
   "source": [
    "dty = []\n",
    "for i in df1['Dismissal_Type']:\n",
    "    dty.append(i.split(' ')[0])"
   ]
  },
  {
   "cell_type": "code",
   "execution_count": 31,
   "metadata": {},
   "outputs": [],
   "source": [
    "dty1 = []\n",
    "for i in dty:\n",
    "    if i == 'run':\n",
    "        dty1.append('run out')\n",
    "    elif i == 'not':\n",
    "        dty1.append('not out')\n",
    "    elif i == 'hit':\n",
    "        dty1.append('hit wicket')\n",
    "    else:\n",
    "        dty1.append(i)\n",
    "        \n",
    "df1['Dismissal_Type_info'] = dty1"
   ]
  },
  {
   "cell_type": "markdown",
   "metadata": {},
   "source": [
    "### Visualizing the dismissal types"
   ]
  },
  {
   "cell_type": "code",
   "execution_count": 32,
   "metadata": {},
   "outputs": [
    {
     "name": "stdout",
     "output_type": "stream",
     "text": [
      "c             149\n",
      "not out        39\n",
      "b              28\n",
      "lbw            14\n",
      "run out        11\n",
      "st              4\n",
      "hit wicket      1\n",
      "Name: Dismissal_Type_info, dtype: int64\n",
      "\n",
      "Total number of times dismissed : 246 (out of 256 matches)\n"
     ]
    },
    {
     "data": {
      "image/png": "[encoded data removed]",
      "text/plain": [
       "<Figure size 720x360 with 1 Axes>"
      ]
     },
     "metadata": {
      "needs_background": "light"
     },
     "output_type": "display_data"
    }
   ],
   "source": [
    "plt.figure(figsize=(10,5))\n",
    "sns.countplot(df1['Dismissal_Type_info'],order=df1['Dismissal_Type_info'].value_counts().index)\n",
    "plt.grid()\n",
    "print(df1['Dismissal_Type_info'].value_counts())\n",
    "\n",
    "print('\\nTotal number of times dismissed :',df1['Dismissal_Type_info'].value_counts().sum(),'(out of',len(df),'matches)')\n",
    "plt.show()"
   ]
  },
  {
   "cell_type": "code",
   "execution_count": null,
   "metadata": {},
   "outputs": [],
   "source": []
  },
  {
   "cell_type": "code",
   "execution_count": null,
   "metadata": {},
   "outputs": [],
   "source": []
  },
  {
   "cell_type": "markdown",
   "metadata": {},
   "source": [
    "# Average Runs scored in each country and the count of Innings played"
   ]
  },
  {
   "cell_type": "markdown",
   "metadata": {},
   "source": [
    "### 1. Average runs in each country"
   ]
  },
  {
   "cell_type": "code",
   "execution_count": 33,
   "metadata": {},
   "outputs": [],
   "source": [
    "avg_runs_wrt_country = pd.DataFrame(df1.Runs.groupby(df1.Country).mean())\n",
    "avg_runs_wrt_country['Country'] = avg_runs_wrt_country.index\n",
    "avg_runs_wrt_country.index = np.arange(0,len(avg_runs_wrt_country))\n",
    "avg_runs_wrt_country.rename(columns={'Runs':'Average_Runs'},inplace=True) ## renaming columns\n",
    "\n",
    "avg_runs_wrt_country = avg_runs_wrt_country.sort_values(by='Average_Runs',ascending=True) #Sorting"
   ]
  },
  {
   "cell_type": "markdown",
   "metadata": {},
   "source": [
    "### 2. Count of innings in each country"
   ]
  },
  {
   "cell_type": "code",
   "execution_count": 34,
   "metadata": {},
   "outputs": [],
   "source": [
    "count_of_innings_per_country = pd.DataFrame(df1.Runs.groupby(df1.Country).count())\n",
    "count_of_innings_per_country['Country'] = count_of_innings_per_country.index\n",
    "count_of_innings_per_country.index = np.arange(0,len(count_of_innings_per_country))\n",
    "count_of_innings_per_country.rename(columns={'Runs':'Count_Of_Innings'},inplace=True)\n",
    "# count_of_innings_per_country"
   ]
  },
  {
   "cell_type": "markdown",
   "metadata": {},
   "source": [
    "### 3. Merging 1 and 2"
   ]
  },
  {
   "cell_type": "code",
   "execution_count": 35,
   "metadata": {},
   "outputs": [],
   "source": [
    "avg_runs_wrt_country_with_coi = pd.merge(avg_runs_wrt_country,count_of_innings_per_country,on='Country')\n",
    "# avg_runs_wrt_country_with_coi"
   ]
  },
  {
   "cell_type": "code",
   "execution_count": 36,
   "metadata": {},
   "outputs": [
    {
     "name": "stdout",
     "output_type": "stream",
     "text": [
      "\n",
      "    Average_Runs       Country  Count_Of_Innings\n",
      "8     64.666667    Bangladesh                15\n",
      "7     60.833333      Zimbabwe                 6\n",
      "6     54.588235  South Africa                17\n",
      "5     52.568421         India                95\n",
      "4     48.529412   West Indies                17\n",
      "3     45.846154   New Zealand                13\n",
      "2     45.758621     Australia                29\n",
      "1     42.451613       England                31\n",
      "0     39.086957     Sri Lanka                23\n"
     ]
    },
    {
     "data": {
      "image/png": "[encoded data removed]",
      "text/plain": [
       "<Figure size 720x432 with 1 Axes>"
      ]
     },
     "metadata": {
      "needs_background": "light"
     },
     "output_type": "display_data"
    },
    {
     "name": "stdout",
     "output_type": "stream",
     "text": [
      "VK has more average in Bangladesh than in India\n"
     ]
    }
   ],
   "source": [
    "plt.figure(figsize=(10,6))\n",
    "plt.barh(avg_runs_wrt_country_with_coi.Country, avg_runs_wrt_country_with_coi.Average_Runs,color='b')\n",
    "plt.grid()\n",
    "print('\\n',avg_runs_wrt_country_with_coi.sort_values('Average_Runs',ascending=False))\n",
    "plt.title('Average Runs scored in each country')\n",
    "plt.xlabel('Average Runs')\n",
    "plt.ylabel('Country')\n",
    "plt.show()\n",
    "\n",
    "print('VK has more average in Bangladesh than in India')"
   ]
  },
  {
   "cell_type": "code",
   "execution_count": null,
   "metadata": {},
   "outputs": [],
   "source": []
  },
  {
   "cell_type": "markdown",
   "metadata": {},
   "source": [
    "# Average Runs scored WRT Continent Category."
   ]
  },
  {
   "cell_type": "code",
   "execution_count": 37,
   "metadata": {},
   "outputs": [],
   "source": [
    "avg_runs_wrt_cc = pd.DataFrame(df1.Runs.groupby(df1.Continent_Category).mean())\n",
    "avg_runs_wrt_cc['Continent_Category'] = avg_runs_wrt_cc.index\n",
    "avg_runs_wrt_cc.index = np.arange(0,len(avg_runs_wrt_cc))\n",
    "# avg_runs_wrt_cc"
   ]
  },
  {
   "cell_type": "code",
   "execution_count": 38,
   "metadata": {},
   "outputs": [
    {
     "name": "stdout",
     "output_type": "stream",
     "text": [
      "        Runs Continent_Category\n",
      "1  51.739130              Other\n",
      "0  51.601504               Asia\n",
      "2  46.300000               SENA\n",
      "\n",
      "*LEGEND*\n",
      "SENA : SA, England, NZ & Australia.\n",
      "Other : WI, Zimbabwe, UAE, Etc.\n"
     ]
    },
    {
     "data": {
      "image/png": "[encoded data removed]",
      "text/plain": [
       "<Figure size 576x504 with 1 Axes>"
      ]
     },
     "metadata": {},
     "output_type": "display_data"
    }
   ],
   "source": [
    "plt.figure(figsize=(8,7))\n",
    "plt.pie(avg_runs_wrt_cc.Runs,labels=avg_runs_wrt_cc.Continent_Category,colors=['lightblue','orange','pink'],startangle=90)\n",
    "print(avg_runs_wrt_cc.sort_values(by='Runs',ascending=False))\n",
    "print('\\n*LEGEND*\\nSENA : SA, England, NZ & Australia.\\nOther : WI, Zimbabwe, UAE, Etc.')\n",
    "plt.show()"
   ]
  },
  {
   "cell_type": "code",
   "execution_count": null,
   "metadata": {},
   "outputs": [],
   "source": []
  },
  {
   "cell_type": "markdown",
   "metadata": {},
   "source": [
    "# Highest average strike rate wrt Oppositions and the count of innings he played"
   ]
  },
  {
   "cell_type": "markdown",
   "metadata": {},
   "source": [
    "### 1/.Avg st rate and opposition"
   ]
  },
  {
   "cell_type": "code",
   "execution_count": 39,
   "metadata": {},
   "outputs": [],
   "source": [
    "sr_wrt_versus = pd.DataFrame(df1.Strike_Rate.groupby(df1.Versus).mean())\n",
    "sr_wrt_versus['Versus'] = sr_wrt_versus.index\n",
    "sr_wrt_versus.index = np.arange(0,len(sr_wrt_versus))\n",
    "# sr_wrt_versus"
   ]
  },
  {
   "cell_type": "markdown",
   "metadata": {},
   "source": [
    "### 2. Opposition and the count of innings"
   ]
  },
  {
   "cell_type": "code",
   "execution_count": 40,
   "metadata": {},
   "outputs": [],
   "source": [
    "coi_strate = pd.DataFrame(df1.Runs.groupby(df1.Versus).count())\n",
    "coi_strate['Versus'] = coi_strate.index\n",
    "coi_strate.index = np.arange(0,len(coi_strate))\n",
    "coi_strate.rename(columns={'Runs':'Count_Of_Innings'},inplace=True)\n",
    "# coi_strate"
   ]
  },
  {
   "cell_type": "markdown",
   "metadata": {},
   "source": [
    "### 3. Merge 1 and 2"
   ]
  },
  {
   "cell_type": "code",
   "execution_count": 41,
   "metadata": {},
   "outputs": [],
   "source": [
    "sr_versus_coi = pd.merge(sr_wrt_versus,coi_strate,on='Versus')\n",
    "sr_versus_coi = sr_versus_coi.sort_values(by='Strike_Rate')"
   ]
  },
  {
   "cell_type": "code",
   "execution_count": 42,
   "metadata": {},
   "outputs": [
    {
     "name": "stdout",
     "output_type": "stream",
     "text": [
      "    Strike_Rate                Versus  Count_Of_Innings\n",
      "0    106.350000           Afghanistan                 1\n",
      "11    86.367632           West Indies                38\n",
      "1     84.461951             Australia                41\n",
      "4     84.455000               Ireland                 2\n",
      "2     83.128333            Bangladesh                12\n",
      "9     80.655217             Sri Lanka                46\n",
      "12    80.554000              Zimbabwe                 5\n",
      "10    80.490000  United Arab Emirates                 1\n",
      "3     78.323636               England                33\n",
      "6     76.591154           New Zealand                26\n",
      "8     72.888519          South Africa                27\n",
      "7     70.206923              Pakistan                13\n",
      "5     60.000000           Netherlands                 1\n"
     ]
    },
    {
     "data": {
      "image/png": "[encoded data removed]",
      "text/plain": [
       "<Figure size 720x432 with 1 Axes>"
      ]
     },
     "metadata": {
      "needs_background": "light"
     },
     "output_type": "display_data"
    }
   ],
   "source": [
    "plt.figure(figsize=(10,6))\n",
    "plt.barh(sr_versus_coi.Versus,sr_versus_coi.Strike_Rate,color='orange')\n",
    "plt.grid()\n",
    "print(sr_versus_coi.sort_values('Strike_Rate',ascending=False))\n",
    "plt.show()"
   ]
  },
  {
   "cell_type": "code",
   "execution_count": null,
   "metadata": {},
   "outputs": [],
   "source": []
  },
  {
   "cell_type": "code",
   "execution_count": null,
   "metadata": {},
   "outputs": [],
   "source": []
  },
  {
   "cell_type": "markdown",
   "metadata": {},
   "source": [
    "# Highest average scores and the number of innings against them."
   ]
  },
  {
   "cell_type": "markdown",
   "metadata": {},
   "source": [
    "### 1. runs vs oppositions (average scores)"
   ]
  },
  {
   "cell_type": "code",
   "execution_count": 43,
   "metadata": {},
   "outputs": [],
   "source": [
    "runs_wrt_versus = pd.DataFrame(df1.Runs.groupby(df1.Versus).mean())\n",
    "runs_wrt_versus['Versus'] = runs_wrt_versus.index\n",
    "runs_wrt_versus.index = np.arange(0,len(runs_wrt_versus))\n",
    "# runs_wrt_versus"
   ]
  },
  {
   "cell_type": "markdown",
   "metadata": {},
   "source": [
    "### 2. number of times played against the opposition"
   ]
  },
  {
   "cell_type": "code",
   "execution_count": 44,
   "metadata": {},
   "outputs": [],
   "source": [
    "coi_runs = pd.DataFrame(df1.Runs.groupby(df1.Versus).count())\n",
    "coi_runs['Versus'] = coi_runs.index\n",
    "coi_runs.index = np.arange(0,len(coi_runs))\n",
    "coi_runs.rename(columns={'Runs':'Count_Of_Innings'},inplace=True)\n",
    "# coi_runs"
   ]
  },
  {
   "cell_type": "markdown",
   "metadata": {},
   "source": [
    "### 3. Merge 1 & 2"
   ]
  },
  {
   "cell_type": "code",
   "execution_count": 45,
   "metadata": {},
   "outputs": [],
   "source": [
    "runs_versus_coi = pd.merge(runs_wrt_versus,coi_runs,on='Versus')\n",
    "runs_versus_coi = runs_versus_coi.sort_values(by='Runs')"
   ]
  },
  {
   "cell_type": "code",
   "execution_count": 46,
   "metadata": {},
   "outputs": [
    {
     "name": "stdout",
     "output_type": "stream",
     "text": [
      "         Runs                Versus  Count_Of_Innings\n",
      "0   67.000000           Afghanistan                 1\n",
      "11  58.815789           West Indies                38\n",
      "2   56.666667            Bangladesh                12\n",
      "6   53.000000           New Zealand                26\n",
      "1   50.804878             Australia                41\n",
      "12  50.600000              Zimbabwe                 5\n",
      "8   49.555556          South Africa                27\n",
      "9   48.260870             Sri Lanka                46\n",
      "7   41.230769              Pakistan                13\n",
      "3   39.606061               England                33\n",
      "4   39.000000               Ireland                 2\n",
      "10  33.000000  United Arab Emirates                 1\n",
      "5   12.000000           Netherlands                 1\n"
     ]
    },
    {
     "data": {
      "image/png": "[encoded data removed]",
      "text/plain": [
       "<Figure size 720x432 with 1 Axes>"
      ]
     },
     "metadata": {
      "needs_background": "light"
     },
     "output_type": "display_data"
    }
   ],
   "source": [
    "plt.figure(figsize=(10,6))\n",
    "plt.barh(runs_versus_coi.Versus,runs_versus_coi.Runs,color='pink')\n",
    "plt.grid()\n",
    "print(runs_versus_coi.sort_values('Runs',ascending=False))\n",
    "plt.show()"
   ]
  },
  {
   "cell_type": "code",
   "execution_count": null,
   "metadata": {},
   "outputs": [],
   "source": []
  },
  {
   "cell_type": "code",
   "execution_count": null,
   "metadata": {},
   "outputs": [],
   "source": []
  },
  {
   "cell_type": "markdown",
   "metadata": {},
   "source": [
    "### Creating New Features for Century and Half Century"
   ]
  },
  {
   "cell_type": "code",
   "execution_count": 47,
   "metadata": {},
   "outputs": [],
   "source": [
    "c = []\n",
    "hc = []\n",
    "for i in df1.Runs:\n",
    "    if i >= 100:\n",
    "        c.append(1)\n",
    "    else :\n",
    "        c.append(0)\n",
    "for i in df1.Runs:        \n",
    "    if 50 <= i < 100:\n",
    "        hc.append(1)\n",
    "    else :\n",
    "        hc.append(0)\n",
    "        \n",
    "df1['Century'] = c\n",
    "df1['Half_Century'] = hc"
   ]
  },
  {
   "cell_type": "code",
   "execution_count": 48,
   "metadata": {},
   "outputs": [],
   "source": [
    "# df1.head(50)"
   ]
  },
  {
   "cell_type": "code",
   "execution_count": 49,
   "metadata": {},
   "outputs": [],
   "source": [
    "# df1[df1.Dismissal_Type.str.contains('run out')]"
   ]
  },
  {
   "cell_type": "markdown",
   "metadata": {},
   "source": [
    "### Creating new features \"Dismissed By\""
   ]
  },
  {
   "cell_type": "code",
   "execution_count": 50,
   "metadata": {},
   "outputs": [],
   "source": [
    "dmb = []\n",
    "for i in df1.Dismissal_Type:\n",
    "    if i == 'run out' :#or i != 'not out':\n",
    "        dmb.append(i)\n",
    "    elif i == 'not out':\n",
    "        dmb.append(i)\n",
    "    else :\n",
    "        dmb.append(i.split(\" \")[-1])\n",
    "df1['Dismissed_By'] = dmb"
   ]
  },
  {
   "cell_type": "code",
   "execution_count": 51,
   "metadata": {},
   "outputs": [
    {
     "data": {
      "text/plain": [
       "not out       39\n",
       "run out       11\n",
       "Southee        6\n",
       "Rampaul        6\n",
       "Richardson     5\n",
       "McKay          5\n",
       "Perera         5\n",
       "Zampa          5\n",
       "Swann          4\n",
       "Khan           4\n",
       "Name: Dismissed_By, dtype: int64"
      ]
     },
     "execution_count": 51,
     "metadata": {},
     "output_type": "execute_result"
    }
   ],
   "source": [
    "# df1['Dismissed_By'].head(50)\n",
    "df1.Dismissed_By.value_counts().head(10)"
   ]
  },
  {
   "cell_type": "code",
   "execution_count": null,
   "metadata": {},
   "outputs": [],
   "source": []
  },
  {
   "cell_type": "code",
   "execution_count": null,
   "metadata": {},
   "outputs": [],
   "source": []
  },
  {
   "cell_type": "code",
   "execution_count": 52,
   "metadata": {},
   "outputs": [],
   "source": [
    "# df1[df1.Dismissal_Type.str.contains('Kulase')]"
   ]
  },
  {
   "cell_type": "code",
   "execution_count": null,
   "metadata": {},
   "outputs": [],
   "source": []
  },
  {
   "cell_type": "code",
   "execution_count": 53,
   "metadata": {},
   "outputs": [
    {
     "data": {
      "image/png": "[encoded data removed]",
      "text/plain": [
       "<Figure size 936x432 with 1 Axes>"
      ]
     },
     "metadata": {
      "needs_background": "light"
     },
     "output_type": "display_data"
    }
   ],
   "source": [
    "plt.figure(figsize=(13,6))\n",
    "sns.countplot(df1.Versus,order = df1.Versus.value_counts().index )\n",
    "plt.xticks(rotation=90)\n",
    "plt.show()"
   ]
  },
  {
   "cell_type": "code",
   "execution_count": 54,
   "metadata": {},
   "outputs": [
    {
     "data": {
      "image/png": "[encoded data removed]",
      "text/plain": [
       "<Figure size 936x432 with 1 Axes>"
      ]
     },
     "metadata": {
      "needs_background": "light"
     },
     "output_type": "display_data"
    }
   ],
   "source": [
    "plt.figure(figsize=(13,6))\n",
    "sns.countplot(df1.Versus , hue=df1.Century,palette='gist_heat_r' )\n",
    "plt.xticks(rotation=90)\n",
    "plt.show()"
   ]
  },
  {
   "cell_type": "code",
   "execution_count": null,
   "metadata": {},
   "outputs": [],
   "source": []
  },
  {
   "cell_type": "markdown",
   "metadata": {},
   "source": [
    "### Real time analysis"
   ]
  },
  {
   "cell_type": "code",
   "execution_count": 55,
   "metadata": {},
   "outputs": [
    {
     "data": {
      "text/html": [
       "<div>\n",
       "<style scoped>\n",
       "    .dataframe tbody tr th:only-of-type {\n",
       "        vertical-align: middle;\n",
       "    }\n",
       "\n",
       "    .dataframe tbody tr th {\n",
       "        vertical-align: top;\n",
       "    }\n",
       "\n",
       "    .dataframe thead th {\n",
       "        text-align: right;\n",
       "    }\n",
       "</style>\n",
       "<table border=\"1\" class=\"dataframe\">\n",
       "  <thead>\n",
       "    <tr style=\"text-align: right;\">\n",
       "      <th></th>\n",
       "      <th>Match_No</th>\n",
       "      <th>Date</th>\n",
       "      <th>Versus</th>\n",
       "      <th>Ground</th>\n",
       "      <th>Country</th>\n",
       "      <th>Continent_Category</th>\n",
       "      <th>D/N</th>\n",
       "      <th>Dismissal_Type</th>\n",
       "      <th>Runs</th>\n",
       "      <th>Balls_Faced</th>\n",
       "      <th>Strike_Rate</th>\n",
       "      <th>Progressive_Aggr</th>\n",
       "      <th>Progressive_Avg</th>\n",
       "      <th>Progressive_Strike_Rate</th>\n",
       "      <th>Status</th>\n",
       "      <th>Dismissal_Type_info</th>\n",
       "      <th>Century</th>\n",
       "      <th>Half_Century</th>\n",
       "      <th>Dismissed_By</th>\n",
       "    </tr>\n",
       "  </thead>\n",
       "  <tbody>\n",
       "    <tr>\n",
       "      <th>0</th>\n",
       "      <td>1</td>\n",
       "      <td>18-08-2008</td>\n",
       "      <td>Sri Lanka</td>\n",
       "      <td>Rangiri Dambulla International Stadium</td>\n",
       "      <td>Sri Lanka</td>\n",
       "      <td>Asia</td>\n",
       "      <td>0</td>\n",
       "      <td>lbw b K M D N Kulasekara</td>\n",
       "      <td>12</td>\n",
       "      <td>22</td>\n",
       "      <td>54.55</td>\n",
       "      <td>12</td>\n",
       "      <td>12.00</td>\n",
       "      <td>54.55</td>\n",
       "      <td>Out</td>\n",
       "      <td>lbw</td>\n",
       "      <td>0</td>\n",
       "      <td>0</td>\n",
       "      <td>Kulasekara</td>\n",
       "    </tr>\n",
       "    <tr>\n",
       "      <th>1</th>\n",
       "      <td>2</td>\n",
       "      <td>20-08-2008</td>\n",
       "      <td>Sri Lanka</td>\n",
       "      <td>Rangiri Dambulla International Stadium</td>\n",
       "      <td>Sri Lanka</td>\n",
       "      <td>Asia</td>\n",
       "      <td>0</td>\n",
       "      <td>c C K Kapugedera b T Thushara</td>\n",
       "      <td>37</td>\n",
       "      <td>67</td>\n",
       "      <td>55.22</td>\n",
       "      <td>49</td>\n",
       "      <td>24.50</td>\n",
       "      <td>55.06</td>\n",
       "      <td>Out</td>\n",
       "      <td>c</td>\n",
       "      <td>0</td>\n",
       "      <td>0</td>\n",
       "      <td>Thushara</td>\n",
       "    </tr>\n",
       "    <tr>\n",
       "      <th>2</th>\n",
       "      <td>3</td>\n",
       "      <td>24-08-2008</td>\n",
       "      <td>Sri Lanka</td>\n",
       "      <td>R Premadasa Stadium</td>\n",
       "      <td>Sri Lanka</td>\n",
       "      <td>Asia</td>\n",
       "      <td>1</td>\n",
       "      <td>run out</td>\n",
       "      <td>25</td>\n",
       "      <td>38</td>\n",
       "      <td>65.79</td>\n",
       "      <td>74</td>\n",
       "      <td>24.67</td>\n",
       "      <td>58.27</td>\n",
       "      <td>Out</td>\n",
       "      <td>run out</td>\n",
       "      <td>0</td>\n",
       "      <td>0</td>\n",
       "      <td>run out</td>\n",
       "    </tr>\n",
       "    <tr>\n",
       "      <th>3</th>\n",
       "      <td>4</td>\n",
       "      <td>27-08-2008</td>\n",
       "      <td>Sri Lanka</td>\n",
       "      <td>R Premadasa Stadium</td>\n",
       "      <td>Sri Lanka</td>\n",
       "      <td>Asia</td>\n",
       "      <td>1</td>\n",
       "      <td>b T Thushara</td>\n",
       "      <td>54</td>\n",
       "      <td>66</td>\n",
       "      <td>81.82</td>\n",
       "      <td>128</td>\n",
       "      <td>32.00</td>\n",
       "      <td>66.32</td>\n",
       "      <td>Out</td>\n",
       "      <td>b</td>\n",
       "      <td>0</td>\n",
       "      <td>1</td>\n",
       "      <td>Thushara</td>\n",
       "    </tr>\n",
       "    <tr>\n",
       "      <th>4</th>\n",
       "      <td>5</td>\n",
       "      <td>29-08-2008</td>\n",
       "      <td>Sri Lanka</td>\n",
       "      <td>R Premadasa Stadium</td>\n",
       "      <td>Sri Lanka</td>\n",
       "      <td>Asia</td>\n",
       "      <td>1</td>\n",
       "      <td>lbw b K M D N Kulasekara</td>\n",
       "      <td>31</td>\n",
       "      <td>46</td>\n",
       "      <td>67.39</td>\n",
       "      <td>159</td>\n",
       "      <td>31.80</td>\n",
       "      <td>66.53</td>\n",
       "      <td>Out</td>\n",
       "      <td>lbw</td>\n",
       "      <td>0</td>\n",
       "      <td>0</td>\n",
       "      <td>Kulasekara</td>\n",
       "    </tr>\n",
       "  </tbody>\n",
       "</table>\n",
       "</div>"
      ],
      "text/plain": [
       "   Match_No        Date     Versus                                  Ground  \\\n",
       "0         1  18-08-2008  Sri Lanka  Rangiri Dambulla International Stadium   \n",
       "1         2  20-08-2008  Sri Lanka  Rangiri Dambulla International Stadium   \n",
       "2         3  24-08-2008  Sri Lanka                     R Premadasa Stadium   \n",
       "3         4  27-08-2008  Sri Lanka                     R Premadasa Stadium   \n",
       "4         5  29-08-2008  Sri Lanka                     R Premadasa Stadium   \n",
       "\n",
       "     Country Continent_Category  D/N                 Dismissal_Type  Runs  \\\n",
       "0  Sri Lanka               Asia    0       lbw b K M D N Kulasekara    12   \n",
       "1  Sri Lanka               Asia    0  c C K Kapugedera b T Thushara    37   \n",
       "2  Sri Lanka               Asia    1                        run out    25   \n",
       "3  Sri Lanka               Asia    1                   b T Thushara    54   \n",
       "4  Sri Lanka               Asia    1       lbw b K M D N Kulasekara    31   \n",
       "\n",
       "   Balls_Faced  Strike_Rate  Progressive_Aggr  Progressive_Avg  \\\n",
       "0           22        54.55                12            12.00   \n",
       "1           67        55.22                49            24.50   \n",
       "2           38        65.79                74            24.67   \n",
       "3           66        81.82               128            32.00   \n",
       "4           46        67.39               159            31.80   \n",
       "\n",
       "   Progressive_Strike_Rate Status Dismissal_Type_info  Century  Half_Century  \\\n",
       "0                    54.55    Out                 lbw        0             0   \n",
       "1                    55.06    Out                   c        0             0   \n",
       "2                    58.27    Out             run out        0             0   \n",
       "3                    66.32    Out                   b        0             1   \n",
       "4                    66.53    Out                 lbw        0             0   \n",
       "\n",
       "  Dismissed_By  \n",
       "0   Kulasekara  \n",
       "1     Thushara  \n",
       "2      run out  \n",
       "3     Thushara  \n",
       "4   Kulasekara  "
      ]
     },
     "execution_count": 55,
     "metadata": {},
     "output_type": "execute_result"
    }
   ],
   "source": [
    "df1.head()"
   ]
  },
  {
   "cell_type": "code",
   "execution_count": 56,
   "metadata": {},
   "outputs": [],
   "source": [
    "sa = df1.loc[df1.Country == 'South Africa']"
   ]
  },
  {
   "cell_type": "code",
   "execution_count": 57,
   "metadata": {},
   "outputs": [
    {
     "data": {
      "text/html": [
       "<div>\n",
       "<style scoped>\n",
       "    .dataframe tbody tr th:only-of-type {\n",
       "        vertical-align: middle;\n",
       "    }\n",
       "\n",
       "    .dataframe tbody tr th {\n",
       "        vertical-align: top;\n",
       "    }\n",
       "\n",
       "    .dataframe thead th {\n",
       "        text-align: right;\n",
       "    }\n",
       "</style>\n",
       "<table border=\"1\" class=\"dataframe\">\n",
       "  <thead>\n",
       "    <tr style=\"text-align: right;\">\n",
       "      <th></th>\n",
       "      <th>Match_No</th>\n",
       "      <th>Date</th>\n",
       "      <th>Versus</th>\n",
       "      <th>Ground</th>\n",
       "      <th>Country</th>\n",
       "      <th>Continent_Category</th>\n",
       "      <th>D/N</th>\n",
       "      <th>Dismissal_Type</th>\n",
       "      <th>Runs</th>\n",
       "      <th>Balls_Faced</th>\n",
       "      <th>Strike_Rate</th>\n",
       "      <th>Progressive_Aggr</th>\n",
       "      <th>Progressive_Avg</th>\n",
       "      <th>Progressive_Strike_Rate</th>\n",
       "      <th>Status</th>\n",
       "      <th>Dismissal_Type_info</th>\n",
       "      <th>Century</th>\n",
       "      <th>Half_Century</th>\n",
       "      <th>Dismissed_By</th>\n",
       "    </tr>\n",
       "  </thead>\n",
       "  <tbody>\n",
       "    <tr>\n",
       "      <th>6</th>\n",
       "      <td>7</td>\n",
       "      <td>26-09-2009</td>\n",
       "      <td>Pakistan</td>\n",
       "      <td>SuperSport Park</td>\n",
       "      <td>South Africa</td>\n",
       "      <td>SENA</td>\n",
       "      <td>1</td>\n",
       "      <td>c Umar Gul b Shahid Afridi</td>\n",
       "      <td>16</td>\n",
       "      <td>24</td>\n",
       "      <td>66.67</td>\n",
       "      <td>177</td>\n",
       "      <td>29.50</td>\n",
       "      <td>66.79</td>\n",
       "      <td>Out</td>\n",
       "      <td>c</td>\n",
       "      <td>0</td>\n",
       "      <td>0</td>\n",
       "      <td>Afridi</td>\n",
       "    </tr>\n",
       "    <tr>\n",
       "      <th>8</th>\n",
       "      <td>9</td>\n",
       "      <td>30-09-2009</td>\n",
       "      <td>West Indies</td>\n",
       "      <td>Wanderers Stadium</td>\n",
       "      <td>South Africa</td>\n",
       "      <td>SENA</td>\n",
       "      <td>1</td>\n",
       "      <td>not out</td>\n",
       "      <td>79</td>\n",
       "      <td>104</td>\n",
       "      <td>75.96</td>\n",
       "      <td>256</td>\n",
       "      <td>42.67</td>\n",
       "      <td>69.38</td>\n",
       "      <td>Not out</td>\n",
       "      <td>not out</td>\n",
       "      <td>0</td>\n",
       "      <td>1</td>\n",
       "      <td>not out</td>\n",
       "    </tr>\n",
       "    <tr>\n",
       "      <th>40</th>\n",
       "      <td>41</td>\n",
       "      <td>12-01-2011</td>\n",
       "      <td>South Africa</td>\n",
       "      <td>Kingsmead</td>\n",
       "      <td>South Africa</td>\n",
       "      <td>SENA</td>\n",
       "      <td>1</td>\n",
       "      <td>c G C Smith b D W Steyn</td>\n",
       "      <td>54</td>\n",
       "      <td>70</td>\n",
       "      <td>77.14</td>\n",
       "      <td>1533</td>\n",
       "      <td>46.45</td>\n",
       "      <td>82.29</td>\n",
       "      <td>Out</td>\n",
       "      <td>c</td>\n",
       "      <td>0</td>\n",
       "      <td>1</td>\n",
       "      <td>Steyn</td>\n",
       "    </tr>\n",
       "    <tr>\n",
       "      <th>41</th>\n",
       "      <td>42</td>\n",
       "      <td>15-01-2011</td>\n",
       "      <td>South Africa</td>\n",
       "      <td>Wanderers Stadium</td>\n",
       "      <td>South Africa</td>\n",
       "      <td>SENA</td>\n",
       "      <td>1</td>\n",
       "      <td>run out</td>\n",
       "      <td>22</td>\n",
       "      <td>34</td>\n",
       "      <td>64.71</td>\n",
       "      <td>1555</td>\n",
       "      <td>45.74</td>\n",
       "      <td>81.97</td>\n",
       "      <td>Out</td>\n",
       "      <td>run out</td>\n",
       "      <td>0</td>\n",
       "      <td>0</td>\n",
       "      <td>run out</td>\n",
       "    </tr>\n",
       "    <tr>\n",
       "      <th>42</th>\n",
       "      <td>43</td>\n",
       "      <td>18-01-2011</td>\n",
       "      <td>South Africa</td>\n",
       "      <td>Newlands</td>\n",
       "      <td>South Africa</td>\n",
       "      <td>SENA</td>\n",
       "      <td>1</td>\n",
       "      <td>c ?A B de Villiers b M Morkel</td>\n",
       "      <td>28</td>\n",
       "      <td>41</td>\n",
       "      <td>68.29</td>\n",
       "      <td>1583</td>\n",
       "      <td>45.23</td>\n",
       "      <td>81.68</td>\n",
       "      <td>Out</td>\n",
       "      <td>c</td>\n",
       "      <td>0</td>\n",
       "      <td>0</td>\n",
       "      <td>Morkel</td>\n",
       "    </tr>\n",
       "    <tr>\n",
       "      <th>43</th>\n",
       "      <td>44</td>\n",
       "      <td>21-01-2011</td>\n",
       "      <td>South Africa</td>\n",
       "      <td>St George's Park</td>\n",
       "      <td>South Africa</td>\n",
       "      <td>SENA</td>\n",
       "      <td>1</td>\n",
       "      <td>not out</td>\n",
       "      <td>87</td>\n",
       "      <td>92</td>\n",
       "      <td>94.57</td>\n",
       "      <td>1670</td>\n",
       "      <td>47.71</td>\n",
       "      <td>82.27</td>\n",
       "      <td>Not out</td>\n",
       "      <td>not out</td>\n",
       "      <td>0</td>\n",
       "      <td>1</td>\n",
       "      <td>not out</td>\n",
       "    </tr>\n",
       "    <tr>\n",
       "      <th>44</th>\n",
       "      <td>45</td>\n",
       "      <td>23-01-2011</td>\n",
       "      <td>South Africa</td>\n",
       "      <td>SuperSport Park</td>\n",
       "      <td>South Africa</td>\n",
       "      <td>SENA</td>\n",
       "      <td>0</td>\n",
       "      <td>c ?A B de Villiers b M Morkel</td>\n",
       "      <td>2</td>\n",
       "      <td>6</td>\n",
       "      <td>33.33</td>\n",
       "      <td>1672</td>\n",
       "      <td>46.44</td>\n",
       "      <td>82.12</td>\n",
       "      <td>Out</td>\n",
       "      <td>c</td>\n",
       "      <td>0</td>\n",
       "      <td>0</td>\n",
       "      <td>Morkel</td>\n",
       "    </tr>\n",
       "    <tr>\n",
       "      <th>122</th>\n",
       "      <td>123</td>\n",
       "      <td>05-12-2013</td>\n",
       "      <td>South Africa</td>\n",
       "      <td>Wanderers Stadium</td>\n",
       "      <td>South Africa</td>\n",
       "      <td>SENA</td>\n",
       "      <td>1</td>\n",
       "      <td>c J H Kallis b R McLaren</td>\n",
       "      <td>31</td>\n",
       "      <td>35</td>\n",
       "      <td>88.57</td>\n",
       "      <td>5154</td>\n",
       "      <td>52.06</td>\n",
       "      <td>88.92</td>\n",
       "      <td>Out</td>\n",
       "      <td>c</td>\n",
       "      <td>0</td>\n",
       "      <td>0</td>\n",
       "      <td>McLaren</td>\n",
       "    </tr>\n",
       "    <tr>\n",
       "      <th>123</th>\n",
       "      <td>124</td>\n",
       "      <td>08-12-2013</td>\n",
       "      <td>South Africa</td>\n",
       "      <td>Kingsmead</td>\n",
       "      <td>South Africa</td>\n",
       "      <td>SENA</td>\n",
       "      <td>0</td>\n",
       "      <td>c ?Q de Kock b L L Tsotsobe</td>\n",
       "      <td>0</td>\n",
       "      <td>5</td>\n",
       "      <td>0.00</td>\n",
       "      <td>5154</td>\n",
       "      <td>51.54</td>\n",
       "      <td>88.85</td>\n",
       "      <td>Out</td>\n",
       "      <td>c</td>\n",
       "      <td>0</td>\n",
       "      <td>0</td>\n",
       "      <td>Tsotsobe</td>\n",
       "    </tr>\n",
       "    <tr>\n",
       "      <th>202</th>\n",
       "      <td>203</td>\n",
       "      <td>01-02-2018</td>\n",
       "      <td>South Africa</td>\n",
       "      <td>Kingsmead</td>\n",
       "      <td>South Africa</td>\n",
       "      <td>SENA</td>\n",
       "      <td>1</td>\n",
       "      <td>c K Rabada b A L Phehlukwayo</td>\n",
       "      <td>112</td>\n",
       "      <td>119</td>\n",
       "      <td>94.12</td>\n",
       "      <td>9142</td>\n",
       "      <td>56.09</td>\n",
       "      <td>91.76</td>\n",
       "      <td>Out</td>\n",
       "      <td>c</td>\n",
       "      <td>1</td>\n",
       "      <td>0</td>\n",
       "      <td>Phehlukwayo</td>\n",
       "    </tr>\n",
       "    <tr>\n",
       "      <th>203</th>\n",
       "      <td>204</td>\n",
       "      <td>04-02-2018</td>\n",
       "      <td>South Africa</td>\n",
       "      <td>SuperSport Park</td>\n",
       "      <td>South Africa</td>\n",
       "      <td>SENA</td>\n",
       "      <td>1</td>\n",
       "      <td>not out</td>\n",
       "      <td>46</td>\n",
       "      <td>50</td>\n",
       "      <td>92.00</td>\n",
       "      <td>9188</td>\n",
       "      <td>56.37</td>\n",
       "      <td>91.76</td>\n",
       "      <td>Not out</td>\n",
       "      <td>not out</td>\n",
       "      <td>0</td>\n",
       "      <td>0</td>\n",
       "      <td>not out</td>\n",
       "    </tr>\n",
       "    <tr>\n",
       "      <th>204</th>\n",
       "      <td>205</td>\n",
       "      <td>07-02-2018</td>\n",
       "      <td>South Africa</td>\n",
       "      <td>Newlands</td>\n",
       "      <td>South Africa</td>\n",
       "      <td>SENA</td>\n",
       "      <td>1</td>\n",
       "      <td>not out</td>\n",
       "      <td>160</td>\n",
       "      <td>159</td>\n",
       "      <td>100.63</td>\n",
       "      <td>9348</td>\n",
       "      <td>57.35</td>\n",
       "      <td>91.90</td>\n",
       "      <td>Not out</td>\n",
       "      <td>not out</td>\n",
       "      <td>1</td>\n",
       "      <td>0</td>\n",
       "      <td>not out</td>\n",
       "    </tr>\n",
       "    <tr>\n",
       "      <th>205</th>\n",
       "      <td>206</td>\n",
       "      <td>10-02-2018</td>\n",
       "      <td>South Africa</td>\n",
       "      <td>Wanderers Stadium</td>\n",
       "      <td>South Africa</td>\n",
       "      <td>SENA</td>\n",
       "      <td>1</td>\n",
       "      <td>c D A Miller b C H Morris</td>\n",
       "      <td>75</td>\n",
       "      <td>83</td>\n",
       "      <td>90.36</td>\n",
       "      <td>9423</td>\n",
       "      <td>57.46</td>\n",
       "      <td>91.89</td>\n",
       "      <td>Out</td>\n",
       "      <td>c</td>\n",
       "      <td>0</td>\n",
       "      <td>1</td>\n",
       "      <td>Morris</td>\n",
       "    </tr>\n",
       "    <tr>\n",
       "      <th>206</th>\n",
       "      <td>207</td>\n",
       "      <td>13-02-2018</td>\n",
       "      <td>South Africa</td>\n",
       "      <td>St George's Park</td>\n",
       "      <td>South Africa</td>\n",
       "      <td>SENA</td>\n",
       "      <td>1</td>\n",
       "      <td>run out</td>\n",
       "      <td>36</td>\n",
       "      <td>54</td>\n",
       "      <td>66.67</td>\n",
       "      <td>9459</td>\n",
       "      <td>57.33</td>\n",
       "      <td>91.75</td>\n",
       "      <td>Out</td>\n",
       "      <td>run out</td>\n",
       "      <td>0</td>\n",
       "      <td>0</td>\n",
       "      <td>run out</td>\n",
       "    </tr>\n",
       "    <tr>\n",
       "      <th>207</th>\n",
       "      <td>208</td>\n",
       "      <td>16-02-2018</td>\n",
       "      <td>South Africa</td>\n",
       "      <td>SuperSport Park</td>\n",
       "      <td>South Africa</td>\n",
       "      <td>SENA</td>\n",
       "      <td>1</td>\n",
       "      <td>not out</td>\n",
       "      <td>129</td>\n",
       "      <td>96</td>\n",
       "      <td>134.38</td>\n",
       "      <td>9588</td>\n",
       "      <td>58.11</td>\n",
       "      <td>92.15</td>\n",
       "      <td>Not out</td>\n",
       "      <td>not out</td>\n",
       "      <td>1</td>\n",
       "      <td>0</td>\n",
       "      <td>not out</td>\n",
       "    </tr>\n",
       "    <tr>\n",
       "      <th>254</th>\n",
       "      <td>255</td>\n",
       "      <td>19-01-2022</td>\n",
       "      <td>South Africa</td>\n",
       "      <td>Boland Park</td>\n",
       "      <td>South Africa</td>\n",
       "      <td>SENA</td>\n",
       "      <td>0</td>\n",
       "      <td>c T Bavuma b T Shamsi</td>\n",
       "      <td>51</td>\n",
       "      <td>63</td>\n",
       "      <td>80.95</td>\n",
       "      <td>12220</td>\n",
       "      <td>59.03</td>\n",
       "      <td>93.11</td>\n",
       "      <td>Out</td>\n",
       "      <td>c</td>\n",
       "      <td>0</td>\n",
       "      <td>1</td>\n",
       "      <td>Shamsi</td>\n",
       "    </tr>\n",
       "    <tr>\n",
       "      <th>255</th>\n",
       "      <td>256</td>\n",
       "      <td>21-01-2022</td>\n",
       "      <td>South Africa</td>\n",
       "      <td>Boland Park</td>\n",
       "      <td>South Africa</td>\n",
       "      <td>SENA</td>\n",
       "      <td>0</td>\n",
       "      <td>c T Bavuma b K A Maharaj</td>\n",
       "      <td>0</td>\n",
       "      <td>5</td>\n",
       "      <td>0.00</td>\n",
       "      <td>12220</td>\n",
       "      <td>58.75</td>\n",
       "      <td>93.08</td>\n",
       "      <td>Out</td>\n",
       "      <td>c</td>\n",
       "      <td>0</td>\n",
       "      <td>0</td>\n",
       "      <td>Maharaj</td>\n",
       "    </tr>\n",
       "  </tbody>\n",
       "</table>\n",
       "</div>"
      ],
      "text/plain": [
       "     Match_No        Date        Versus             Ground       Country  \\\n",
       "6           7  26-09-2009      Pakistan    SuperSport Park  South Africa   \n",
       "8           9  30-09-2009   West Indies  Wanderers Stadium  South Africa   \n",
       "40         41  12-01-2011  South Africa          Kingsmead  South Africa   \n",
       "41         42  15-01-2011  South Africa  Wanderers Stadium  South Africa   \n",
       "42         43  18-01-2011  South Africa           Newlands  South Africa   \n",
       "43         44  21-01-2011  South Africa   St George's Park  South Africa   \n",
       "44         45  23-01-2011  South Africa    SuperSport Park  South Africa   \n",
       "122       123  05-12-2013  South Africa  Wanderers Stadium  South Africa   \n",
       "123       124  08-12-2013  South Africa          Kingsmead  South Africa   \n",
       "202       203  01-02-2018  South Africa          Kingsmead  South Africa   \n",
       "203       204  04-02-2018  South Africa    SuperSport Park  South Africa   \n",
       "204       205  07-02-2018  South Africa           Newlands  South Africa   \n",
       "205       206  10-02-2018  South Africa  Wanderers Stadium  South Africa   \n",
       "206       207  13-02-2018  South Africa   St George's Park  South Africa   \n",
       "207       208  16-02-2018  South Africa    SuperSport Park  South Africa   \n",
       "254       255  19-01-2022  South Africa        Boland Park  South Africa   \n",
       "255       256  21-01-2022  South Africa        Boland Park  South Africa   \n",
       "\n",
       "    Continent_Category  D/N                 Dismissal_Type  Runs  Balls_Faced  \\\n",
       "6                 SENA    1     c Umar Gul b Shahid Afridi    16           24   \n",
       "8                 SENA    1                        not out    79          104   \n",
       "40                SENA    1        c G C Smith b D W Steyn    54           70   \n",
       "41                SENA    1                        run out    22           34   \n",
       "42                SENA    1  c ?A B de Villiers b M Morkel    28           41   \n",
       "43                SENA    1                        not out    87           92   \n",
       "44                SENA    0  c ?A B de Villiers b M Morkel     2            6   \n",
       "122               SENA    1       c J H Kallis b R McLaren    31           35   \n",
       "123               SENA    0    c ?Q de Kock b L L Tsotsobe     0            5   \n",
       "202               SENA    1   c K Rabada b A L Phehlukwayo   112          119   \n",
       "203               SENA    1                        not out    46           50   \n",
       "204               SENA    1                        not out   160          159   \n",
       "205               SENA    1      c D A Miller b C H Morris    75           83   \n",
       "206               SENA    1                        run out    36           54   \n",
       "207               SENA    1                        not out   129           96   \n",
       "254               SENA    0          c T Bavuma b T Shamsi    51           63   \n",
       "255               SENA    0       c T Bavuma b K A Maharaj     0            5   \n",
       "\n",
       "     Strike_Rate  Progressive_Aggr  Progressive_Avg  Progressive_Strike_Rate  \\\n",
       "6          66.67               177            29.50                    66.79   \n",
       "8          75.96               256            42.67                    69.38   \n",
       "40         77.14              1533            46.45                    82.29   \n",
       "41         64.71              1555            45.74                    81.97   \n",
       "42         68.29              1583            45.23                    81.68   \n",
       "43         94.57              1670            47.71                    82.27   \n",
       "44         33.33              1672            46.44                    82.12   \n",
       "122        88.57              5154            52.06                    88.92   \n",
       "123         0.00              5154            51.54                    88.85   \n",
       "202        94.12              9142            56.09                    91.76   \n",
       "203        92.00              9188            56.37                    91.76   \n",
       "204       100.63              9348            57.35                    91.90   \n",
       "205        90.36              9423            57.46                    91.89   \n",
       "206        66.67              9459            57.33                    91.75   \n",
       "207       134.38              9588            58.11                    92.15   \n",
       "254        80.95             12220            59.03                    93.11   \n",
       "255         0.00             12220            58.75                    93.08   \n",
       "\n",
       "      Status Dismissal_Type_info  Century  Half_Century Dismissed_By  \n",
       "6        Out                   c        0             0       Afridi  \n",
       "8    Not out             not out        0             1      not out  \n",
       "40       Out                   c        0             1        Steyn  \n",
       "41       Out             run out        0             0      run out  \n",
       "42       Out                   c        0             0       Morkel  \n",
       "43   Not out             not out        0             1      not out  \n",
       "44       Out                   c        0             0       Morkel  \n",
       "122      Out                   c        0             0      McLaren  \n",
       "123      Out                   c        0             0     Tsotsobe  \n",
       "202      Out                   c        1             0  Phehlukwayo  \n",
       "203  Not out             not out        0             0      not out  \n",
       "204  Not out             not out        1             0      not out  \n",
       "205      Out                   c        0             1       Morris  \n",
       "206      Out             run out        0             0      run out  \n",
       "207  Not out             not out        1             0      not out  \n",
       "254      Out                   c        0             1       Shamsi  \n",
       "255      Out                   c        0             0      Maharaj  "
      ]
     },
     "execution_count": 57,
     "metadata": {},
     "output_type": "execute_result"
    }
   ],
   "source": [
    "sa"
   ]
  },
  {
   "cell_type": "code",
   "execution_count": 58,
   "metadata": {},
   "outputs": [
    {
     "data": {
      "text/plain": [
       "55.53333333333333"
      ]
     },
     "execution_count": 58,
     "metadata": {},
     "output_type": "execute_result"
    }
   ],
   "source": [
    "sa.loc[sa.Versus == 'South Africa'].Runs.mean()"
   ]
  },
  {
   "cell_type": "code",
   "execution_count": 59,
   "metadata": {},
   "outputs": [
    {
     "data": {
      "text/plain": [
       "72.38133333333333"
      ]
     },
     "execution_count": 59,
     "metadata": {},
     "output_type": "execute_result"
    }
   ],
   "source": [
    "sa.loc[sa.Versus == 'South Africa']['Strike_Rate'].mean()"
   ]
  },
  {
   "cell_type": "code",
   "execution_count": 60,
   "metadata": {},
   "outputs": [
    {
     "data": {
      "text/plain": [
       "60.8"
      ]
     },
     "execution_count": 60,
     "metadata": {},
     "output_type": "execute_result"
    }
   ],
   "source": [
    "sa.loc[sa.Versus == 'South Africa']['Balls_Faced'].mean()"
   ]
  },
  {
   "cell_type": "code",
   "execution_count": 61,
   "metadata": {},
   "outputs": [
    {
     "data": {
      "text/plain": [
       "c          9\n",
       "not out    4\n",
       "run out    2\n",
       "Name: Dismissal_Type_info, dtype: int64"
      ]
     },
     "execution_count": 61,
     "metadata": {},
     "output_type": "execute_result"
    }
   ],
   "source": [
    "sa.loc[sa.Versus == 'South Africa'].Dismissal_Type_info.value_counts()"
   ]
  },
  {
   "cell_type": "code",
   "execution_count": null,
   "metadata": {},
   "outputs": [],
   "source": []
  },
  {
   "cell_type": "code",
   "execution_count": null,
   "metadata": {},
   "outputs": [],
   "source": []
  },
  {
   "cell_type": "markdown",
   "metadata": {},
   "source": [
    "### Predictions"
   ]
  },
  {
   "cell_type": "code",
   "execution_count": 111,
   "metadata": {},
   "outputs": [],
   "source": [
    "from sklearn.model_selection import train_test_split\n",
    "from sklearn.preprocessing import LabelEncoder\n",
    "from sklearn.linear_model import LogisticRegression\n",
    "from sklearn.neighbors import KNeighborsClassifier\n",
    "from sklearn.tree import DecisionTreeClassifier\n",
    "from sklearn.ensemble import RandomForestClassifier\n",
    "from sklearn.ensemble import GradientBoostingClassifier\n",
    "from xgboost import XGBClassifier\n",
    "from catboost import CatBoostClassifier\n",
    "from lightgbm import LGBMClassifier\n",
    "from sklearn.metrics import accuracy_score, classification_report, ConfusionMatrixDisplay"
   ]
  },
  {
   "cell_type": "code",
   "execution_count": 112,
   "metadata": {},
   "outputs": [],
   "source": [
    "ml = df1.copy()"
   ]
  },
  {
   "cell_type": "code",
   "execution_count": 113,
   "metadata": {},
   "outputs": [
    {
     "data": {
      "text/html": [
       "<div>\n",
       "<style scoped>\n",
       "    .dataframe tbody tr th:only-of-type {\n",
       "        vertical-align: middle;\n",
       "    }\n",
       "\n",
       "    .dataframe tbody tr th {\n",
       "        vertical-align: top;\n",
       "    }\n",
       "\n",
       "    .dataframe thead th {\n",
       "        text-align: right;\n",
       "    }\n",
       "</style>\n",
       "<table border=\"1\" class=\"dataframe\">\n",
       "  <thead>\n",
       "    <tr style=\"text-align: right;\">\n",
       "      <th></th>\n",
       "      <th>Match_No</th>\n",
       "      <th>Date</th>\n",
       "      <th>Versus</th>\n",
       "      <th>Ground</th>\n",
       "      <th>Country</th>\n",
       "      <th>Continent_Category</th>\n",
       "      <th>D/N</th>\n",
       "      <th>Dismissal_Type</th>\n",
       "      <th>Runs</th>\n",
       "      <th>Balls_Faced</th>\n",
       "      <th>Strike_Rate</th>\n",
       "      <th>Progressive_Aggr</th>\n",
       "      <th>Progressive_Avg</th>\n",
       "      <th>Progressive_Strike_Rate</th>\n",
       "      <th>Status</th>\n",
       "      <th>Dismissal_Type_info</th>\n",
       "      <th>Century</th>\n",
       "      <th>Half_Century</th>\n",
       "      <th>Dismissed_By</th>\n",
       "    </tr>\n",
       "  </thead>\n",
       "  <tbody>\n",
       "    <tr>\n",
       "      <th>0</th>\n",
       "      <td>1</td>\n",
       "      <td>18-08-2008</td>\n",
       "      <td>Sri Lanka</td>\n",
       "      <td>Rangiri Dambulla International Stadium</td>\n",
       "      <td>Sri Lanka</td>\n",
       "      <td>Asia</td>\n",
       "      <td>0</td>\n",
       "      <td>lbw b K M D N Kulasekara</td>\n",
       "      <td>12</td>\n",
       "      <td>22</td>\n",
       "      <td>54.55</td>\n",
       "      <td>12</td>\n",
       "      <td>12.00</td>\n",
       "      <td>54.55</td>\n",
       "      <td>Out</td>\n",
       "      <td>lbw</td>\n",
       "      <td>0</td>\n",
       "      <td>0</td>\n",
       "      <td>Kulasekara</td>\n",
       "    </tr>\n",
       "    <tr>\n",
       "      <th>1</th>\n",
       "      <td>2</td>\n",
       "      <td>20-08-2008</td>\n",
       "      <td>Sri Lanka</td>\n",
       "      <td>Rangiri Dambulla International Stadium</td>\n",
       "      <td>Sri Lanka</td>\n",
       "      <td>Asia</td>\n",
       "      <td>0</td>\n",
       "      <td>c C K Kapugedera b T Thushara</td>\n",
       "      <td>37</td>\n",
       "      <td>67</td>\n",
       "      <td>55.22</td>\n",
       "      <td>49</td>\n",
       "      <td>24.50</td>\n",
       "      <td>55.06</td>\n",
       "      <td>Out</td>\n",
       "      <td>c</td>\n",
       "      <td>0</td>\n",
       "      <td>0</td>\n",
       "      <td>Thushara</td>\n",
       "    </tr>\n",
       "    <tr>\n",
       "      <th>2</th>\n",
       "      <td>3</td>\n",
       "      <td>24-08-2008</td>\n",
       "      <td>Sri Lanka</td>\n",
       "      <td>R Premadasa Stadium</td>\n",
       "      <td>Sri Lanka</td>\n",
       "      <td>Asia</td>\n",
       "      <td>1</td>\n",
       "      <td>run out</td>\n",
       "      <td>25</td>\n",
       "      <td>38</td>\n",
       "      <td>65.79</td>\n",
       "      <td>74</td>\n",
       "      <td>24.67</td>\n",
       "      <td>58.27</td>\n",
       "      <td>Out</td>\n",
       "      <td>run out</td>\n",
       "      <td>0</td>\n",
       "      <td>0</td>\n",
       "      <td>run out</td>\n",
       "    </tr>\n",
       "    <tr>\n",
       "      <th>3</th>\n",
       "      <td>4</td>\n",
       "      <td>27-08-2008</td>\n",
       "      <td>Sri Lanka</td>\n",
       "      <td>R Premadasa Stadium</td>\n",
       "      <td>Sri Lanka</td>\n",
       "      <td>Asia</td>\n",
       "      <td>1</td>\n",
       "      <td>b T Thushara</td>\n",
       "      <td>54</td>\n",
       "      <td>66</td>\n",
       "      <td>81.82</td>\n",
       "      <td>128</td>\n",
       "      <td>32.00</td>\n",
       "      <td>66.32</td>\n",
       "      <td>Out</td>\n",
       "      <td>b</td>\n",
       "      <td>0</td>\n",
       "      <td>1</td>\n",
       "      <td>Thushara</td>\n",
       "    </tr>\n",
       "    <tr>\n",
       "      <th>4</th>\n",
       "      <td>5</td>\n",
       "      <td>29-08-2008</td>\n",
       "      <td>Sri Lanka</td>\n",
       "      <td>R Premadasa Stadium</td>\n",
       "      <td>Sri Lanka</td>\n",
       "      <td>Asia</td>\n",
       "      <td>1</td>\n",
       "      <td>lbw b K M D N Kulasekara</td>\n",
       "      <td>31</td>\n",
       "      <td>46</td>\n",
       "      <td>67.39</td>\n",
       "      <td>159</td>\n",
       "      <td>31.80</td>\n",
       "      <td>66.53</td>\n",
       "      <td>Out</td>\n",
       "      <td>lbw</td>\n",
       "      <td>0</td>\n",
       "      <td>0</td>\n",
       "      <td>Kulasekara</td>\n",
       "    </tr>\n",
       "  </tbody>\n",
       "</table>\n",
       "</div>"
      ],
      "text/plain": [
       "   Match_No        Date     Versus                                  Ground  \\\n",
       "0         1  18-08-2008  Sri Lanka  Rangiri Dambulla International Stadium   \n",
       "1         2  20-08-2008  Sri Lanka  Rangiri Dambulla International Stadium   \n",
       "2         3  24-08-2008  Sri Lanka                     R Premadasa Stadium   \n",
       "3         4  27-08-2008  Sri Lanka                     R Premadasa Stadium   \n",
       "4         5  29-08-2008  Sri Lanka                     R Premadasa Stadium   \n",
       "\n",
       "     Country Continent_Category  D/N                 Dismissal_Type  Runs  \\\n",
       "0  Sri Lanka               Asia    0       lbw b K M D N Kulasekara    12   \n",
       "1  Sri Lanka               Asia    0  c C K Kapugedera b T Thushara    37   \n",
       "2  Sri Lanka               Asia    1                        run out    25   \n",
       "3  Sri Lanka               Asia    1                   b T Thushara    54   \n",
       "4  Sri Lanka               Asia    1       lbw b K M D N Kulasekara    31   \n",
       "\n",
       "   Balls_Faced  Strike_Rate  Progressive_Aggr  Progressive_Avg  \\\n",
       "0           22        54.55                12            12.00   \n",
       "1           67        55.22                49            24.50   \n",
       "2           38        65.79                74            24.67   \n",
       "3           66        81.82               128            32.00   \n",
       "4           46        67.39               159            31.80   \n",
       "\n",
       "   Progressive_Strike_Rate Status Dismissal_Type_info  Century  Half_Century  \\\n",
       "0                    54.55    Out                 lbw        0             0   \n",
       "1                    55.06    Out                   c        0             0   \n",
       "2                    58.27    Out             run out        0             0   \n",
       "3                    66.32    Out                   b        0             1   \n",
       "4                    66.53    Out                 lbw        0             0   \n",
       "\n",
       "  Dismissed_By  \n",
       "0   Kulasekara  \n",
       "1     Thushara  \n",
       "2      run out  \n",
       "3     Thushara  \n",
       "4   Kulasekara  "
      ]
     },
     "execution_count": 113,
     "metadata": {},
     "output_type": "execute_result"
    }
   ],
   "source": [
    "ml.head()"
   ]
  },
  {
   "cell_type": "code",
   "execution_count": 85,
   "metadata": {},
   "outputs": [
    {
     "data": {
      "text/plain": [
       "Index(['Match_No', 'Date', 'Versus', 'Ground', 'Country', 'Continent_Category',\n",
       "       'D/N', 'Dismissal_Type', 'Runs', 'Balls_Faced', 'Strike_Rate',\n",
       "       'Progressive_Aggr', 'Progressive_Avg', 'Progressive_Strike_Rate',\n",
       "       'Status', 'Dismissal_Type_info', 'Century', 'Half_Century',\n",
       "       'Dismissed_By'],\n",
       "      dtype='object')"
      ]
     },
     "execution_count": 85,
     "metadata": {},
     "output_type": "execute_result"
    }
   ],
   "source": [
    "ml.columns"
   ]
  },
  {
   "cell_type": "code",
   "execution_count": 86,
   "metadata": {},
   "outputs": [],
   "source": [
    "ml = ml[['Match_No','Versus','Ground','Country','Continent_Category','D/N','Half_Century']]"
   ]
  },
  {
   "cell_type": "code",
   "execution_count": 87,
   "metadata": {},
   "outputs": [
    {
     "data": {
      "text/html": [
       "<div>\n",
       "<style scoped>\n",
       "    .dataframe tbody tr th:only-of-type {\n",
       "        vertical-align: middle;\n",
       "    }\n",
       "\n",
       "    .dataframe tbody tr th {\n",
       "        vertical-align: top;\n",
       "    }\n",
       "\n",
       "    .dataframe thead th {\n",
       "        text-align: right;\n",
       "    }\n",
       "</style>\n",
       "<table border=\"1\" class=\"dataframe\">\n",
       "  <thead>\n",
       "    <tr style=\"text-align: right;\">\n",
       "      <th></th>\n",
       "      <th>Match_No</th>\n",
       "      <th>Versus</th>\n",
       "      <th>Ground</th>\n",
       "      <th>Country</th>\n",
       "      <th>Continent_Category</th>\n",
       "      <th>D/N</th>\n",
       "      <th>Half_Century</th>\n",
       "    </tr>\n",
       "  </thead>\n",
       "  <tbody>\n",
       "    <tr>\n",
       "      <th>0</th>\n",
       "      <td>1</td>\n",
       "      <td>Sri Lanka</td>\n",
       "      <td>Rangiri Dambulla International Stadium</td>\n",
       "      <td>Sri Lanka</td>\n",
       "      <td>Asia</td>\n",
       "      <td>0</td>\n",
       "      <td>0</td>\n",
       "    </tr>\n",
       "    <tr>\n",
       "      <th>1</th>\n",
       "      <td>2</td>\n",
       "      <td>Sri Lanka</td>\n",
       "      <td>Rangiri Dambulla International Stadium</td>\n",
       "      <td>Sri Lanka</td>\n",
       "      <td>Asia</td>\n",
       "      <td>0</td>\n",
       "      <td>0</td>\n",
       "    </tr>\n",
       "    <tr>\n",
       "      <th>2</th>\n",
       "      <td>3</td>\n",
       "      <td>Sri Lanka</td>\n",
       "      <td>R Premadasa Stadium</td>\n",
       "      <td>Sri Lanka</td>\n",
       "      <td>Asia</td>\n",
       "      <td>1</td>\n",
       "      <td>0</td>\n",
       "    </tr>\n",
       "    <tr>\n",
       "      <th>3</th>\n",
       "      <td>4</td>\n",
       "      <td>Sri Lanka</td>\n",
       "      <td>R Premadasa Stadium</td>\n",
       "      <td>Sri Lanka</td>\n",
       "      <td>Asia</td>\n",
       "      <td>1</td>\n",
       "      <td>1</td>\n",
       "    </tr>\n",
       "    <tr>\n",
       "      <th>4</th>\n",
       "      <td>5</td>\n",
       "      <td>Sri Lanka</td>\n",
       "      <td>R Premadasa Stadium</td>\n",
       "      <td>Sri Lanka</td>\n",
       "      <td>Asia</td>\n",
       "      <td>1</td>\n",
       "      <td>0</td>\n",
       "    </tr>\n",
       "  </tbody>\n",
       "</table>\n",
       "</div>"
      ],
      "text/plain": [
       "   Match_No     Versus                                  Ground    Country  \\\n",
       "0         1  Sri Lanka  Rangiri Dambulla International Stadium  Sri Lanka   \n",
       "1         2  Sri Lanka  Rangiri Dambulla International Stadium  Sri Lanka   \n",
       "2         3  Sri Lanka                     R Premadasa Stadium  Sri Lanka   \n",
       "3         4  Sri Lanka                     R Premadasa Stadium  Sri Lanka   \n",
       "4         5  Sri Lanka                     R Premadasa Stadium  Sri Lanka   \n",
       "\n",
       "  Continent_Category  D/N  Half_Century  \n",
       "0               Asia    0             0  \n",
       "1               Asia    0             0  \n",
       "2               Asia    1             0  \n",
       "3               Asia    1             1  \n",
       "4               Asia    1             0  "
      ]
     },
     "execution_count": 87,
     "metadata": {},
     "output_type": "execute_result"
    }
   ],
   "source": [
    "ml.head()"
   ]
  },
  {
   "cell_type": "code",
   "execution_count": 88,
   "metadata": {},
   "outputs": [],
   "source": [
    "le = LabelEncoder()"
   ]
  },
  {
   "cell_type": "markdown",
   "metadata": {},
   "source": [
    "### Preprocessing data for ML"
   ]
  },
  {
   "cell_type": "code",
   "execution_count": 89,
   "metadata": {},
   "outputs": [],
   "source": [
    "# ml['Versus_Enc'] = le.fit_transform(ml.Versus)\n",
    "ml['Ground_Enc'] = le.fit_transform(ml.Ground)\n",
    "# ml['Country_Enc'] = le.fit_transform(ml.Country)\n",
    "# ml['Continent_Category_Enc'] = le.fit_transform(ml.Continent_Category)"
   ]
  },
  {
   "cell_type": "code",
   "execution_count": 90,
   "metadata": {},
   "outputs": [],
   "source": [
    "ce = []\n",
    "for i in ml.Country:\n",
    "    if i == 'India':\n",
    "        ce.append(1)\n",
    "    elif i == 'England':\n",
    "        ce.append(2)\n",
    "    elif i == 'Australia':\n",
    "        ce.append(3)\n",
    "    elif i == 'Sri Lanka':\n",
    "        ce.append(4)\n",
    "    elif i == 'South Africa':\n",
    "        ce.append(5)\n",
    "    elif i == 'West Indies':\n",
    "        ce.append(6)\n",
    "    elif i == 'Bangladesh':\n",
    "        ce.append(7)\n",
    "    elif i == 'New Zealand':\n",
    "        ce.append(8)\n",
    "    elif i == 'Zimbabwe':\n",
    "        ce.append(9)\n",
    "ml['Country_Enc'] = ce"
   ]
  },
  {
   "cell_type": "code",
   "execution_count": 91,
   "metadata": {},
   "outputs": [],
   "source": [
    "ve = []\n",
    "for i in ml.Versus:\n",
    "    if i == 'England':\n",
    "        ve.append(1)\n",
    "    elif i == 'Australia':\n",
    "        ve.append(2)\n",
    "    elif i == 'Sri Lanka':\n",
    "        ve.append(3)\n",
    "    elif i == 'South Africa':\n",
    "        ve.append(4)\n",
    "    elif i == 'West Indies':\n",
    "        ve.append(5)\n",
    "    elif i == 'Bangladesh':\n",
    "        ve.append(6)\n",
    "    elif i == 'New Zealand':\n",
    "        ve.append(7)\n",
    "    elif i == 'Zimbabwe':\n",
    "        ve.append(8)\n",
    "    elif i == 'Pakistan':\n",
    "        ve.append(9)\n",
    "    elif i == 'Ireland':\n",
    "        ve.append(10)\n",
    "    elif i == 'Netherlands':\n",
    "        ve.append(11)\n",
    "    elif i == 'United Arab Emirates':\n",
    "        ve.append(12)\n",
    "    elif i == 'Afghanistan':\n",
    "        ve.append(13)\n",
    "ml['Versus_Enc'] = ve"
   ]
  },
  {
   "cell_type": "code",
   "execution_count": 92,
   "metadata": {},
   "outputs": [],
   "source": [
    "cce = []\n",
    "for i in ml.Continent_Category:\n",
    "    if i == 'Asia':\n",
    "        cce.append(1)\n",
    "    elif i == 'SENA':\n",
    "        cce.append(2)\n",
    "    elif i == 'Other':\n",
    "        cce.append(3)\n",
    "ml['Continent_Category_Enc'] = cce"
   ]
  },
  {
   "cell_type": "code",
   "execution_count": 93,
   "metadata": {},
   "outputs": [
    {
     "data": {
      "text/html": [
       "<div>\n",
       "<style scoped>\n",
       "    .dataframe tbody tr th:only-of-type {\n",
       "        vertical-align: middle;\n",
       "    }\n",
       "\n",
       "    .dataframe tbody tr th {\n",
       "        vertical-align: top;\n",
       "    }\n",
       "\n",
       "    .dataframe thead th {\n",
       "        text-align: right;\n",
       "    }\n",
       "</style>\n",
       "<table border=\"1\" class=\"dataframe\">\n",
       "  <thead>\n",
       "    <tr style=\"text-align: right;\">\n",
       "      <th></th>\n",
       "      <th>Match_No</th>\n",
       "      <th>Versus</th>\n",
       "      <th>Ground</th>\n",
       "      <th>Country</th>\n",
       "      <th>Continent_Category</th>\n",
       "      <th>D/N</th>\n",
       "      <th>Half_Century</th>\n",
       "      <th>Ground_Enc</th>\n",
       "      <th>Country_Enc</th>\n",
       "      <th>Versus_Enc</th>\n",
       "      <th>Continent_Category_Enc</th>\n",
       "    </tr>\n",
       "  </thead>\n",
       "  <tbody>\n",
       "    <tr>\n",
       "      <th>0</th>\n",
       "      <td>1</td>\n",
       "      <td>Sri Lanka</td>\n",
       "      <td>Rangiri Dambulla International Stadium</td>\n",
       "      <td>Sri Lanka</td>\n",
       "      <td>Asia</td>\n",
       "      <td>0</td>\n",
       "      <td>0</td>\n",
       "      <td>43</td>\n",
       "      <td>4</td>\n",
       "      <td>3</td>\n",
       "      <td>1</td>\n",
       "    </tr>\n",
       "    <tr>\n",
       "      <th>1</th>\n",
       "      <td>2</td>\n",
       "      <td>Sri Lanka</td>\n",
       "      <td>Rangiri Dambulla International Stadium</td>\n",
       "      <td>Sri Lanka</td>\n",
       "      <td>Asia</td>\n",
       "      <td>0</td>\n",
       "      <td>0</td>\n",
       "      <td>43</td>\n",
       "      <td>4</td>\n",
       "      <td>3</td>\n",
       "      <td>1</td>\n",
       "    </tr>\n",
       "    <tr>\n",
       "      <th>2</th>\n",
       "      <td>3</td>\n",
       "      <td>Sri Lanka</td>\n",
       "      <td>R Premadasa Stadium</td>\n",
       "      <td>Sri Lanka</td>\n",
       "      <td>Asia</td>\n",
       "      <td>1</td>\n",
       "      <td>0</td>\n",
       "      <td>41</td>\n",
       "      <td>4</td>\n",
       "      <td>3</td>\n",
       "      <td>1</td>\n",
       "    </tr>\n",
       "    <tr>\n",
       "      <th>3</th>\n",
       "      <td>4</td>\n",
       "      <td>Sri Lanka</td>\n",
       "      <td>R Premadasa Stadium</td>\n",
       "      <td>Sri Lanka</td>\n",
       "      <td>Asia</td>\n",
       "      <td>1</td>\n",
       "      <td>1</td>\n",
       "      <td>41</td>\n",
       "      <td>4</td>\n",
       "      <td>3</td>\n",
       "      <td>1</td>\n",
       "    </tr>\n",
       "    <tr>\n",
       "      <th>4</th>\n",
       "      <td>5</td>\n",
       "      <td>Sri Lanka</td>\n",
       "      <td>R Premadasa Stadium</td>\n",
       "      <td>Sri Lanka</td>\n",
       "      <td>Asia</td>\n",
       "      <td>1</td>\n",
       "      <td>0</td>\n",
       "      <td>41</td>\n",
       "      <td>4</td>\n",
       "      <td>3</td>\n",
       "      <td>1</td>\n",
       "    </tr>\n",
       "  </tbody>\n",
       "</table>\n",
       "</div>"
      ],
      "text/plain": [
       "   Match_No     Versus                                  Ground    Country  \\\n",
       "0         1  Sri Lanka  Rangiri Dambulla International Stadium  Sri Lanka   \n",
       "1         2  Sri Lanka  Rangiri Dambulla International Stadium  Sri Lanka   \n",
       "2         3  Sri Lanka                     R Premadasa Stadium  Sri Lanka   \n",
       "3         4  Sri Lanka                     R Premadasa Stadium  Sri Lanka   \n",
       "4         5  Sri Lanka                     R Premadasa Stadium  Sri Lanka   \n",
       "\n",
       "  Continent_Category  D/N  Half_Century  Ground_Enc  Country_Enc  Versus_Enc  \\\n",
       "0               Asia    0             0          43            4           3   \n",
       "1               Asia    0             0          43            4           3   \n",
       "2               Asia    1             0          41            4           3   \n",
       "3               Asia    1             1          41            4           3   \n",
       "4               Asia    1             0          41            4           3   \n",
       "\n",
       "   Continent_Category_Enc  \n",
       "0                       1  \n",
       "1                       1  \n",
       "2                       1  \n",
       "3                       1  \n",
       "4                       1  "
      ]
     },
     "execution_count": 93,
     "metadata": {},
     "output_type": "execute_result"
    }
   ],
   "source": [
    "ml.head()"
   ]
  },
  {
   "cell_type": "code",
   "execution_count": 94,
   "metadata": {},
   "outputs": [],
   "source": [
    "ml.drop(['Versus','Ground','Country','Continent_Category'],axis=1,inplace=True)"
   ]
  },
  {
   "cell_type": "code",
   "execution_count": 95,
   "metadata": {},
   "outputs": [],
   "source": [
    "ml= ml[['Match_No','D/N','Versus_Enc','Ground_Enc','Country_Enc','Continent_Category_Enc','Half_Century']]"
   ]
  },
  {
   "cell_type": "code",
   "execution_count": 96,
   "metadata": {},
   "outputs": [
    {
     "data": {
      "text/html": [
       "<div>\n",
       "<style scoped>\n",
       "    .dataframe tbody tr th:only-of-type {\n",
       "        vertical-align: middle;\n",
       "    }\n",
       "\n",
       "    .dataframe tbody tr th {\n",
       "        vertical-align: top;\n",
       "    }\n",
       "\n",
       "    .dataframe thead th {\n",
       "        text-align: right;\n",
       "    }\n",
       "</style>\n",
       "<table border=\"1\" class=\"dataframe\">\n",
       "  <thead>\n",
       "    <tr style=\"text-align: right;\">\n",
       "      <th></th>\n",
       "      <th>Match_No</th>\n",
       "      <th>D/N</th>\n",
       "      <th>Versus_Enc</th>\n",
       "      <th>Ground_Enc</th>\n",
       "      <th>Country_Enc</th>\n",
       "      <th>Continent_Category_Enc</th>\n",
       "      <th>Half_Century</th>\n",
       "    </tr>\n",
       "  </thead>\n",
       "  <tbody>\n",
       "    <tr>\n",
       "      <th>0</th>\n",
       "      <td>1</td>\n",
       "      <td>0</td>\n",
       "      <td>3</td>\n",
       "      <td>43</td>\n",
       "      <td>4</td>\n",
       "      <td>1</td>\n",
       "      <td>0</td>\n",
       "    </tr>\n",
       "    <tr>\n",
       "      <th>1</th>\n",
       "      <td>2</td>\n",
       "      <td>0</td>\n",
       "      <td>3</td>\n",
       "      <td>43</td>\n",
       "      <td>4</td>\n",
       "      <td>1</td>\n",
       "      <td>0</td>\n",
       "    </tr>\n",
       "    <tr>\n",
       "      <th>2</th>\n",
       "      <td>3</td>\n",
       "      <td>1</td>\n",
       "      <td>3</td>\n",
       "      <td>41</td>\n",
       "      <td>4</td>\n",
       "      <td>1</td>\n",
       "      <td>0</td>\n",
       "    </tr>\n",
       "    <tr>\n",
       "      <th>3</th>\n",
       "      <td>4</td>\n",
       "      <td>1</td>\n",
       "      <td>3</td>\n",
       "      <td>41</td>\n",
       "      <td>4</td>\n",
       "      <td>1</td>\n",
       "      <td>1</td>\n",
       "    </tr>\n",
       "    <tr>\n",
       "      <th>4</th>\n",
       "      <td>5</td>\n",
       "      <td>1</td>\n",
       "      <td>3</td>\n",
       "      <td>41</td>\n",
       "      <td>4</td>\n",
       "      <td>1</td>\n",
       "      <td>0</td>\n",
       "    </tr>\n",
       "  </tbody>\n",
       "</table>\n",
       "</div>"
      ],
      "text/plain": [
       "   Match_No  D/N  Versus_Enc  Ground_Enc  Country_Enc  Continent_Category_Enc  \\\n",
       "0         1    0           3          43            4                       1   \n",
       "1         2    0           3          43            4                       1   \n",
       "2         3    1           3          41            4                       1   \n",
       "3         4    1           3          41            4                       1   \n",
       "4         5    1           3          41            4                       1   \n",
       "\n",
       "   Half_Century  \n",
       "0             0  \n",
       "1             0  \n",
       "2             0  \n",
       "3             1  \n",
       "4             0  "
      ]
     },
     "execution_count": 96,
     "metadata": {},
     "output_type": "execute_result"
    }
   ],
   "source": [
    "ml.head()"
   ]
  },
  {
   "cell_type": "code",
   "execution_count": 97,
   "metadata": {},
   "outputs": [],
   "source": [
    "train_test = ml.loc[(ml.Match_No == 100) | (ml.Match_No == 150) | (ml.Match_No == 200) | (ml.Match_No == 50)]"
   ]
  },
  {
   "cell_type": "code",
   "execution_count": 98,
   "metadata": {},
   "outputs": [],
   "source": [
    "test = ml.loc[ml.Match_No >= 253]"
   ]
  },
  {
   "cell_type": "code",
   "execution_count": 99,
   "metadata": {},
   "outputs": [],
   "source": [
    "ml = ml.loc[ml.Match_No < 253]"
   ]
  },
  {
   "cell_type": "code",
   "execution_count": 102,
   "metadata": {},
   "outputs": [],
   "source": [
    "x = ml.drop('Half_Century',axis=1)\n",
    "y = ml.Half_Century"
   ]
  },
  {
   "cell_type": "code",
   "execution_count": 103,
   "metadata": {},
   "outputs": [],
   "source": [
    "xtrain, xtest,ytrain,ytest = train_test_split(x,y,test_size= 0.05, random_state=43)"
   ]
  },
  {
   "cell_type": "code",
   "execution_count": 114,
   "metadata": {},
   "outputs": [],
   "source": [
    "lr = LogisticRegression()\n",
    "kn = KNeighborsClassifier()\n",
    "dt = DecisionTreeClassifier()\n",
    "rf = RandomForestClassifier()\n",
    "gb = GradientBoostingClassifier()\n",
    "xgb = XGBClassifier()\n",
    "cat = CatBoostClassifier(verbose=False)\n",
    "lgb = LGBMClassifier()"
   ]
  },
  {
   "cell_type": "code",
   "execution_count": 117,
   "metadata": {},
   "outputs": [
    {
     "name": "stdout",
     "output_type": "stream",
     "text": [
      "train accuracy :  0.7467248908296943\n",
      "test accuracy :  0.7692307692307693\n"
     ]
    }
   ],
   "source": [
    "## train scores \n",
    "lr.fit(xtrain,ytrain)\n",
    "lr_train_pred = lr.predict(xtrain)\n",
    "lr_train_acc = accuracy_score(ytrain,lr_train_pred)\n",
    "print('train accuracy : ',lr_train_acc)\n",
    "\n",
    "## test_Scores\n",
    "lr.fit(xtrain,ytrain)\n",
    "lr_test_pred = lr.predict(xtest)\n",
    "lr_test_acc = accuracy_score(ytest,lr_test_pred)\n",
    "print('test accuracy : ',lr_test_acc)\n"
   ]
  },
  {
   "cell_type": "code",
   "execution_count": 118,
   "metadata": {},
   "outputs": [
    {
     "name": "stdout",
     "output_type": "stream",
     "text": [
      "train accuracy :  0.7903930131004366\n",
      "test accuracy :  0.6153846153846154\n"
     ]
    }
   ],
   "source": [
    "## train scores \n",
    "kn.fit(xtrain,ytrain)\n",
    "kn_train_pred = kn.predict(xtrain)\n",
    "kn_train_acc = accuracy_score(ytrain,kn_train_pred)\n",
    "print('train accuracy : ',kn_train_acc)\n",
    "\n",
    "## test_Scores\n",
    "kn.fit(xtrain,ytrain)\n",
    "kn_test_pred = kn.predict(xtest)\n",
    "kn_test_acc = accuracy_score(ytest,kn_test_pred)\n",
    "print('test accuracy : ',kn_test_acc)\n"
   ]
  },
  {
   "cell_type": "code",
   "execution_count": 119,
   "metadata": {},
   "outputs": [
    {
     "name": "stdout",
     "output_type": "stream",
     "text": [
      "train accuracy :  1.0\n",
      "test accuracy :  0.7692307692307693\n"
     ]
    }
   ],
   "source": [
    "## train scores \n",
    "dt.fit(xtrain,ytrain)\n",
    "dt_train_pred = dt.predict(xtrain)\n",
    "dt_train_acc = accuracy_score(ytrain,dt_train_pred)\n",
    "print('train accuracy : ',dt_train_acc)\n",
    "\n",
    "## test_Scores\n",
    "dt.fit(xtrain,ytrain)\n",
    "dt_test_pred = dt.predict(xtest)\n",
    "dt_test_acc = accuracy_score(ytest,dt_test_pred)\n",
    "print('test accuracy : ',dt_test_acc)\n"
   ]
  },
  {
   "cell_type": "code",
   "execution_count": 120,
   "metadata": {},
   "outputs": [
    {
     "name": "stdout",
     "output_type": "stream",
     "text": [
      "train accuracy :  1.0\n",
      "test accuracy :  0.6153846153846154\n"
     ]
    }
   ],
   "source": [
    "## train scores \n",
    "rf.fit(xtrain,ytrain)\n",
    "rf_train_pred = rf.predict(xtrain)\n",
    "rf_train_acc = accuracy_score(ytrain,rf_train_pred)\n",
    "print('train accuracy : ',rf_train_acc)\n",
    "\n",
    "## test_Scores\n",
    "rf.fit(xtrain,ytrain)\n",
    "rf_test_pred = rf.predict(xtest)\n",
    "rf_test_acc = accuracy_score(ytest,rf_test_pred)\n",
    "print('test accuracy : ',rf_test_acc)\n"
   ]
  },
  {
   "cell_type": "code",
   "execution_count": 121,
   "metadata": {},
   "outputs": [
    {
     "name": "stdout",
     "output_type": "stream",
     "text": [
      "train accuracy :  0.9082969432314411\n",
      "test accuracy :  0.9230769230769231\n"
     ]
    }
   ],
   "source": [
    "## train scores \n",
    "gb.fit(xtrain,ytrain)\n",
    "gb_train_pred = gb.predict(xtrain)\n",
    "gb_train_acc = accuracy_score(ytrain,gb_train_pred)\n",
    "print('train accuracy : ',gb_train_acc)\n",
    "\n",
    "## test_Scores\n",
    "gb.fit(xtrain,ytrain)\n",
    "gb_test_pred = gb.predict(xtest)\n",
    "gb_test_acc = accuracy_score(ytest,gb_test_pred)\n",
    "print('test accuracy : ',gb_test_acc)\n"
   ]
  },
  {
   "cell_type": "code",
   "execution_count": 122,
   "metadata": {},
   "outputs": [
    {
     "name": "stdout",
     "output_type": "stream",
     "text": [
      "[22:18:11] WARNING: C:/Users/Administrator/workspace/xgboost-win64_release_1.5.0/src/learner.cc:1115: Starting in XGBoost 1.3.0, the default evaluation metric used with the objective 'binary:logistic' was changed from 'error' to 'logloss'. Explicitly set eval_metric if you'd like to restore the old behavior.\n",
      "train accuracy :  0.9912663755458515\n",
      "[22:18:11] WARNING: C:/Users/Administrator/workspace/xgboost-win64_release_1.5.0/src/learner.cc:1115: Starting in XGBoost 1.3.0, the default evaluation metric used with the objective 'binary:logistic' was changed from 'error' to 'logloss'. Explicitly set eval_metric if you'd like to restore the old behavior.\n",
      "test accuracy :  0.7692307692307693\n"
     ]
    }
   ],
   "source": [
    "## train scores \n",
    "xgb.fit(xtrain,ytrain)\n",
    "xgb_train_pred = xgb.predict(xtrain)\n",
    "xgb_train_acc = accuracy_score(ytrain,xgb_train_pred)\n",
    "print('train accuracy : ',xgb_train_acc)\n",
    "\n",
    "## test_Scores\n",
    "xgb.fit(xtrain,ytrain)\n",
    "xgb_test_pred = xgb.predict(xtest)\n",
    "xgb_test_acc = accuracy_score(ytest,xgb_test_pred)\n",
    "print('test accuracy : ',xgb_test_acc)\n"
   ]
  },
  {
   "cell_type": "code",
   "execution_count": 123,
   "metadata": {},
   "outputs": [
    {
     "name": "stdout",
     "output_type": "stream",
     "text": [
      "train accuracy :  0.8602620087336245\n",
      "test accuracy :  0.7692307692307693\n"
     ]
    }
   ],
   "source": [
    "## train scores \n",
    "cat.fit(xtrain,ytrain)\n",
    "cat_train_pred = cat.predict(xtrain)\n",
    "cat_train_acc = accuracy_score(ytrain,cat_train_pred)\n",
    "print('train accuracy : ',cat_train_acc)\n",
    "\n",
    "## test_Scores\n",
    "cat.fit(xtrain,ytrain)\n",
    "cat_test_pred = cat.predict(xtest)\n",
    "cat_test_acc = accuracy_score(ytest,cat_test_pred)\n",
    "print('test accuracy : ',cat_test_acc)\n"
   ]
  },
  {
   "cell_type": "code",
   "execution_count": 124,
   "metadata": {},
   "outputs": [
    {
     "name": "stdout",
     "output_type": "stream",
     "text": [
      "train accuracy :  0.8951965065502183\n",
      "test accuracy :  0.6923076923076923\n"
     ]
    }
   ],
   "source": [
    "## train scores \n",
    "lgb.fit(xtrain,ytrain)\n",
    "lgb_train_pred = lgb.predict(xtrain)\n",
    "lgb_train_acc = accuracy_score(ytrain,lgb_train_pred)\n",
    "print('train accuracy : ',lgb_train_acc)\n",
    "\n",
    "## test_Scores\n",
    "lgb.fit(xtrain,ytrain)\n",
    "lgb_test_pred = lgb.predict(xtest)\n",
    "lgb_test_acc = accuracy_score(ytest,lgb_test_pred)\n",
    "print('test accuracy : ',lgb_test_acc)\n"
   ]
  },
  {
   "cell_type": "code",
   "execution_count": null,
   "metadata": {},
   "outputs": [],
   "source": []
  },
  {
   "cell_type": "markdown",
   "metadata": {},
   "source": [
    "### Model Evaluations "
   ]
  },
  {
   "cell_type": "code",
   "execution_count": null,
   "metadata": {},
   "outputs": [],
   "source": []
  },
  {
   "cell_type": "code",
   "execution_count": null,
   "metadata": {},
   "outputs": [],
   "source": []
  },
  {
   "cell_type": "markdown",
   "metadata": {},
   "source": [
    "### Testing model with train data"
   ]
  },
  {
   "cell_type": "code",
   "execution_count": 125,
   "metadata": {},
   "outputs": [
    {
     "data": {
      "text/html": [
       "<div>\n",
       "<style scoped>\n",
       "    .dataframe tbody tr th:only-of-type {\n",
       "        vertical-align: middle;\n",
       "    }\n",
       "\n",
       "    .dataframe tbody tr th {\n",
       "        vertical-align: top;\n",
       "    }\n",
       "\n",
       "    .dataframe thead th {\n",
       "        text-align: right;\n",
       "    }\n",
       "</style>\n",
       "<table border=\"1\" class=\"dataframe\">\n",
       "  <thead>\n",
       "    <tr style=\"text-align: right;\">\n",
       "      <th></th>\n",
       "      <th>Match_No</th>\n",
       "      <th>D/N</th>\n",
       "      <th>Versus_Enc</th>\n",
       "      <th>Ground_Enc</th>\n",
       "      <th>Country_Enc</th>\n",
       "      <th>Continent_Category_Enc</th>\n",
       "      <th>Half_Century</th>\n",
       "    </tr>\n",
       "  </thead>\n",
       "  <tbody>\n",
       "    <tr>\n",
       "      <th>49</th>\n",
       "      <td>50</td>\n",
       "      <td>1</td>\n",
       "      <td>4</td>\n",
       "      <td>58</td>\n",
       "      <td>1</td>\n",
       "      <td>1</td>\n",
       "      <td>0</td>\n",
       "    </tr>\n",
       "    <tr>\n",
       "      <th>99</th>\n",
       "      <td>100</td>\n",
       "      <td>0</td>\n",
       "      <td>5</td>\n",
       "      <td>20</td>\n",
       "      <td>2</td>\n",
       "      <td>2</td>\n",
       "      <td>0</td>\n",
       "    </tr>\n",
       "    <tr>\n",
       "      <th>149</th>\n",
       "      <td>150</td>\n",
       "      <td>0</td>\n",
       "      <td>1</td>\n",
       "      <td>59</td>\n",
       "      <td>3</td>\n",
       "      <td>2</td>\n",
       "      <td>0</td>\n",
       "    </tr>\n",
       "    <tr>\n",
       "      <th>199</th>\n",
       "      <td>200</td>\n",
       "      <td>1</td>\n",
       "      <td>7</td>\n",
       "      <td>61</td>\n",
       "      <td>1</td>\n",
       "      <td>1</td>\n",
       "      <td>0</td>\n",
       "    </tr>\n",
       "  </tbody>\n",
       "</table>\n",
       "</div>"
      ],
      "text/plain": [
       "     Match_No  D/N  Versus_Enc  Ground_Enc  Country_Enc  \\\n",
       "49         50    1           4          58            1   \n",
       "99        100    0           5          20            2   \n",
       "149       150    0           1          59            3   \n",
       "199       200    1           7          61            1   \n",
       "\n",
       "     Continent_Category_Enc  Half_Century  \n",
       "49                        1             0  \n",
       "99                        2             0  \n",
       "149                       2             0  \n",
       "199                       1             0  "
      ]
     },
     "execution_count": 125,
     "metadata": {},
     "output_type": "execute_result"
    }
   ],
   "source": [
    "train_test"
   ]
  },
  {
   "cell_type": "code",
   "execution_count": 127,
   "metadata": {},
   "outputs": [],
   "source": [
    "x_test = train_test.copy()\n",
    "x_test.drop('Half_Century',axis=1,inplace=True)"
   ]
  },
  {
   "cell_type": "code",
   "execution_count": 135,
   "metadata": {},
   "outputs": [],
   "source": [
    "gb.fit(x,y)\n",
    "final = gb.predict(x_test)\n",
    "train_test['gb_Pred'] = final"
   ]
  },
  {
   "cell_type": "code",
   "execution_count": 136,
   "metadata": {},
   "outputs": [
    {
     "data": {
      "text/html": [
       "<div>\n",
       "<style scoped>\n",
       "    .dataframe tbody tr th:only-of-type {\n",
       "        vertical-align: middle;\n",
       "    }\n",
       "\n",
       "    .dataframe tbody tr th {\n",
       "        vertical-align: top;\n",
       "    }\n",
       "\n",
       "    .dataframe thead th {\n",
       "        text-align: right;\n",
       "    }\n",
       "</style>\n",
       "<table border=\"1\" class=\"dataframe\">\n",
       "  <thead>\n",
       "    <tr style=\"text-align: right;\">\n",
       "      <th></th>\n",
       "      <th>Match_No</th>\n",
       "      <th>D/N</th>\n",
       "      <th>Versus_Enc</th>\n",
       "      <th>Ground_Enc</th>\n",
       "      <th>Country_Enc</th>\n",
       "      <th>Continent_Category_Enc</th>\n",
       "      <th>Half_Century</th>\n",
       "      <th>xgb_Pred</th>\n",
       "      <th>rf_Pred</th>\n",
       "      <th>gb_Pred</th>\n",
       "    </tr>\n",
       "  </thead>\n",
       "  <tbody>\n",
       "    <tr>\n",
       "      <th>49</th>\n",
       "      <td>50</td>\n",
       "      <td>1</td>\n",
       "      <td>4</td>\n",
       "      <td>58</td>\n",
       "      <td>1</td>\n",
       "      <td>1</td>\n",
       "      <td>0</td>\n",
       "      <td>0</td>\n",
       "      <td>0</td>\n",
       "      <td>0</td>\n",
       "    </tr>\n",
       "    <tr>\n",
       "      <th>99</th>\n",
       "      <td>100</td>\n",
       "      <td>0</td>\n",
       "      <td>5</td>\n",
       "      <td>20</td>\n",
       "      <td>2</td>\n",
       "      <td>2</td>\n",
       "      <td>0</td>\n",
       "      <td>0</td>\n",
       "      <td>0</td>\n",
       "      <td>0</td>\n",
       "    </tr>\n",
       "    <tr>\n",
       "      <th>149</th>\n",
       "      <td>150</td>\n",
       "      <td>0</td>\n",
       "      <td>1</td>\n",
       "      <td>59</td>\n",
       "      <td>3</td>\n",
       "      <td>2</td>\n",
       "      <td>0</td>\n",
       "      <td>0</td>\n",
       "      <td>0</td>\n",
       "      <td>0</td>\n",
       "    </tr>\n",
       "    <tr>\n",
       "      <th>199</th>\n",
       "      <td>200</td>\n",
       "      <td>1</td>\n",
       "      <td>7</td>\n",
       "      <td>61</td>\n",
       "      <td>1</td>\n",
       "      <td>1</td>\n",
       "      <td>0</td>\n",
       "      <td>0</td>\n",
       "      <td>0</td>\n",
       "      <td>0</td>\n",
       "    </tr>\n",
       "  </tbody>\n",
       "</table>\n",
       "</div>"
      ],
      "text/plain": [
       "     Match_No  D/N  Versus_Enc  Ground_Enc  Country_Enc  \\\n",
       "49         50    1           4          58            1   \n",
       "99        100    0           5          20            2   \n",
       "149       150    0           1          59            3   \n",
       "199       200    1           7          61            1   \n",
       "\n",
       "     Continent_Category_Enc  Half_Century  xgb_Pred  rf_Pred  gb_Pred  \n",
       "49                        1             0         0        0        0  \n",
       "99                        2             0         0        0        0  \n",
       "149                       2             0         0        0        0  \n",
       "199                       1             0         0        0        0  "
      ]
     },
     "execution_count": 136,
     "metadata": {},
     "output_type": "execute_result"
    }
   ],
   "source": [
    "train_test "
   ]
  },
  {
   "cell_type": "code",
   "execution_count": 139,
   "metadata": {
    "scrolled": true
   },
   "outputs": [
    {
     "name": "stdout",
     "output_type": "stream",
     "text": [
      "accuracy score :  1.0\n"
     ]
    },
    {
     "data": {
      "image/png": "[encoded data removed]",
      "text/plain": [
       "<Figure size 720x360 with 1 Axes>"
      ]
     },
     "metadata": {
      "needs_background": "light"
     },
     "output_type": "display_data"
    }
   ],
   "source": [
    "plt.figure(figsize=(10,5))\n",
    "plt.plot(train_test.index , train_test.Half_Century,marker='.',label='actuals')\n",
    "plt.plot(train_test.index , train_test.gb_Pred,marker='.',label='predictions',linestyle='--')\n",
    "print('accuracy score : ',accuracy_score(train_test.Half_Century,train_test.gb_Pred))\n",
    "plt.grid()\n",
    "plt.legend()\n",
    "plt.show()"
   ]
  },
  {
   "cell_type": "code",
   "execution_count": null,
   "metadata": {},
   "outputs": [],
   "source": []
  },
  {
   "cell_type": "markdown",
   "metadata": {},
   "source": [
    "### Testing models with Test data"
   ]
  },
  {
   "cell_type": "code",
   "execution_count": 140,
   "metadata": {},
   "outputs": [
    {
     "data": {
      "text/html": [
       "<div>\n",
       "<style scoped>\n",
       "    .dataframe tbody tr th:only-of-type {\n",
       "        vertical-align: middle;\n",
       "    }\n",
       "\n",
       "    .dataframe tbody tr th {\n",
       "        vertical-align: top;\n",
       "    }\n",
       "\n",
       "    .dataframe thead th {\n",
       "        text-align: right;\n",
       "    }\n",
       "</style>\n",
       "<table border=\"1\" class=\"dataframe\">\n",
       "  <thead>\n",
       "    <tr style=\"text-align: right;\">\n",
       "      <th></th>\n",
       "      <th>Match_No</th>\n",
       "      <th>D/N</th>\n",
       "      <th>Versus_Enc</th>\n",
       "      <th>Ground_Enc</th>\n",
       "      <th>Country_Enc</th>\n",
       "      <th>Continent_Category_Enc</th>\n",
       "      <th>Half_Century</th>\n",
       "    </tr>\n",
       "  </thead>\n",
       "  <tbody>\n",
       "    <tr>\n",
       "      <th>252</th>\n",
       "      <td>253</td>\n",
       "      <td>1</td>\n",
       "      <td>1</td>\n",
       "      <td>27</td>\n",
       "      <td>1</td>\n",
       "      <td>1</td>\n",
       "      <td>1</td>\n",
       "    </tr>\n",
       "    <tr>\n",
       "      <th>253</th>\n",
       "      <td>254</td>\n",
       "      <td>1</td>\n",
       "      <td>1</td>\n",
       "      <td>27</td>\n",
       "      <td>1</td>\n",
       "      <td>1</td>\n",
       "      <td>0</td>\n",
       "    </tr>\n",
       "    <tr>\n",
       "      <th>254</th>\n",
       "      <td>255</td>\n",
       "      <td>0</td>\n",
       "      <td>4</td>\n",
       "      <td>6</td>\n",
       "      <td>5</td>\n",
       "      <td>2</td>\n",
       "      <td>1</td>\n",
       "    </tr>\n",
       "    <tr>\n",
       "      <th>255</th>\n",
       "      <td>256</td>\n",
       "      <td>0</td>\n",
       "      <td>4</td>\n",
       "      <td>6</td>\n",
       "      <td>5</td>\n",
       "      <td>2</td>\n",
       "      <td>0</td>\n",
       "    </tr>\n",
       "  </tbody>\n",
       "</table>\n",
       "</div>"
      ],
      "text/plain": [
       "     Match_No  D/N  Versus_Enc  Ground_Enc  Country_Enc  \\\n",
       "252       253    1           1          27            1   \n",
       "253       254    1           1          27            1   \n",
       "254       255    0           4           6            5   \n",
       "255       256    0           4           6            5   \n",
       "\n",
       "     Continent_Category_Enc  Half_Century  \n",
       "252                       1             1  \n",
       "253                       1             0  \n",
       "254                       2             1  \n",
       "255                       2             0  "
      ]
     },
     "execution_count": 140,
     "metadata": {},
     "output_type": "execute_result"
    }
   ],
   "source": [
    "test"
   ]
  },
  {
   "cell_type": "code",
   "execution_count": 141,
   "metadata": {},
   "outputs": [],
   "source": [
    "x_test = test.copy()\n",
    "x_test.drop('Half_Century',axis=1,inplace=True)"
   ]
  },
  {
   "cell_type": "code",
   "execution_count": 142,
   "metadata": {},
   "outputs": [
    {
     "data": {
      "text/html": [
       "<div>\n",
       "<style scoped>\n",
       "    .dataframe tbody tr th:only-of-type {\n",
       "        vertical-align: middle;\n",
       "    }\n",
       "\n",
       "    .dataframe tbody tr th {\n",
       "        vertical-align: top;\n",
       "    }\n",
       "\n",
       "    .dataframe thead th {\n",
       "        text-align: right;\n",
       "    }\n",
       "</style>\n",
       "<table border=\"1\" class=\"dataframe\">\n",
       "  <thead>\n",
       "    <tr style=\"text-align: right;\">\n",
       "      <th></th>\n",
       "      <th>Match_No</th>\n",
       "      <th>D/N</th>\n",
       "      <th>Versus_Enc</th>\n",
       "      <th>Ground_Enc</th>\n",
       "      <th>Country_Enc</th>\n",
       "      <th>Continent_Category_Enc</th>\n",
       "    </tr>\n",
       "  </thead>\n",
       "  <tbody>\n",
       "    <tr>\n",
       "      <th>252</th>\n",
       "      <td>253</td>\n",
       "      <td>1</td>\n",
       "      <td>1</td>\n",
       "      <td>27</td>\n",
       "      <td>1</td>\n",
       "      <td>1</td>\n",
       "    </tr>\n",
       "    <tr>\n",
       "      <th>253</th>\n",
       "      <td>254</td>\n",
       "      <td>1</td>\n",
       "      <td>1</td>\n",
       "      <td>27</td>\n",
       "      <td>1</td>\n",
       "      <td>1</td>\n",
       "    </tr>\n",
       "    <tr>\n",
       "      <th>254</th>\n",
       "      <td>255</td>\n",
       "      <td>0</td>\n",
       "      <td>4</td>\n",
       "      <td>6</td>\n",
       "      <td>5</td>\n",
       "      <td>2</td>\n",
       "    </tr>\n",
       "    <tr>\n",
       "      <th>255</th>\n",
       "      <td>256</td>\n",
       "      <td>0</td>\n",
       "      <td>4</td>\n",
       "      <td>6</td>\n",
       "      <td>5</td>\n",
       "      <td>2</td>\n",
       "    </tr>\n",
       "  </tbody>\n",
       "</table>\n",
       "</div>"
      ],
      "text/plain": [
       "     Match_No  D/N  Versus_Enc  Ground_Enc  Country_Enc  \\\n",
       "252       253    1           1          27            1   \n",
       "253       254    1           1          27            1   \n",
       "254       255    0           4           6            5   \n",
       "255       256    0           4           6            5   \n",
       "\n",
       "     Continent_Category_Enc  \n",
       "252                       1  \n",
       "253                       1  \n",
       "254                       2  \n",
       "255                       2  "
      ]
     },
     "execution_count": 142,
     "metadata": {},
     "output_type": "execute_result"
    }
   ],
   "source": [
    "x_test"
   ]
  },
  {
   "cell_type": "code",
   "execution_count": 161,
   "metadata": {},
   "outputs": [],
   "source": [
    "cat.fit(x,y)\n",
    "final = cat.predict(x_test)\n",
    "test['cat_Pred'] = final"
   ]
  },
  {
   "cell_type": "code",
   "execution_count": 162,
   "metadata": {},
   "outputs": [
    {
     "data": {
      "text/html": [
       "<div>\n",
       "<style scoped>\n",
       "    .dataframe tbody tr th:only-of-type {\n",
       "        vertical-align: middle;\n",
       "    }\n",
       "\n",
       "    .dataframe tbody tr th {\n",
       "        vertical-align: top;\n",
       "    }\n",
       "\n",
       "    .dataframe thead th {\n",
       "        text-align: right;\n",
       "    }\n",
       "</style>\n",
       "<table border=\"1\" class=\"dataframe\">\n",
       "  <thead>\n",
       "    <tr style=\"text-align: right;\">\n",
       "      <th></th>\n",
       "      <th>Match_No</th>\n",
       "      <th>D/N</th>\n",
       "      <th>Versus_Enc</th>\n",
       "      <th>Ground_Enc</th>\n",
       "      <th>Country_Enc</th>\n",
       "      <th>Continent_Category_Enc</th>\n",
       "      <th>Half_Century</th>\n",
       "      <th>dt_Pred</th>\n",
       "      <th>rf_Pred</th>\n",
       "      <th>gb_Pred</th>\n",
       "      <th>kn_Pred</th>\n",
       "      <th>lr_Pred</th>\n",
       "      <th>cat_Pred</th>\n",
       "    </tr>\n",
       "  </thead>\n",
       "  <tbody>\n",
       "    <tr>\n",
       "      <th>252</th>\n",
       "      <td>253</td>\n",
       "      <td>1</td>\n",
       "      <td>1</td>\n",
       "      <td>27</td>\n",
       "      <td>1</td>\n",
       "      <td>1</td>\n",
       "      <td>1</td>\n",
       "      <td>1</td>\n",
       "      <td>1</td>\n",
       "      <td>1</td>\n",
       "      <td>1</td>\n",
       "      <td>0</td>\n",
       "      <td>1</td>\n",
       "    </tr>\n",
       "    <tr>\n",
       "      <th>253</th>\n",
       "      <td>254</td>\n",
       "      <td>1</td>\n",
       "      <td>1</td>\n",
       "      <td>27</td>\n",
       "      <td>1</td>\n",
       "      <td>1</td>\n",
       "      <td>0</td>\n",
       "      <td>1</td>\n",
       "      <td>1</td>\n",
       "      <td>1</td>\n",
       "      <td>1</td>\n",
       "      <td>0</td>\n",
       "      <td>1</td>\n",
       "    </tr>\n",
       "    <tr>\n",
       "      <th>254</th>\n",
       "      <td>255</td>\n",
       "      <td>0</td>\n",
       "      <td>4</td>\n",
       "      <td>6</td>\n",
       "      <td>5</td>\n",
       "      <td>2</td>\n",
       "      <td>1</td>\n",
       "      <td>1</td>\n",
       "      <td>0</td>\n",
       "      <td>1</td>\n",
       "      <td>0</td>\n",
       "      <td>0</td>\n",
       "      <td>0</td>\n",
       "    </tr>\n",
       "    <tr>\n",
       "      <th>255</th>\n",
       "      <td>256</td>\n",
       "      <td>0</td>\n",
       "      <td>4</td>\n",
       "      <td>6</td>\n",
       "      <td>5</td>\n",
       "      <td>2</td>\n",
       "      <td>0</td>\n",
       "      <td>1</td>\n",
       "      <td>0</td>\n",
       "      <td>1</td>\n",
       "      <td>0</td>\n",
       "      <td>0</td>\n",
       "      <td>0</td>\n",
       "    </tr>\n",
       "  </tbody>\n",
       "</table>\n",
       "</div>"
      ],
      "text/plain": [
       "     Match_No  D/N  Versus_Enc  Ground_Enc  Country_Enc  \\\n",
       "252       253    1           1          27            1   \n",
       "253       254    1           1          27            1   \n",
       "254       255    0           4           6            5   \n",
       "255       256    0           4           6            5   \n",
       "\n",
       "     Continent_Category_Enc  Half_Century  dt_Pred  rf_Pred  gb_Pred  kn_Pred  \\\n",
       "252                       1             1        1        1        1        1   \n",
       "253                       1             0        1        1        1        1   \n",
       "254                       2             1        1        0        1        0   \n",
       "255                       2             0        1        0        1        0   \n",
       "\n",
       "     lr_Pred  cat_Pred  \n",
       "252        0         1  \n",
       "253        0         1  \n",
       "254        0         0  \n",
       "255        0         0  "
      ]
     },
     "execution_count": 162,
     "metadata": {},
     "output_type": "execute_result"
    }
   ],
   "source": [
    "test "
   ]
  },
  {
   "cell_type": "code",
   "execution_count": 158,
   "metadata": {},
   "outputs": [
    {
     "name": "stdout",
     "output_type": "stream",
     "text": [
      "Accuracy score :  0.5\n"
     ]
    },
    {
     "data": {
      "image/png": "[encoded data removed]",
      "text/plain": [
       "<Figure size 720x360 with 1 Axes>"
      ]
     },
     "metadata": {
      "needs_background": "light"
     },
     "output_type": "display_data"
    }
   ],
   "source": [
    "plt.figure(figsize=(10,5))\n",
    "plt.plot(test.index , test.Half_Century,marker='.',label='actuals')\n",
    "plt.plot(test.index , test.kn_Pred,marker='.',label='predictions',linestyle='--')\n",
    "print('Accuracy score : ',accuracy_score(test.Half_Century,test.kn_Pred))\n",
    "plt.grid()\n",
    "plt.legend()\n",
    "plt.show()"
   ]
  },
  {
   "cell_type": "code",
   "execution_count": null,
   "metadata": {},
   "outputs": [],
   "source": []
  },
  {
   "cell_type": "code",
   "execution_count": null,
   "metadata": {},
   "outputs": [],
   "source": []
  },
  {
   "cell_type": "markdown",
   "metadata": {},
   "source": [
    "\n",
    "### Real time test"
   ]
  },
  {
   "cell_type": "code",
   "execution_count": 110,
   "metadata": {},
   "outputs": [],
   "source": [
    "test = pd.read_csv('Test_data.csv')"
   ]
  },
  {
   "cell_type": "code",
   "execution_count": 111,
   "metadata": {},
   "outputs": [
    {
     "data": {
      "text/html": [
       "<div>\n",
       "<style scoped>\n",
       "    .dataframe tbody tr th:only-of-type {\n",
       "        vertical-align: middle;\n",
       "    }\n",
       "\n",
       "    .dataframe tbody tr th {\n",
       "        vertical-align: top;\n",
       "    }\n",
       "\n",
       "    .dataframe thead th {\n",
       "        text-align: right;\n",
       "    }\n",
       "</style>\n",
       "<table border=\"1\" class=\"dataframe\">\n",
       "  <thead>\n",
       "    <tr style=\"text-align: right;\">\n",
       "      <th></th>\n",
       "      <th>Match_No</th>\n",
       "      <th>D/N</th>\n",
       "      <th>Versus_Enc</th>\n",
       "      <th>Ground_Enc</th>\n",
       "      <th>Country_Enc</th>\n",
       "      <th>Continent_Category_Enc</th>\n",
       "    </tr>\n",
       "  </thead>\n",
       "  <tbody>\n",
       "    <tr>\n",
       "      <th>0</th>\n",
       "      <td>255</td>\n",
       "      <td>0</td>\n",
       "      <td>Soutth Africa</td>\n",
       "      <td>Boland Park</td>\n",
       "      <td>South Africa</td>\n",
       "      <td>SENA</td>\n",
       "    </tr>\n",
       "  </tbody>\n",
       "</table>\n",
       "</div>"
      ],
      "text/plain": [
       "   Match_No  D/N     Versus_Enc   Ground_Enc   Country_Enc  \\\n",
       "0       255    0  Soutth Africa  Boland Park  South Africa   \n",
       "\n",
       "  Continent_Category_Enc  \n",
       "0                   SENA  "
      ]
     },
     "execution_count": 111,
     "metadata": {},
     "output_type": "execute_result"
    }
   ],
   "source": [
    "test"
   ]
  },
  {
   "cell_type": "code",
   "execution_count": 121,
   "metadata": {},
   "outputs": [
    {
     "data": {
      "text/html": [
       "<div>\n",
       "<style scoped>\n",
       "    .dataframe tbody tr th:only-of-type {\n",
       "        vertical-align: middle;\n",
       "    }\n",
       "\n",
       "    .dataframe tbody tr th {\n",
       "        vertical-align: top;\n",
       "    }\n",
       "\n",
       "    .dataframe thead th {\n",
       "        text-align: right;\n",
       "    }\n",
       "</style>\n",
       "<table border=\"1\" class=\"dataframe\">\n",
       "  <thead>\n",
       "    <tr style=\"text-align: right;\">\n",
       "      <th></th>\n",
       "      <th>Match_No</th>\n",
       "      <th>Date</th>\n",
       "      <th>Versus</th>\n",
       "      <th>Ground</th>\n",
       "      <th>Country</th>\n",
       "      <th>Continent_Category</th>\n",
       "      <th>D/N</th>\n",
       "      <th>Dismissal_Type</th>\n",
       "      <th>Runs</th>\n",
       "      <th>Balls_Faced</th>\n",
       "      <th>Strike_Rate</th>\n",
       "      <th>Progressive_Aggr</th>\n",
       "      <th>Progressive_Avg</th>\n",
       "      <th>Progressive_Strike_Rate</th>\n",
       "      <th>Status</th>\n",
       "      <th>Dismissal_Type_info</th>\n",
       "      <th>Century</th>\n",
       "      <th>Half_Century</th>\n",
       "      <th>Dismissed_By</th>\n",
       "    </tr>\n",
       "  </thead>\n",
       "  <tbody>\n",
       "    <tr>\n",
       "      <th>6</th>\n",
       "      <td>7</td>\n",
       "      <td>26-09-2009</td>\n",
       "      <td>Pakistan</td>\n",
       "      <td>SuperSport Park</td>\n",
       "      <td>South Africa</td>\n",
       "      <td>SENA</td>\n",
       "      <td>1</td>\n",
       "      <td>c Umar Gul b Shahid Afridi</td>\n",
       "      <td>16</td>\n",
       "      <td>24</td>\n",
       "      <td>66.67</td>\n",
       "      <td>177</td>\n",
       "      <td>29.50</td>\n",
       "      <td>66.79</td>\n",
       "      <td>Out</td>\n",
       "      <td>c</td>\n",
       "      <td>0</td>\n",
       "      <td>0</td>\n",
       "      <td>Afridi</td>\n",
       "    </tr>\n",
       "    <tr>\n",
       "      <th>8</th>\n",
       "      <td>9</td>\n",
       "      <td>30-09-2009</td>\n",
       "      <td>West Indies</td>\n",
       "      <td>Wanderers Stadium</td>\n",
       "      <td>South Africa</td>\n",
       "      <td>SENA</td>\n",
       "      <td>1</td>\n",
       "      <td>not out</td>\n",
       "      <td>79</td>\n",
       "      <td>104</td>\n",
       "      <td>75.96</td>\n",
       "      <td>256</td>\n",
       "      <td>42.67</td>\n",
       "      <td>69.38</td>\n",
       "      <td>Not out</td>\n",
       "      <td>not out</td>\n",
       "      <td>0</td>\n",
       "      <td>1</td>\n",
       "      <td>not out</td>\n",
       "    </tr>\n",
       "    <tr>\n",
       "      <th>40</th>\n",
       "      <td>41</td>\n",
       "      <td>12-01-2011</td>\n",
       "      <td>South Africa</td>\n",
       "      <td>Kingsmead</td>\n",
       "      <td>South Africa</td>\n",
       "      <td>SENA</td>\n",
       "      <td>1</td>\n",
       "      <td>c G C Smith b D W Steyn</td>\n",
       "      <td>54</td>\n",
       "      <td>70</td>\n",
       "      <td>77.14</td>\n",
       "      <td>1533</td>\n",
       "      <td>46.45</td>\n",
       "      <td>82.29</td>\n",
       "      <td>Out</td>\n",
       "      <td>c</td>\n",
       "      <td>0</td>\n",
       "      <td>1</td>\n",
       "      <td>Steyn</td>\n",
       "    </tr>\n",
       "    <tr>\n",
       "      <th>41</th>\n",
       "      <td>42</td>\n",
       "      <td>15-01-2011</td>\n",
       "      <td>South Africa</td>\n",
       "      <td>Wanderers Stadium</td>\n",
       "      <td>South Africa</td>\n",
       "      <td>SENA</td>\n",
       "      <td>1</td>\n",
       "      <td>run out</td>\n",
       "      <td>22</td>\n",
       "      <td>34</td>\n",
       "      <td>64.71</td>\n",
       "      <td>1555</td>\n",
       "      <td>45.74</td>\n",
       "      <td>81.97</td>\n",
       "      <td>Out</td>\n",
       "      <td>run out</td>\n",
       "      <td>0</td>\n",
       "      <td>0</td>\n",
       "      <td>run out</td>\n",
       "    </tr>\n",
       "    <tr>\n",
       "      <th>42</th>\n",
       "      <td>43</td>\n",
       "      <td>18-01-2011</td>\n",
       "      <td>South Africa</td>\n",
       "      <td>Newlands</td>\n",
       "      <td>South Africa</td>\n",
       "      <td>SENA</td>\n",
       "      <td>1</td>\n",
       "      <td>c ?A B de Villiers b M Morkel</td>\n",
       "      <td>28</td>\n",
       "      <td>41</td>\n",
       "      <td>68.29</td>\n",
       "      <td>1583</td>\n",
       "      <td>45.23</td>\n",
       "      <td>81.68</td>\n",
       "      <td>Out</td>\n",
       "      <td>c</td>\n",
       "      <td>0</td>\n",
       "      <td>0</td>\n",
       "      <td>Morkel</td>\n",
       "    </tr>\n",
       "    <tr>\n",
       "      <th>43</th>\n",
       "      <td>44</td>\n",
       "      <td>21-01-2011</td>\n",
       "      <td>South Africa</td>\n",
       "      <td>St George's Park</td>\n",
       "      <td>South Africa</td>\n",
       "      <td>SENA</td>\n",
       "      <td>1</td>\n",
       "      <td>not out</td>\n",
       "      <td>87</td>\n",
       "      <td>92</td>\n",
       "      <td>94.57</td>\n",
       "      <td>1670</td>\n",
       "      <td>47.71</td>\n",
       "      <td>82.27</td>\n",
       "      <td>Not out</td>\n",
       "      <td>not out</td>\n",
       "      <td>0</td>\n",
       "      <td>1</td>\n",
       "      <td>not out</td>\n",
       "    </tr>\n",
       "    <tr>\n",
       "      <th>44</th>\n",
       "      <td>45</td>\n",
       "      <td>23-01-2011</td>\n",
       "      <td>South Africa</td>\n",
       "      <td>SuperSport Park</td>\n",
       "      <td>South Africa</td>\n",
       "      <td>SENA</td>\n",
       "      <td>0</td>\n",
       "      <td>c ?A B de Villiers b M Morkel</td>\n",
       "      <td>2</td>\n",
       "      <td>6</td>\n",
       "      <td>33.33</td>\n",
       "      <td>1672</td>\n",
       "      <td>46.44</td>\n",
       "      <td>82.12</td>\n",
       "      <td>Out</td>\n",
       "      <td>c</td>\n",
       "      <td>0</td>\n",
       "      <td>0</td>\n",
       "      <td>Morkel</td>\n",
       "    </tr>\n",
       "    <tr>\n",
       "      <th>122</th>\n",
       "      <td>123</td>\n",
       "      <td>05-12-2013</td>\n",
       "      <td>South Africa</td>\n",
       "      <td>Wanderers Stadium</td>\n",
       "      <td>South Africa</td>\n",
       "      <td>SENA</td>\n",
       "      <td>1</td>\n",
       "      <td>c J H Kallis b R McLaren</td>\n",
       "      <td>31</td>\n",
       "      <td>35</td>\n",
       "      <td>88.57</td>\n",
       "      <td>5154</td>\n",
       "      <td>52.06</td>\n",
       "      <td>88.92</td>\n",
       "      <td>Out</td>\n",
       "      <td>c</td>\n",
       "      <td>0</td>\n",
       "      <td>0</td>\n",
       "      <td>McLaren</td>\n",
       "    </tr>\n",
       "    <tr>\n",
       "      <th>123</th>\n",
       "      <td>124</td>\n",
       "      <td>08-12-2013</td>\n",
       "      <td>South Africa</td>\n",
       "      <td>Kingsmead</td>\n",
       "      <td>South Africa</td>\n",
       "      <td>SENA</td>\n",
       "      <td>0</td>\n",
       "      <td>c ?Q de Kock b L L Tsotsobe</td>\n",
       "      <td>0</td>\n",
       "      <td>5</td>\n",
       "      <td>0.00</td>\n",
       "      <td>5154</td>\n",
       "      <td>51.54</td>\n",
       "      <td>88.85</td>\n",
       "      <td>Out</td>\n",
       "      <td>c</td>\n",
       "      <td>0</td>\n",
       "      <td>0</td>\n",
       "      <td>Tsotsobe</td>\n",
       "    </tr>\n",
       "    <tr>\n",
       "      <th>202</th>\n",
       "      <td>203</td>\n",
       "      <td>01-02-2018</td>\n",
       "      <td>South Africa</td>\n",
       "      <td>Kingsmead</td>\n",
       "      <td>South Africa</td>\n",
       "      <td>SENA</td>\n",
       "      <td>1</td>\n",
       "      <td>c K Rabada b A L Phehlukwayo</td>\n",
       "      <td>112</td>\n",
       "      <td>119</td>\n",
       "      <td>94.12</td>\n",
       "      <td>9142</td>\n",
       "      <td>56.09</td>\n",
       "      <td>91.76</td>\n",
       "      <td>Out</td>\n",
       "      <td>c</td>\n",
       "      <td>1</td>\n",
       "      <td>0</td>\n",
       "      <td>Phehlukwayo</td>\n",
       "    </tr>\n",
       "    <tr>\n",
       "      <th>203</th>\n",
       "      <td>204</td>\n",
       "      <td>04-02-2018</td>\n",
       "      <td>South Africa</td>\n",
       "      <td>SuperSport Park</td>\n",
       "      <td>South Africa</td>\n",
       "      <td>SENA</td>\n",
       "      <td>1</td>\n",
       "      <td>not out</td>\n",
       "      <td>46</td>\n",
       "      <td>50</td>\n",
       "      <td>92.00</td>\n",
       "      <td>9188</td>\n",
       "      <td>56.37</td>\n",
       "      <td>91.76</td>\n",
       "      <td>Not out</td>\n",
       "      <td>not out</td>\n",
       "      <td>0</td>\n",
       "      <td>0</td>\n",
       "      <td>not out</td>\n",
       "    </tr>\n",
       "    <tr>\n",
       "      <th>204</th>\n",
       "      <td>205</td>\n",
       "      <td>07-02-2018</td>\n",
       "      <td>South Africa</td>\n",
       "      <td>Newlands</td>\n",
       "      <td>South Africa</td>\n",
       "      <td>SENA</td>\n",
       "      <td>1</td>\n",
       "      <td>not out</td>\n",
       "      <td>160</td>\n",
       "      <td>159</td>\n",
       "      <td>100.63</td>\n",
       "      <td>9348</td>\n",
       "      <td>57.35</td>\n",
       "      <td>91.90</td>\n",
       "      <td>Not out</td>\n",
       "      <td>not out</td>\n",
       "      <td>1</td>\n",
       "      <td>0</td>\n",
       "      <td>not out</td>\n",
       "    </tr>\n",
       "    <tr>\n",
       "      <th>205</th>\n",
       "      <td>206</td>\n",
       "      <td>10-02-2018</td>\n",
       "      <td>South Africa</td>\n",
       "      <td>Wanderers Stadium</td>\n",
       "      <td>South Africa</td>\n",
       "      <td>SENA</td>\n",
       "      <td>1</td>\n",
       "      <td>c D A Miller b C H Morris</td>\n",
       "      <td>75</td>\n",
       "      <td>83</td>\n",
       "      <td>90.36</td>\n",
       "      <td>9423</td>\n",
       "      <td>57.46</td>\n",
       "      <td>91.89</td>\n",
       "      <td>Out</td>\n",
       "      <td>c</td>\n",
       "      <td>0</td>\n",
       "      <td>1</td>\n",
       "      <td>Morris</td>\n",
       "    </tr>\n",
       "    <tr>\n",
       "      <th>206</th>\n",
       "      <td>207</td>\n",
       "      <td>13-02-2018</td>\n",
       "      <td>South Africa</td>\n",
       "      <td>St George's Park</td>\n",
       "      <td>South Africa</td>\n",
       "      <td>SENA</td>\n",
       "      <td>1</td>\n",
       "      <td>run out</td>\n",
       "      <td>36</td>\n",
       "      <td>54</td>\n",
       "      <td>66.67</td>\n",
       "      <td>9459</td>\n",
       "      <td>57.33</td>\n",
       "      <td>91.75</td>\n",
       "      <td>Out</td>\n",
       "      <td>run out</td>\n",
       "      <td>0</td>\n",
       "      <td>0</td>\n",
       "      <td>run out</td>\n",
       "    </tr>\n",
       "    <tr>\n",
       "      <th>207</th>\n",
       "      <td>208</td>\n",
       "      <td>16-02-2018</td>\n",
       "      <td>South Africa</td>\n",
       "      <td>SuperSport Park</td>\n",
       "      <td>South Africa</td>\n",
       "      <td>SENA</td>\n",
       "      <td>1</td>\n",
       "      <td>not out</td>\n",
       "      <td>129</td>\n",
       "      <td>96</td>\n",
       "      <td>134.38</td>\n",
       "      <td>9588</td>\n",
       "      <td>58.11</td>\n",
       "      <td>92.15</td>\n",
       "      <td>Not out</td>\n",
       "      <td>not out</td>\n",
       "      <td>1</td>\n",
       "      <td>0</td>\n",
       "      <td>not out</td>\n",
       "    </tr>\n",
       "  </tbody>\n",
       "</table>\n",
       "</div>"
      ],
      "text/plain": [
       "     Match_No        Date        Versus             Ground       Country  \\\n",
       "6           7  26-09-2009      Pakistan    SuperSport Park  South Africa   \n",
       "8           9  30-09-2009   West Indies  Wanderers Stadium  South Africa   \n",
       "40         41  12-01-2011  South Africa          Kingsmead  South Africa   \n",
       "41         42  15-01-2011  South Africa  Wanderers Stadium  South Africa   \n",
       "42         43  18-01-2011  South Africa           Newlands  South Africa   \n",
       "43         44  21-01-2011  South Africa   St George's Park  South Africa   \n",
       "44         45  23-01-2011  South Africa    SuperSport Park  South Africa   \n",
       "122       123  05-12-2013  South Africa  Wanderers Stadium  South Africa   \n",
       "123       124  08-12-2013  South Africa          Kingsmead  South Africa   \n",
       "202       203  01-02-2018  South Africa          Kingsmead  South Africa   \n",
       "203       204  04-02-2018  South Africa    SuperSport Park  South Africa   \n",
       "204       205  07-02-2018  South Africa           Newlands  South Africa   \n",
       "205       206  10-02-2018  South Africa  Wanderers Stadium  South Africa   \n",
       "206       207  13-02-2018  South Africa   St George's Park  South Africa   \n",
       "207       208  16-02-2018  South Africa    SuperSport Park  South Africa   \n",
       "\n",
       "    Continent_Category  D/N                 Dismissal_Type  Runs  Balls_Faced  \\\n",
       "6                 SENA    1     c Umar Gul b Shahid Afridi    16           24   \n",
       "8                 SENA    1                        not out    79          104   \n",
       "40                SENA    1        c G C Smith b D W Steyn    54           70   \n",
       "41                SENA    1                        run out    22           34   \n",
       "42                SENA    1  c ?A B de Villiers b M Morkel    28           41   \n",
       "43                SENA    1                        not out    87           92   \n",
       "44                SENA    0  c ?A B de Villiers b M Morkel     2            6   \n",
       "122               SENA    1       c J H Kallis b R McLaren    31           35   \n",
       "123               SENA    0    c ?Q de Kock b L L Tsotsobe     0            5   \n",
       "202               SENA    1   c K Rabada b A L Phehlukwayo   112          119   \n",
       "203               SENA    1                        not out    46           50   \n",
       "204               SENA    1                        not out   160          159   \n",
       "205               SENA    1      c D A Miller b C H Morris    75           83   \n",
       "206               SENA    1                        run out    36           54   \n",
       "207               SENA    1                        not out   129           96   \n",
       "\n",
       "     Strike_Rate  Progressive_Aggr  Progressive_Avg  Progressive_Strike_Rate  \\\n",
       "6          66.67               177            29.50                    66.79   \n",
       "8          75.96               256            42.67                    69.38   \n",
       "40         77.14              1533            46.45                    82.29   \n",
       "41         64.71              1555            45.74                    81.97   \n",
       "42         68.29              1583            45.23                    81.68   \n",
       "43         94.57              1670            47.71                    82.27   \n",
       "44         33.33              1672            46.44                    82.12   \n",
       "122        88.57              5154            52.06                    88.92   \n",
       "123         0.00              5154            51.54                    88.85   \n",
       "202        94.12              9142            56.09                    91.76   \n",
       "203        92.00              9188            56.37                    91.76   \n",
       "204       100.63              9348            57.35                    91.90   \n",
       "205        90.36              9423            57.46                    91.89   \n",
       "206        66.67              9459            57.33                    91.75   \n",
       "207       134.38              9588            58.11                    92.15   \n",
       "\n",
       "      Status Dismissal_Type_info  Century  Half_Century Dismissed_By  \n",
       "6        Out                   c        0             0       Afridi  \n",
       "8    Not out             not out        0             1      not out  \n",
       "40       Out                   c        0             1        Steyn  \n",
       "41       Out             run out        0             0      run out  \n",
       "42       Out                   c        0             0       Morkel  \n",
       "43   Not out             not out        0             1      not out  \n",
       "44       Out                   c        0             0       Morkel  \n",
       "122      Out                   c        0             0      McLaren  \n",
       "123      Out                   c        0             0     Tsotsobe  \n",
       "202      Out                   c        1             0  Phehlukwayo  \n",
       "203  Not out             not out        0             0      not out  \n",
       "204  Not out             not out        1             0      not out  \n",
       "205      Out                   c        0             1       Morris  \n",
       "206      Out             run out        0             0      run out  \n",
       "207  Not out             not out        1             0      not out  "
      ]
     },
     "execution_count": 121,
     "metadata": {},
     "output_type": "execute_result"
    }
   ],
   "source": [
    "df1.loc[df1.Country.str.contains('South')]"
   ]
  },
  {
   "cell_type": "code",
   "execution_count": null,
   "metadata": {},
   "outputs": [],
   "source": []
  },
  {
   "cell_type": "code",
   "execution_count": null,
   "metadata": {},
   "outputs": [],
   "source": []
  }
 ],
 "metadata": {
  "kernelspec": {
   "display_name": "Python 3",
   "language": "python",
   "name": "python3"
  },
  "language_info": {
   "codemirror_mode": {
    "name": "ipython",
    "version": 3
   },
   "file_extension": ".py",
   "mimetype": "text/x-python",
   "name": "python",
   "nbconvert_exporter": "python",
   "pygments_lexer": "ipython3",
   "version": "3.8.12"
  }
 },
 "nbformat": 4,
 "nbformat_minor": 4
}
